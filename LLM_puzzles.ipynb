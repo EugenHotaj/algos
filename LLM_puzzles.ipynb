{
  "cells": [
    {
      "cell_type": "markdown",
      "metadata": {
        "id": "view-in-github",
        "colab_type": "text"
      },
      "source": [
        "<a href=\"https://colab.research.google.com/github/EugenHotaj/algos/blob/master/LLM_puzzles.ipynb\" target=\"_parent\"><img src=\"https://colab.research.google.com/assets/colab-badge.svg\" alt=\"Open In Colab\"/></a>"
      ]
    },
    {
      "cell_type": "markdown",
      "id": "d8204266",
      "metadata": {
        "id": "d8204266"
      },
      "source": [
        "# LLM Training Puzzles\n",
        "\n",
        "by Sasha Rush ([@srush_nlp](https://twitter.com/srush_nlp))"
      ]
    },
    {
      "cell_type": "code",
      "execution_count": null,
      "id": "c65be14b",
      "metadata": {
        "id": "c65be14b"
      },
      "outputs": [],
      "source": [
        "%%capture\n",
        "# Uncomment to run in Colab\n",
        "!pip install -qqq git+https://github.com/chalk-diagrams/chalk asyncio\n",
        "!wget https://raw.githubusercontent.com/srush/LLM-Training-Puzzles/main/lib.py https://raw.githubusercontent.com/srush/LLM-Training-Puzzles/main/drawing.py"
      ]
    },
    {
      "cell_type": "code",
      "execution_count": null,
      "id": "d583c979",
      "metadata": {
        "id": "d583c979"
      },
      "outputs": [],
      "source": [
        "from typing import List\n",
        "from lib import Model, Dist, WeightGrad\n",
        "from drawing import draw, draw_group\n",
        "from chalk import vcat\n",
        "import asyncio\n",
        "import chalk\n",
        "chalk.set_svg_height(400)\n",
        "chalk.set_svg_draw_height(600)"
      ]
    },
    {
      "cell_type": "markdown",
      "id": "cc24dadb",
      "metadata": {
        "id": "cc24dadb"
      },
      "source": [
        "## Preliminaries\n",
        "\n",
        "The goal of these puzzles is to learn about distributed training of LLMs. However, we will be primarily concerned with a speed and memory efficiency of completing a single update of the models. To make things simpler, we will abstract away from the standard tensor-based transformer model, and just consider a state-less representation of each of the components of a multi-layer neural network.\n",
        "\n"
      ]
    },
    {
      "cell_type": "code",
      "execution_count": null,
      "id": "ad71f90c",
      "metadata": {
        "id": "ad71f90c"
      },
      "outputs": [],
      "source": [
        "model = Model(layers=2, batches=4)\n",
        "weights, opt_states, activations, grad_activations, grad_weights = model.storage()"
      ]
    },
    {
      "cell_type": "markdown",
      "id": "61cf6388",
      "metadata": {
        "id": "61cf6388"
      },
      "source": [
        "Our library has 5 parts:\n",
        "\n",
        "* Weights\n",
        "* Optimizer States - Values needed to update the weights\n",
        "* Activations - The internal values computed on the forward pass\n",
        "* Grad Activations - The gradients of the loss wrt to activations, needed for backward pass\n",
        "* Grad Weights - The gradients of the loss wrt to weights, needed for updates\n",
        "\n",
        "For these puzzles, you are *not allowed* to have local variables. You need to store each of these in the dictionary corresponding to its type.                      \n",
        "\n",
        "We begin by tracing the lifecycle of a single model update."
      ]
    },
    {
      "cell_type": "code",
      "execution_count": null,
      "id": "0335a17b",
      "metadata": {
        "id": "0335a17b",
        "colab": {
          "base_uri": "https://localhost:8080/",
          "height": 421
        },
        "outputId": "46da4c62-6e2d-4738-c559-80cae0c3a27c"
      },
      "outputs": [
        {
          "output_type": "execute_result",
          "data": {
            "text/plain": [
              "Activation(layer=0, layers=2, batches=frozenset({2, 3}), total_batches=4)"
            ],
            "image/svg+xml": "<?xml version=\"1.0\" encoding=\"utf-8\" ?>\n<svg baseProfile=\"full\" height=\"400\" version=\"1.1\" width=\"233\" xmlns=\"http://www.w3.org/2000/svg\" xmlns:ev=\"http://www.w3.org/2001/xml-events\" xmlns:xlink=\"http://www.w3.org/1999/xlink\"><defs><marker id=\"arrow\" markerHeight=\"3.5\" markerWidth=\"5\" orient=\"auto\" refX=\"5.0\" refY=\"1.7\"><polygon points=\"0,0 5,1.75 0,3.5\" /></marker></defs><g style=\"fill:white;\"><g transform=\"matrix(1.0, 0.0, 0.0, 1.0, 116.50000000000001, 199.99166666666667)\"><g transform=\"matrix(73.96825396825396, 0.0, 0.0, 73.96825396825396, 0.0, 0.0)\"><g><g transform=\"matrix(1.0, 0.0, 0.0, 1.0, -0.0, -2.5749999999999997)\"><g><g><g><g><g><g><g style=\"stroke: black;stroke-width: 3.6;\" transform=\"matrix(1.0, 0.0, 0.0, 1.0, -0.75, 0.0)\"><path d=\"M 0.0 0.0 L 1.5 0.0 L 1.5 1.05 L 0.0 1.05 L 0.0 0.0 Z\" style=\"vector-effect: non-scaling-stroke;\" /></g><g style=\"stroke: black;stroke-width: 3.6;\" transform=\"matrix(1.0, 0.0, 0.0, 1.0, -1.5, 0.0)\"><path d=\"M 0.0 0.0 L 3.0 0.0 L 3.0 0.0 L 0.0 0.0 L 0.0 0.0 Z\" style=\"vector-effect: non-scaling-stroke;\" /></g></g><g transform=\"matrix(1.0, 0.0, 0.0, 1.0, 0.0, 1.05)\"><g transform=\"matrix(0.0, -1.0, 1.0, 0.0, 0.0, 0.0)\"><g /></g></g></g><g transform=\"matrix(1.0, 0.0, 0.0, 1.0, 0.0, 2.05)\"><g><g style=\"stroke: black;stroke-width: 3.6;\" transform=\"matrix(1.0, 0.0, 0.0, 1.0, -0.75, 0.0)\"><path d=\"M 0.0 0.0 L 1.5 0.0 L 1.5 1.05 L 0.0 1.05 L 0.0 0.0 Z\" style=\"vector-effect: non-scaling-stroke;\" /></g><g style=\"stroke: black;stroke-width: 3.6;\" transform=\"matrix(1.0, 0.0, 0.0, 1.0, -1.5, -1.0)\"><path d=\"M 0.0 0.0 L 3.0 0.0 L 3.0 1.0 L 0.0 1.0 L 0.0 0.0 Z\" style=\"vector-effect: non-scaling-stroke;\" /></g></g></g></g><g transform=\"matrix(1.0, 0.0, 0.0, 1.0, 0.0, 3.0999999999999996)\"><g transform=\"matrix(0.0, -1.0, 1.0, 0.0, 0.0, 0.0)\"><g /></g></g></g><g transform=\"matrix(1.0, 0.0, 0.0, 1.0, 0.0, 4.1)\"><g><g style=\"stroke: black;stroke-width: 3.6;\" transform=\"matrix(1.0, 0.0, 0.0, 1.0, -0.75, 0.0)\"><path d=\"M 0.0 0.0 L 1.5 0.0 L 1.5 1.05 L 0.0 1.05 L 0.0 0.0 Z\" style=\"vector-effect: non-scaling-stroke;\" /></g><g style=\"stroke: black;stroke-width: 3.6;\" transform=\"matrix(1.0, 0.0, 0.0, 1.0, -1.5, -1.0)\"><path d=\"M 0.0 0.0 L 3.0 0.0 L 3.0 1.0 L 0.0 1.0 L 0.0 0.0 Z\" style=\"vector-effect: non-scaling-stroke;\" /></g></g></g></g><g><g><g><g><g><g><g /><g /></g><g /></g><g transform=\"matrix(1.0, 0.0, 0.0, 1.0, 0.0, 1.05)\"><g transform=\"matrix(0.0, -1.0, 1.0, 0.0, 0.0, 0.0)\"><g /></g></g></g><g transform=\"matrix(1.0, 0.0, 0.0, 1.0, 0.0, 2.05)\"><g><g><g /><g /></g><g /></g></g></g><g transform=\"matrix(1.0, 0.0, 0.0, 1.0, 0.0, 3.0999999999999996)\"><g transform=\"matrix(0.0, -1.0, 1.0, 0.0, 0.0, 0.0)\"><g /></g></g></g><g transform=\"matrix(1.0, 0.0, 0.0, 1.0, 0.0, 4.1)\"><g><g><g transform=\"matrix(1.0, 0.0, 0.0, 1.0, 0.0, 0.025)\"><g transform=\"matrix(1.0, 0.0, 0.0, 1.0, 0.0, 0.5)\"><g><g><g /><g style=\"fill: #008000;stroke: #ffffff;stroke-width: 0.18;fill-opacity: 1;\" transform=\"matrix(1.0, 0.0, 0.0, 1.0, 0.0, -0.5)\"><path d=\"M 0.0 0.0 L 0.375 0.0 L 0.375 1.0 L 0.0 1.0 L 0.0 0.0 Z\" style=\"vector-effect: non-scaling-stroke;\" /></g></g><g style=\"fill: #008000;stroke: #ffffff;stroke-width: 0.18;fill-opacity: 1;\" transform=\"matrix(1.0, 0.0, 0.0, 1.0, 0.375, -0.5)\"><path d=\"M 0.0 0.0 L 0.375 0.0 L 0.375 1.0 L 0.0 1.0 L 0.0 0.0 Z\" style=\"vector-effect: non-scaling-stroke;\" /></g></g></g></g><g /></g><g /></g></g></g></g></g><g /></g></g></g></g></svg>"
          },
          "metadata": {},
          "execution_count": 4
        }
      ],
      "source": [
        "# Get the input activations to the model for batches 2, 3\n",
        "activations[0] = model.get_activation(batches=[2, 3])\n",
        "activations[0]"
      ]
    },
    {
      "cell_type": "code",
      "execution_count": null,
      "id": "962ac1d8",
      "metadata": {
        "id": "962ac1d8",
        "colab": {
          "base_uri": "https://localhost:8080/",
          "height": 421
        },
        "outputId": "1265dd24-6459-4046-e32b-19bcc187731d"
      },
      "outputs": [
        {
          "output_type": "execute_result",
          "data": {
            "text/plain": [
              "Weight(layer=0, layers=2, step=0, shards=frozenset({0}), total=1)"
            ],
            "image/svg+xml": "<?xml version=\"1.0\" encoding=\"utf-8\" ?>\n<svg baseProfile=\"full\" height=\"400\" version=\"1.1\" width=\"233\" xmlns=\"http://www.w3.org/2000/svg\" xmlns:ev=\"http://www.w3.org/2001/xml-events\" xmlns:xlink=\"http://www.w3.org/1999/xlink\"><defs><marker id=\"arrow\" markerHeight=\"3.5\" markerWidth=\"5\" orient=\"auto\" refX=\"5.0\" refY=\"1.7\"><polygon points=\"0,0 5,1.75 0,3.5\" /></marker></defs><g style=\"fill:white;\"><g transform=\"matrix(1.0, 0.0, 0.0, 1.0, 116.50000000000001, 199.99166666666667)\"><g transform=\"matrix(73.96825396825396, 0.0, 0.0, 73.96825396825396, 0.0, 0.0)\"><g><g transform=\"matrix(1.0, 0.0, 0.0, 1.0, -0.0, -2.5749999999999997)\"><g><g><g><g><g><g><g style=\"stroke: black;stroke-width: 3.6;\" transform=\"matrix(1.0, 0.0, 0.0, 1.0, -0.75, 0.0)\"><path d=\"M 0.0 0.0 L 1.5 0.0 L 1.5 1.05 L 0.0 1.05 L 0.0 0.0 Z\" style=\"vector-effect: non-scaling-stroke;\" /></g><g style=\"stroke: black;stroke-width: 3.6;\" transform=\"matrix(1.0, 0.0, 0.0, 1.0, -1.5, 0.0)\"><path d=\"M 0.0 0.0 L 3.0 0.0 L 3.0 0.0 L 0.0 0.0 L 0.0 0.0 Z\" style=\"vector-effect: non-scaling-stroke;\" /></g></g><g transform=\"matrix(1.0, 0.0, 0.0, 1.0, 0.0, 1.05)\"><g transform=\"matrix(0.0, -1.0, 1.0, 0.0, 0.0, 0.0)\"><g /></g></g></g><g transform=\"matrix(1.0, 0.0, 0.0, 1.0, 0.0, 2.05)\"><g><g style=\"stroke: black;stroke-width: 3.6;\" transform=\"matrix(1.0, 0.0, 0.0, 1.0, -0.75, 0.0)\"><path d=\"M 0.0 0.0 L 1.5 0.0 L 1.5 1.05 L 0.0 1.05 L 0.0 0.0 Z\" style=\"vector-effect: non-scaling-stroke;\" /></g><g style=\"stroke: black;stroke-width: 3.6;\" transform=\"matrix(1.0, 0.0, 0.0, 1.0, -1.5, -1.0)\"><path d=\"M 0.0 0.0 L 3.0 0.0 L 3.0 1.0 L 0.0 1.0 L 0.0 0.0 Z\" style=\"vector-effect: non-scaling-stroke;\" /></g></g></g></g><g transform=\"matrix(1.0, 0.0, 0.0, 1.0, 0.0, 3.0999999999999996)\"><g transform=\"matrix(0.0, -1.0, 1.0, 0.0, 0.0, 0.0)\"><g /></g></g></g><g transform=\"matrix(1.0, 0.0, 0.0, 1.0, 0.0, 4.1)\"><g><g style=\"stroke: black;stroke-width: 3.6;\" transform=\"matrix(1.0, 0.0, 0.0, 1.0, -0.75, 0.0)\"><path d=\"M 0.0 0.0 L 1.5 0.0 L 1.5 1.05 L 0.0 1.05 L 0.0 0.0 Z\" style=\"vector-effect: non-scaling-stroke;\" /></g><g style=\"stroke: black;stroke-width: 3.6;\" transform=\"matrix(1.0, 0.0, 0.0, 1.0, -1.5, -1.0)\"><path d=\"M 0.0 0.0 L 3.0 0.0 L 3.0 1.0 L 0.0 1.0 L 0.0 0.0 Z\" style=\"vector-effect: non-scaling-stroke;\" /></g></g></g></g><g><g><g><g><g><g><g /><g /></g><g /></g><g transform=\"matrix(1.0, 0.0, 0.0, 1.0, 0.0, 1.05)\"><g transform=\"matrix(0.0, -1.0, 1.0, 0.0, 0.0, 0.0)\"><g /></g></g></g><g transform=\"matrix(1.0, 0.0, 0.0, 1.0, 0.0, 2.05)\"><g><g><g /><g /></g><g /></g></g></g><g transform=\"matrix(1.0, 0.0, 0.0, 1.0, 0.0, 3.0999999999999996)\"><g transform=\"matrix(0.0, -1.0, 1.0, 0.0, 0.0, 0.0)\"><g /></g></g></g><g transform=\"matrix(1.0, 0.0, 0.0, 1.0, 0.0, 4.1)\"><g><g><g /><g><g /><g style=\"fill: #008000;stroke: #ffffff;stroke-width: 0.18;\" transform=\"matrix(1.0, 0.0, 0.0, 1.0, -1.5, -1.0)\"><path d=\"M 0.0 0.0 L 3.0 0.0 L 3.0 1.0 L 0.0 1.0 L 0.0 0.0 Z\" style=\"vector-effect: non-scaling-stroke;\" /></g></g></g><g /></g></g></g></g></g><g /></g></g></g></g></svg>"
          },
          "metadata": {},
          "execution_count": 5
        }
      ],
      "source": [
        "# Load the weights (random) for layers 0 and 1\n",
        "for i in range(model.LAYERS):\n",
        "    weights[i], opt_states[i] = model.load_weights(i)\n",
        "weights[0]"
      ]
    },
    {
      "cell_type": "code",
      "execution_count": null,
      "id": "f7a83439",
      "metadata": {
        "id": "f7a83439",
        "colab": {
          "base_uri": "https://localhost:8080/",
          "height": 421
        },
        "outputId": "b6d46151-a650-4235-b628-e7fd2ca8745d"
      },
      "outputs": [
        {
          "output_type": "execute_result",
          "data": {
            "text/plain": [
              "Activation(layer=1, layers=2, batches=frozenset({2, 3}), total_batches=4)"
            ],
            "image/svg+xml": "<?xml version=\"1.0\" encoding=\"utf-8\" ?>\n<svg baseProfile=\"full\" height=\"400\" version=\"1.1\" width=\"233\" xmlns=\"http://www.w3.org/2000/svg\" xmlns:ev=\"http://www.w3.org/2001/xml-events\" xmlns:xlink=\"http://www.w3.org/1999/xlink\"><defs><marker id=\"arrow\" markerHeight=\"3.5\" markerWidth=\"5\" orient=\"auto\" refX=\"5.0\" refY=\"1.7\"><polygon points=\"0,0 5,1.75 0,3.5\" /></marker></defs><g style=\"fill:white;\"><g transform=\"matrix(1.0, 0.0, 0.0, 1.0, 116.50000000000001, 199.99166666666667)\"><g transform=\"matrix(73.96825396825396, 0.0, 0.0, 73.96825396825396, 0.0, 0.0)\"><g><g transform=\"matrix(1.0, 0.0, 0.0, 1.0, -0.0, -2.5749999999999997)\"><g><g><g><g><g><g><g style=\"stroke: black;stroke-width: 3.6;\" transform=\"matrix(1.0, 0.0, 0.0, 1.0, -0.75, 0.0)\"><path d=\"M 0.0 0.0 L 1.5 0.0 L 1.5 1.05 L 0.0 1.05 L 0.0 0.0 Z\" style=\"vector-effect: non-scaling-stroke;\" /></g><g style=\"stroke: black;stroke-width: 3.6;\" transform=\"matrix(1.0, 0.0, 0.0, 1.0, -1.5, 0.0)\"><path d=\"M 0.0 0.0 L 3.0 0.0 L 3.0 0.0 L 0.0 0.0 L 0.0 0.0 Z\" style=\"vector-effect: non-scaling-stroke;\" /></g></g><g transform=\"matrix(1.0, 0.0, 0.0, 1.0, 0.0, 1.05)\"><g transform=\"matrix(0.0, -1.0, 1.0, 0.0, 0.0, 0.0)\"><g /></g></g></g><g transform=\"matrix(1.0, 0.0, 0.0, 1.0, 0.0, 2.05)\"><g><g style=\"stroke: black;stroke-width: 3.6;\" transform=\"matrix(1.0, 0.0, 0.0, 1.0, -0.75, 0.0)\"><path d=\"M 0.0 0.0 L 1.5 0.0 L 1.5 1.05 L 0.0 1.05 L 0.0 0.0 Z\" style=\"vector-effect: non-scaling-stroke;\" /></g><g style=\"stroke: black;stroke-width: 3.6;\" transform=\"matrix(1.0, 0.0, 0.0, 1.0, -1.5, -1.0)\"><path d=\"M 0.0 0.0 L 3.0 0.0 L 3.0 1.0 L 0.0 1.0 L 0.0 0.0 Z\" style=\"vector-effect: non-scaling-stroke;\" /></g></g></g></g><g transform=\"matrix(1.0, 0.0, 0.0, 1.0, 0.0, 3.0999999999999996)\"><g transform=\"matrix(0.0, -1.0, 1.0, 0.0, 0.0, 0.0)\"><g /></g></g></g><g transform=\"matrix(1.0, 0.0, 0.0, 1.0, 0.0, 4.1)\"><g><g style=\"stroke: black;stroke-width: 3.6;\" transform=\"matrix(1.0, 0.0, 0.0, 1.0, -0.75, 0.0)\"><path d=\"M 0.0 0.0 L 1.5 0.0 L 1.5 1.05 L 0.0 1.05 L 0.0 0.0 Z\" style=\"vector-effect: non-scaling-stroke;\" /></g><g style=\"stroke: black;stroke-width: 3.6;\" transform=\"matrix(1.0, 0.0, 0.0, 1.0, -1.5, -1.0)\"><path d=\"M 0.0 0.0 L 3.0 0.0 L 3.0 1.0 L 0.0 1.0 L 0.0 0.0 Z\" style=\"vector-effect: non-scaling-stroke;\" /></g></g></g></g><g><g><g><g><g><g><g /><g /></g><g /></g><g transform=\"matrix(1.0, 0.0, 0.0, 1.0, 0.0, 1.05)\"><g transform=\"matrix(0.0, -1.0, 1.0, 0.0, 0.0, 0.0)\"><g /></g></g></g><g transform=\"matrix(1.0, 0.0, 0.0, 1.0, 0.0, 2.05)\"><g><g><g transform=\"matrix(1.0, 0.0, 0.0, 1.0, 0.0, 0.025)\"><g transform=\"matrix(1.0, 0.0, 0.0, 1.0, 0.0, 0.5)\"><g><g><g /><g style=\"fill: #bfbf00;stroke: #ffffff;stroke-width: 0.18;fill-opacity: 1;\" transform=\"matrix(1.0, 0.0, 0.0, 1.0, 0.0, -0.5)\"><path d=\"M 0.0 0.0 L 0.375 0.0 L 0.375 1.0 L 0.0 1.0 L 0.0 0.0 Z\" style=\"vector-effect: non-scaling-stroke;\" /></g></g><g style=\"fill: #bfbf00;stroke: #ffffff;stroke-width: 0.18;fill-opacity: 1;\" transform=\"matrix(1.0, 0.0, 0.0, 1.0, 0.375, -0.5)\"><path d=\"M 0.0 0.0 L 0.375 0.0 L 0.375 1.0 L 0.0 1.0 L 0.0 0.0 Z\" style=\"vector-effect: non-scaling-stroke;\" /></g></g></g></g><g /></g><g /></g></g></g><g transform=\"matrix(1.0, 0.0, 0.0, 1.0, 0.0, 3.0999999999999996)\"><g transform=\"matrix(0.0, -1.0, 1.0, 0.0, 0.0, 0.0)\"><g /></g></g></g><g transform=\"matrix(1.0, 0.0, 0.0, 1.0, 0.0, 4.1)\"><g><g><g /><g /></g><g /></g></g></g></g></g><g /></g></g></g></g></svg>"
          },
          "metadata": {},
          "execution_count": 6
        }
      ],
      "source": [
        "# Activations can be moved forward a layer if you have the weights.\n",
        "activations[1] = model.forward(layer=0, inp=activations[0], weight=weights[0])\n",
        "activations[2] = model.forward(layer=1, inp=activations[1], weight=weights[1])\n",
        "activations[1]"
      ]
    },
    {
      "cell_type": "code",
      "execution_count": null,
      "id": "81d904e3",
      "metadata": {
        "id": "81d904e3",
        "colab": {
          "base_uri": "https://localhost:8080/",
          "height": 421
        },
        "outputId": "7af332b5-b1e5-4d94-fb37-069bb2ba8258"
      },
      "outputs": [
        {
          "output_type": "execute_result",
          "data": {
            "text/plain": [
              "Compose(envelope=<chalk.envelope.Envelope object at 0x7a2ea00c7910>, diagram1=Compose(envelope=<chalk.envelope.Envelope object at 0x7a2ea01e5870>, diagram1=Compose(envelope=<chalk.envelope.Envelope object at 0x7a2ea01e75b0>, diagram1=Compose(envelope=<chalk.envelope.Envelope object at 0x7a2ea01e51e0>, diagram1=Compose(envelope=<chalk.envelope.Envelope object at 0x7a2ea002e5f0>, diagram1=Compose(envelope=<chalk.envelope.Envelope object at 0x7a2ea01e5e10>, diagram1=Primitive(shape=Path(loc_trails=[Located(trail=Trail(segments=[Segment(offset=Vec2(1.5, 0.0), origin=Vec2(0.0, 0.0)), Segment(offset=Vec2(0.0, 1.05), origin=Vec2(0.0, 0.0)), Segment(offset=Vec2(-1.5, 0.0), origin=Vec2(0.0, 0.0)), Segment(offset=Vec2(0.0, -1.05), origin=Vec2(0.0, 0.0))], closed=True), location=Vec2(0.0, 0.0))]), style=Style(line_width_=(<WidthType.NORMALIZED: 2>, 0.2), line_color_=None, fill_color_=None, fill_opacity_=None, dashing_=None, output_size=None), transform=Affine(1.0, 0.0, -0.75,\n",
              "       0.0, 1.0, 0.0)), diagram2=Primitive(shape=Path(loc_trails=[Located(trail=Trail(segments=[Segment(offset=Vec2(3.0, 0.0), origin=Vec2(0.0, 0.0)), Segment(offset=Vec2(0.0, 0.0), origin=Vec2(0.0, 0.0)), Segment(offset=Vec2(-3.0, 0.0), origin=Vec2(0.0, 0.0)), Segment(offset=Vec2(0.0, 0.0), origin=Vec2(0.0, 0.0))], closed=True), location=Vec2(0.0, 0.0))]), style=Style(line_width_=(<WidthType.NORMALIZED: 2>, 0.2), line_color_=None, fill_color_=None, fill_opacity_=None, dashing_=None, output_size=None), transform=Affine(1.0, 0.0, -1.5,\n",
              "       0.0, 1.0, 0.0))), diagram2=ApplyTransform(transform=Affine(1.0, 0.0, 0.0,\n",
              "       0.0, 1.0, 1.05), diagram=ApplyTransform(transform=Affine(0.0, 1.0, 0.0,\n",
              "       -1.0, 0.0, 0.0), diagram=Empty()))), diagram2=ApplyTransform(transform=Affine(1.0, 0.0, 0.0,\n",
              "       0.0, 1.0, 2.05), diagram=Compose(envelope=<chalk.envelope.Envelope object at 0x7a2ea002f700>, diagram1=Primitive(shape=Path(loc_trails=[Located(trail=Trail(segments=[Segment(offset=Vec2(1.5, 0.0), origin=Vec2(0.0, 0.0)), Segment(offset=Vec2(0.0, 1.05), origin=Vec2(0.0, 0.0)), Segment(offset=Vec2(-1.5, 0.0), origin=Vec2(0.0, 0.0)), Segment(offset=Vec2(0.0, -1.05), origin=Vec2(0.0, 0.0))], closed=True), location=Vec2(0.0, 0.0))]), style=Style(line_width_=(<WidthType.NORMALIZED: 2>, 0.2), line_color_=None, fill_color_=None, fill_opacity_=None, dashing_=None, output_size=None), transform=Affine(1.0, 0.0, -0.75,\n",
              "       0.0, 1.0, 0.0)), diagram2=Primitive(shape=Path(loc_trails=[Located(trail=Trail(segments=[Segment(offset=Vec2(3.0, 0.0), origin=Vec2(0.0, 0.0)), Segment(offset=Vec2(0.0, 1.0), origin=Vec2(0.0, 0.0)), Segment(offset=Vec2(-3.0, 0.0), origin=Vec2(0.0, 0.0)), Segment(offset=Vec2(0.0, -1.0), origin=Vec2(0.0, 0.0))], closed=True), location=Vec2(0.0, 0.0))]), style=Style(line_width_=(<WidthType.NORMALIZED: 2>, 0.2), line_color_=None, fill_color_=None, fill_opacity_=None, dashing_=None, output_size=None), transform=Affine(1.0, 0.0, -1.5,\n",
              "       0.0, 1.0, -1.0))))), diagram2=ApplyTransform(transform=Affine(1.0, 0.0, 0.0,\n",
              "       0.0, 1.0, 3.0999999999999996), diagram=ApplyTransform(transform=Affine(0.0, 1.0, 0.0,\n",
              "       -1.0, 0.0, 0.0), diagram=Empty()))), diagram2=ApplyTransform(transform=Affine(1.0, 0.0, 0.0,\n",
              "       0.0, 1.0, 4.1), diagram=Compose(envelope=<chalk.envelope.Envelope object at 0x7a2ea002fe80>, diagram1=Primitive(shape=Path(loc_trails=[Located(trail=Trail(segments=[Segment(offset=Vec2(1.5, 0.0), origin=Vec2(0.0, 0.0)), Segment(offset=Vec2(0.0, 1.05), origin=Vec2(0.0, 0.0)), Segment(offset=Vec2(-1.5, 0.0), origin=Vec2(0.0, 0.0)), Segment(offset=Vec2(0.0, -1.05), origin=Vec2(0.0, 0.0))], closed=True), location=Vec2(0.0, 0.0))]), style=Style(line_width_=(<WidthType.NORMALIZED: 2>, 0.2), line_color_=None, fill_color_=None, fill_opacity_=None, dashing_=None, output_size=None), transform=Affine(1.0, 0.0, -0.75,\n",
              "       0.0, 1.0, 0.0)), diagram2=Primitive(shape=Path(loc_trails=[Located(trail=Trail(segments=[Segment(offset=Vec2(3.0, 0.0), origin=Vec2(0.0, 0.0)), Segment(offset=Vec2(0.0, 1.0), origin=Vec2(0.0, 0.0)), Segment(offset=Vec2(-3.0, 0.0), origin=Vec2(0.0, 0.0)), Segment(offset=Vec2(0.0, -1.0), origin=Vec2(0.0, 0.0))], closed=True), location=Vec2(0.0, 0.0))]), style=Style(line_width_=(<WidthType.NORMALIZED: 2>, 0.2), line_color_=None, fill_color_=None, fill_opacity_=None, dashing_=None, output_size=None), transform=Affine(1.0, 0.0, -1.5,\n",
              "       0.0, 1.0, -1.0))))), diagram2=Compose(envelope=<chalk.envelope.Envelope object at 0x7a2ea00c7a00>, diagram1=Compose(envelope=<chalk.envelope.Envelope object at 0x7a2ea00c7d90>, diagram1=Compose(envelope=<chalk.envelope.Envelope object at 0x7a2ea263b700>, diagram1=Empty(), diagram2=Compose(envelope=<chalk.envelope.Envelope object at 0x7a2ea00a9ba0>, diagram1=Compose(envelope=<chalk.envelope.Envelope object at 0x7a2ea00a8eb0>, diagram1=Compose(envelope=<chalk.envelope.Envelope object at 0x7a2ea006b340>, diagram1=Compose(envelope=<chalk.envelope.Envelope object at 0x7a2ea0036d10>, diagram1=Compose(envelope=<chalk.envelope.Envelope object at 0x7a2ea00a9ea0>, diagram1=Compose(envelope=<chalk.envelope.Envelope object at 0x7a2ea00aa110>, diagram1=Empty(), diagram2=Empty()), diagram2=Empty()), diagram2=ApplyTransform(transform=Affine(1.0, 0.0, 0.0,\n",
              "       0.0, 1.0, 1.05), diagram=ApplyTransform(transform=Affine(0.0, 1.0, 0.0,\n",
              "       -1.0, 0.0, 0.0), diagram=Empty()))), diagram2=ApplyTransform(transform=Affine(1.0, 0.0, 0.0,\n",
              "       0.0, 1.0, 2.05), diagram=Compose(envelope=<chalk.envelope.Envelope object at 0x7a2ea00a85e0>, diagram1=Compose(envelope=<chalk.envelope.Envelope object at 0x7a2ea00a8790>, diagram1=Empty(), diagram2=Empty()), diagram2=Empty()))), diagram2=ApplyTransform(transform=Affine(1.0, 0.0, 0.0,\n",
              "       0.0, 1.0, 3.0999999999999996), diagram=ApplyTransform(transform=Affine(0.0, 1.0, 0.0,\n",
              "       -1.0, 0.0, 0.0), diagram=Empty()))), diagram2=ApplyTransform(transform=Affine(1.0, 0.0, 0.0,\n",
              "       0.0, 1.0, 4.1), diagram=Compose(envelope=<chalk.envelope.Envelope object at 0x7a2ea006afb0>, diagram1=Compose(envelope=<chalk.envelope.Envelope object at 0x7a2ea006ae30>, diagram1=ApplyStyle(style=Style(line_width_=None, line_color_=None, fill_color_=None, fill_opacity_=1, dashing_=None, output_size=None), diagram=ApplyStyle(style=Style(line_width_=None, line_color_=None, fill_color_=<Color green>, fill_opacity_=None, dashing_=None, output_size=None), diagram=ApplyTransform(transform=Affine(1.0, 0.0, 0.0,\n",
              "       0.0, 1.0, 0.025), diagram=ApplyTransform(transform=Affine(1.0, 0.0, 0.0,\n",
              "       0.0, 1.0, 0.5), diagram=Compose(envelope=<chalk.envelope.Envelope object at 0x7a2ea0068970>, diagram1=Compose(envelope=<chalk.envelope.Envelope object at 0x7a2ea0037610>, diagram1=Empty(), diagram2=Primitive(shape=Path(loc_trails=[Located(trail=Trail(segments=[Segment(offset=Vec2(0.375, 0.0), origin=Vec2(0.0, 0.0)), Segment(offset=Vec2(0.0, 1.0), origin=Vec2(0.0, 0.0)), Segment(offset=Vec2(-0.375, 0.0), origin=Vec2(0.0, 0.0)), Segment(offset=Vec2(0.0, -1.0), origin=Vec2(0.0, 0.0))], closed=True), location=Vec2(0.0, 0.0))]), style=Style(line_width_=(<WidthType.NORMALIZED: 2>, 0.01), line_color_=<Color white>, fill_color_=None, fill_opacity_=None, dashing_=None, output_size=None), transform=Affine(1.0, 0.0, 0.0,\n",
              "       0.0, 1.0, -0.5))), diagram2=Primitive(shape=Path(loc_trails=[Located(trail=Trail(segments=[Segment(offset=Vec2(0.375, 0.0), origin=Vec2(0.0, 0.0)), Segment(offset=Vec2(0.0, 1.0), origin=Vec2(0.0, 0.0)), Segment(offset=Vec2(-0.375, 0.0), origin=Vec2(0.0, 0.0)), Segment(offset=Vec2(0.0, -1.0), origin=Vec2(0.0, 0.0))], closed=True), location=Vec2(0.0, 0.0))]), style=Style(line_width_=(<WidthType.NORMALIZED: 2>, 0.01), line_color_=<Color white>, fill_color_=None, fill_opacity_=None, dashing_=None, output_size=None), transform=Affine(1.0, 0.0, 0.375,\n",
              "       0.0, 1.0, -0.5))))))), diagram2=Empty()), diagram2=Empty())))), diagram2=Compose(envelope=<chalk.envelope.Envelope object at 0x7a2ea00c46d0>, diagram1=Compose(envelope=<chalk.envelope.Envelope object at 0x7a2ea00c4ca0>, diagram1=Compose(envelope=<chalk.envelope.Envelope object at 0x7a2ea00b1210>, diagram1=Compose(envelope=<chalk.envelope.Envelope object at 0x7a2ea00aa830>, diagram1=Compose(envelope=<chalk.envelope.Envelope object at 0x7a2ea00c5c90>, diagram1=Compose(envelope=<chalk.envelope.Envelope object at 0x7a2ea00c5f00>, diagram1=Empty(), diagram2=Empty()), diagram2=Empty()), diagram2=ApplyTransform(transform=Affine(1.0, 0.0, 0.0,\n",
              "       0.0, 1.0, 1.05), diagram=ApplyTransform(transform=Affine(0.0, 1.0, 0.0,\n",
              "       -1.0, 0.0, 0.0), diagram=Empty()))), diagram2=ApplyTransform(transform=Affine(1.0, 0.0, 0.0,\n",
              "       0.0, 1.0, 2.05), diagram=Compose(envelope=<chalk.envelope.Envelope object at 0x7a2ea00c45e0>, diagram1=Compose(envelope=<chalk.envelope.Envelope object at 0x7a2ea00c4460>, diagram1=ApplyStyle(style=Style(line_width_=None, line_color_=None, fill_color_=None, fill_opacity_=1, dashing_=None, output_size=None), diagram=ApplyStyle(style=Style(line_width_=None, line_color_=None, fill_color_=<Color #bfbf00>, fill_opacity_=None, dashing_=None, output_size=None), diagram=ApplyTransform(transform=Affine(1.0, 0.0, 0.0,\n",
              "       0.0, 1.0, 0.025), diagram=ApplyTransform(transform=Affine(1.0, 0.0, 0.0,\n",
              "       0.0, 1.0, 0.5), diagram=Compose(envelope=<chalk.envelope.Envelope object at 0x7a2ea00b1e40>, diagram1=Compose(envelope=<chalk.envelope.Envelope object at 0x7a2ea00b0940>, diagram1=Empty(), diagram2=Primitive(shape=Path(loc_trails=[Located(trail=Trail(segments=[Segment(offset=Vec2(0.375, 0.0), origin=Vec2(0.0, 0.0)), Segment(offset=Vec2(0.0, 1.0), origin=Vec2(0.0, 0.0)), Segment(offset=Vec2(-0.375, 0.0), origin=Vec2(0.0, 0.0)), Segment(offset=Vec2(0.0, -1.0), origin=Vec2(0.0, 0.0))], closed=True), location=Vec2(0.0, 0.0))]), style=Style(line_width_=(<WidthType.NORMALIZED: 2>, 0.01), line_color_=<Color white>, fill_color_=None, fill_opacity_=None, dashing_=None, output_size=None), transform=Affine(1.0, 0.0, 0.0,\n",
              "       0.0, 1.0, -0.5))), diagram2=Primitive(shape=Path(loc_trails=[Located(trail=Trail(segments=[Segment(offset=Vec2(0.375, 0.0), origin=Vec2(0.0, 0.0)), Segment(offset=Vec2(0.0, 1.0), origin=Vec2(0.0, 0.0)), Segment(offset=Vec2(-0.375, 0.0), origin=Vec2(0.0, 0.0)), Segment(offset=Vec2(0.0, -1.0), origin=Vec2(0.0, 0.0))], closed=True), location=Vec2(0.0, 0.0))]), style=Style(line_width_=(<WidthType.NORMALIZED: 2>, 0.01), line_color_=<Color white>, fill_color_=None, fill_opacity_=None, dashing_=None, output_size=None), transform=Affine(1.0, 0.0, 0.375,\n",
              "       0.0, 1.0, -0.5))))))), diagram2=Empty()), diagram2=Empty()))), diagram2=ApplyTransform(transform=Affine(1.0, 0.0, 0.0,\n",
              "       0.0, 1.0, 3.0999999999999996), diagram=ApplyTransform(transform=Affine(0.0, 1.0, 0.0,\n",
              "       -1.0, 0.0, 0.0), diagram=Empty()))), diagram2=ApplyTransform(transform=Affine(1.0, 0.0, 0.0,\n",
              "       0.0, 1.0, 4.1), diagram=Compose(envelope=<chalk.envelope.Envelope object at 0x7a2ea00b07f0>, diagram1=Compose(envelope=<chalk.envelope.Envelope object at 0x7a2ea00b09a0>, diagram1=Empty(), diagram2=Empty()), diagram2=Empty())))), diagram2=Compose(envelope=<chalk.envelope.Envelope object at 0x7a2ea00da620>, diagram1=Compose(envelope=<chalk.envelope.Envelope object at 0x7a2ea00419c0>, diagram1=Compose(envelope=<chalk.envelope.Envelope object at 0x7a2ea00431c0>, diagram1=Compose(envelope=<chalk.envelope.Envelope object at 0x7a2ea00cd1b0>, diagram1=Compose(envelope=<chalk.envelope.Envelope object at 0x7a2ea00da2c0>, diagram1=Compose(envelope=<chalk.envelope.Envelope object at 0x7a2ea00da140>, diagram1=ApplyStyle(style=Style(line_width_=None, line_color_=None, fill_color_=None, fill_opacity_=1, dashing_=None, output_size=None), diagram=ApplyStyle(style=Style(line_width_=None, line_color_=None, fill_color_=<Color red>, fill_opacity_=None, dashing_=None, output_size=None), diagram=ApplyTransform(transform=Affine(1.0, 0.0, 0.0,\n",
              "       0.0, 1.0, 0.025), diagram=ApplyTransform(transform=Affine(1.0, 0.0, 0.0,\n",
              "       0.0, 1.0, 0.5), diagram=Compose(envelope=<chalk.envelope.Envelope object at 0x7a2ea00cfb20>, diagram1=Compose(envelope=<chalk.envelope.Envelope object at 0x7a2ea00ce050>, diagram1=Empty(), diagram2=Primitive(shape=Path(loc_trails=[Located(trail=Trail(segments=[Segment(offset=Vec2(0.375, 0.0), origin=Vec2(0.0, 0.0)), Segment(offset=Vec2(0.0, 1.0), origin=Vec2(0.0, 0.0)), Segment(offset=Vec2(-0.375, 0.0), origin=Vec2(0.0, 0.0)), Segment(offset=Vec2(0.0, -1.0), origin=Vec2(0.0, 0.0))], closed=True), location=Vec2(0.0, 0.0))]), style=Style(line_width_=(<WidthType.NORMALIZED: 2>, 0.01), line_color_=<Color white>, fill_color_=None, fill_opacity_=None, dashing_=None, output_size=None), transform=Affine(1.0, 0.0, 0.0,\n",
              "       0.0, 1.0, -0.5))), diagram2=Primitive(shape=Path(loc_trails=[Located(trail=Trail(segments=[Segment(offset=Vec2(0.375, 0.0), origin=Vec2(0.0, 0.0)), Segment(offset=Vec2(0.0, 1.0), origin=Vec2(0.0, 0.0)), Segment(offset=Vec2(-0.375, 0.0), origin=Vec2(0.0, 0.0)), Segment(offset=Vec2(0.0, -1.0), origin=Vec2(0.0, 0.0))], closed=True), location=Vec2(0.0, 0.0))]), style=Style(line_width_=(<WidthType.NORMALIZED: 2>, 0.01), line_color_=<Color white>, fill_color_=None, fill_opacity_=None, dashing_=None, output_size=None), transform=Affine(1.0, 0.0, 0.375,\n",
              "       0.0, 1.0, -0.5))))))), diagram2=Empty()), diagram2=Empty()), diagram2=ApplyTransform(transform=Affine(1.0, 0.0, 0.0,\n",
              "       0.0, 1.0, 1.05), diagram=ApplyTransform(transform=Affine(0.0, 1.0, 0.0,\n",
              "       -1.0, 0.0, 0.0), diagram=Empty()))), diagram2=ApplyTransform(transform=Affine(1.0, 0.0, 0.0,\n",
              "       0.0, 1.0, 2.05), diagram=Compose(envelope=<chalk.envelope.Envelope object at 0x7a2ea00ce1a0>, diagram1=Compose(envelope=<chalk.envelope.Envelope object at 0x7a2ea00ce410>, diagram1=Empty(), diagram2=Empty()), diagram2=Empty()))), diagram2=ApplyTransform(transform=Affine(1.0, 0.0, 0.0,\n",
              "       0.0, 1.0, 3.0999999999999996), diagram=ApplyTransform(transform=Affine(0.0, 1.0, 0.0,\n",
              "       -1.0, 0.0, 0.0), diagram=Empty()))), diagram2=ApplyTransform(transform=Affine(1.0, 0.0, 0.0,\n",
              "       0.0, 1.0, 4.1), diagram=Compose(envelope=<chalk.envelope.Envelope object at 0x7a2ea00cc8e0>, diagram1=Compose(envelope=<chalk.envelope.Envelope object at 0x7a2ea00cca90>, diagram1=Empty(), diagram2=Empty()), diagram2=Empty())))))"
            ],
            "image/svg+xml": "<?xml version=\"1.0\" encoding=\"utf-8\" ?>\n<svg baseProfile=\"full\" height=\"400\" version=\"1.1\" width=\"233\" xmlns=\"http://www.w3.org/2000/svg\" xmlns:ev=\"http://www.w3.org/2001/xml-events\" xmlns:xlink=\"http://www.w3.org/1999/xlink\"><defs><marker id=\"arrow\" markerHeight=\"3.5\" markerWidth=\"5\" orient=\"auto\" refX=\"5.0\" refY=\"1.7\"><polygon points=\"0,0 5,1.75 0,3.5\" /></marker></defs><g style=\"fill:white;\"><g transform=\"matrix(1.0, 0.0, 0.0, 1.0, 116.50000000000001, 199.99166666666667)\"><g transform=\"matrix(73.96825396825396, 0.0, 0.0, 73.96825396825396, 0.0, 0.0)\"><g><g transform=\"matrix(1.0, 0.0, 0.0, 1.0, -0.0, -2.5749999999999997)\"><g><g><g><g><g><g><g style=\"stroke: black;stroke-width: 3.6;\" transform=\"matrix(1.0, 0.0, 0.0, 1.0, -0.75, 0.0)\"><path d=\"M 0.0 0.0 L 1.5 0.0 L 1.5 1.05 L 0.0 1.05 L 0.0 0.0 Z\" style=\"vector-effect: non-scaling-stroke;\" /></g><g style=\"stroke: black;stroke-width: 3.6;\" transform=\"matrix(1.0, 0.0, 0.0, 1.0, -1.5, 0.0)\"><path d=\"M 0.0 0.0 L 3.0 0.0 L 3.0 0.0 L 0.0 0.0 L 0.0 0.0 Z\" style=\"vector-effect: non-scaling-stroke;\" /></g></g><g transform=\"matrix(1.0, 0.0, 0.0, 1.0, 0.0, 1.05)\"><g transform=\"matrix(0.0, -1.0, 1.0, 0.0, 0.0, 0.0)\"><g /></g></g></g><g transform=\"matrix(1.0, 0.0, 0.0, 1.0, 0.0, 2.05)\"><g><g style=\"stroke: black;stroke-width: 3.6;\" transform=\"matrix(1.0, 0.0, 0.0, 1.0, -0.75, 0.0)\"><path d=\"M 0.0 0.0 L 1.5 0.0 L 1.5 1.05 L 0.0 1.05 L 0.0 0.0 Z\" style=\"vector-effect: non-scaling-stroke;\" /></g><g style=\"stroke: black;stroke-width: 3.6;\" transform=\"matrix(1.0, 0.0, 0.0, 1.0, -1.5, -1.0)\"><path d=\"M 0.0 0.0 L 3.0 0.0 L 3.0 1.0 L 0.0 1.0 L 0.0 0.0 Z\" style=\"vector-effect: non-scaling-stroke;\" /></g></g></g></g><g transform=\"matrix(1.0, 0.0, 0.0, 1.0, 0.0, 3.0999999999999996)\"><g transform=\"matrix(0.0, -1.0, 1.0, 0.0, 0.0, 0.0)\"><g /></g></g></g><g transform=\"matrix(1.0, 0.0, 0.0, 1.0, 0.0, 4.1)\"><g><g style=\"stroke: black;stroke-width: 3.6;\" transform=\"matrix(1.0, 0.0, 0.0, 1.0, -0.75, 0.0)\"><path d=\"M 0.0 0.0 L 1.5 0.0 L 1.5 1.05 L 0.0 1.05 L 0.0 0.0 Z\" style=\"vector-effect: non-scaling-stroke;\" /></g><g style=\"stroke: black;stroke-width: 3.6;\" transform=\"matrix(1.0, 0.0, 0.0, 1.0, -1.5, -1.0)\"><path d=\"M 0.0 0.0 L 3.0 0.0 L 3.0 1.0 L 0.0 1.0 L 0.0 0.0 Z\" style=\"vector-effect: non-scaling-stroke;\" /></g></g></g></g><g><g><g><g /><g><g><g><g><g><g><g /><g /></g><g /></g><g transform=\"matrix(1.0, 0.0, 0.0, 1.0, 0.0, 1.05)\"><g transform=\"matrix(0.0, -1.0, 1.0, 0.0, 0.0, 0.0)\"><g /></g></g></g><g transform=\"matrix(1.0, 0.0, 0.0, 1.0, 0.0, 2.05)\"><g><g><g /><g /></g><g /></g></g></g><g transform=\"matrix(1.0, 0.0, 0.0, 1.0, 0.0, 3.0999999999999996)\"><g transform=\"matrix(0.0, -1.0, 1.0, 0.0, 0.0, 0.0)\"><g /></g></g></g><g transform=\"matrix(1.0, 0.0, 0.0, 1.0, 0.0, 4.1)\"><g><g><g transform=\"matrix(1.0, 0.0, 0.0, 1.0, 0.0, 0.025)\"><g transform=\"matrix(1.0, 0.0, 0.0, 1.0, 0.0, 0.5)\"><g><g><g /><g style=\"fill: #008000;stroke: #ffffff;stroke-width: 0.18;fill-opacity: 1;\" transform=\"matrix(1.0, 0.0, 0.0, 1.0, 0.0, -0.5)\"><path d=\"M 0.0 0.0 L 0.375 0.0 L 0.375 1.0 L 0.0 1.0 L 0.0 0.0 Z\" style=\"vector-effect: non-scaling-stroke;\" /></g></g><g style=\"fill: #008000;stroke: #ffffff;stroke-width: 0.18;fill-opacity: 1;\" transform=\"matrix(1.0, 0.0, 0.0, 1.0, 0.375, -0.5)\"><path d=\"M 0.0 0.0 L 0.375 0.0 L 0.375 1.0 L 0.0 1.0 L 0.0 0.0 Z\" style=\"vector-effect: non-scaling-stroke;\" /></g></g></g></g><g /></g><g /></g></g></g></g><g><g><g><g><g><g><g /><g /></g><g /></g><g transform=\"matrix(1.0, 0.0, 0.0, 1.0, 0.0, 1.05)\"><g transform=\"matrix(0.0, -1.0, 1.0, 0.0, 0.0, 0.0)\"><g /></g></g></g><g transform=\"matrix(1.0, 0.0, 0.0, 1.0, 0.0, 2.05)\"><g><g><g transform=\"matrix(1.0, 0.0, 0.0, 1.0, 0.0, 0.025)\"><g transform=\"matrix(1.0, 0.0, 0.0, 1.0, 0.0, 0.5)\"><g><g><g /><g style=\"fill: #bfbf00;stroke: #ffffff;stroke-width: 0.18;fill-opacity: 1;\" transform=\"matrix(1.0, 0.0, 0.0, 1.0, 0.0, -0.5)\"><path d=\"M 0.0 0.0 L 0.375 0.0 L 0.375 1.0 L 0.0 1.0 L 0.0 0.0 Z\" style=\"vector-effect: non-scaling-stroke;\" /></g></g><g style=\"fill: #bfbf00;stroke: #ffffff;stroke-width: 0.18;fill-opacity: 1;\" transform=\"matrix(1.0, 0.0, 0.0, 1.0, 0.375, -0.5)\"><path d=\"M 0.0 0.0 L 0.375 0.0 L 0.375 1.0 L 0.0 1.0 L 0.0 0.0 Z\" style=\"vector-effect: non-scaling-stroke;\" /></g></g></g></g><g /></g><g /></g></g></g><g transform=\"matrix(1.0, 0.0, 0.0, 1.0, 0.0, 3.0999999999999996)\"><g transform=\"matrix(0.0, -1.0, 1.0, 0.0, 0.0, 0.0)\"><g /></g></g></g><g transform=\"matrix(1.0, 0.0, 0.0, 1.0, 0.0, 4.1)\"><g><g><g /><g /></g><g /></g></g></g></g><g><g><g><g><g><g><g transform=\"matrix(1.0, 0.0, 0.0, 1.0, 0.0, 0.025)\"><g transform=\"matrix(1.0, 0.0, 0.0, 1.0, 0.0, 0.5)\"><g><g><g /><g style=\"fill: #ff0000;stroke: #ffffff;stroke-width: 0.18;fill-opacity: 1;\" transform=\"matrix(1.0, 0.0, 0.0, 1.0, 0.0, -0.5)\"><path d=\"M 0.0 0.0 L 0.375 0.0 L 0.375 1.0 L 0.0 1.0 L 0.0 0.0 Z\" style=\"vector-effect: non-scaling-stroke;\" /></g></g><g style=\"fill: #ff0000;stroke: #ffffff;stroke-width: 0.18;fill-opacity: 1;\" transform=\"matrix(1.0, 0.0, 0.0, 1.0, 0.375, -0.5)\"><path d=\"M 0.0 0.0 L 0.375 0.0 L 0.375 1.0 L 0.0 1.0 L 0.0 0.0 Z\" style=\"vector-effect: non-scaling-stroke;\" /></g></g></g></g><g /></g><g /></g><g transform=\"matrix(1.0, 0.0, 0.0, 1.0, 0.0, 1.05)\"><g transform=\"matrix(0.0, -1.0, 1.0, 0.0, 0.0, 0.0)\"><g /></g></g></g><g transform=\"matrix(1.0, 0.0, 0.0, 1.0, 0.0, 2.05)\"><g><g><g /><g /></g><g /></g></g></g><g transform=\"matrix(1.0, 0.0, 0.0, 1.0, 0.0, 3.0999999999999996)\"><g transform=\"matrix(0.0, -1.0, 1.0, 0.0, 0.0, 0.0)\"><g /></g></g></g><g transform=\"matrix(1.0, 0.0, 0.0, 1.0, 0.0, 4.1)\"><g><g><g /><g /></g><g /></g></g></g></g></g></g><g /></g></g></g></g></svg>"
          },
          "metadata": {},
          "execution_count": 7
        }
      ],
      "source": [
        "# Draw all the current activations in memory.\n",
        "draw_group(activations)"
      ]
    },
    {
      "cell_type": "code",
      "execution_count": null,
      "id": "80e8769a",
      "metadata": {
        "id": "80e8769a",
        "colab": {
          "base_uri": "https://localhost:8080/",
          "height": 421
        },
        "outputId": "56774f94-9ef0-4edc-abfb-4109ddcd913b"
      },
      "outputs": [
        {
          "output_type": "execute_result",
          "data": {
            "text/plain": [
              "ActivationGrad(layer=1, layers=2, batches=frozenset({2, 3}), total_batches=4)"
            ],
            "image/svg+xml": "<?xml version=\"1.0\" encoding=\"utf-8\" ?>\n<svg baseProfile=\"full\" height=\"400\" version=\"1.1\" width=\"233\" xmlns=\"http://www.w3.org/2000/svg\" xmlns:ev=\"http://www.w3.org/2001/xml-events\" xmlns:xlink=\"http://www.w3.org/1999/xlink\"><defs><marker id=\"arrow\" markerHeight=\"3.5\" markerWidth=\"5\" orient=\"auto\" refX=\"5.0\" refY=\"1.7\"><polygon points=\"0,0 5,1.75 0,3.5\" /></marker></defs><g style=\"fill:white;\"><g transform=\"matrix(1.0, 0.0, 0.0, 1.0, 116.50000000000001, 199.99166666666667)\"><g transform=\"matrix(73.96825396825396, 0.0, 0.0, 73.96825396825396, 0.0, 0.0)\"><g><g transform=\"matrix(1.0, 0.0, 0.0, 1.0, -0.0, -2.5749999999999997)\"><g><g><g><g><g><g><g style=\"stroke: black;stroke-width: 3.6;\" transform=\"matrix(1.0, 0.0, 0.0, 1.0, -0.75, 0.0)\"><path d=\"M 0.0 0.0 L 1.5 0.0 L 1.5 1.05 L 0.0 1.05 L 0.0 0.0 Z\" style=\"vector-effect: non-scaling-stroke;\" /></g><g style=\"stroke: black;stroke-width: 3.6;\" transform=\"matrix(1.0, 0.0, 0.0, 1.0, -1.5, 0.0)\"><path d=\"M 0.0 0.0 L 3.0 0.0 L 3.0 0.0 L 0.0 0.0 L 0.0 0.0 Z\" style=\"vector-effect: non-scaling-stroke;\" /></g></g><g transform=\"matrix(1.0, 0.0, 0.0, 1.0, 0.0, 1.05)\"><g transform=\"matrix(0.0, -1.0, 1.0, 0.0, 0.0, 0.0)\"><g /></g></g></g><g transform=\"matrix(1.0, 0.0, 0.0, 1.0, 0.0, 2.05)\"><g><g style=\"stroke: black;stroke-width: 3.6;\" transform=\"matrix(1.0, 0.0, 0.0, 1.0, -0.75, 0.0)\"><path d=\"M 0.0 0.0 L 1.5 0.0 L 1.5 1.05 L 0.0 1.05 L 0.0 0.0 Z\" style=\"vector-effect: non-scaling-stroke;\" /></g><g style=\"stroke: black;stroke-width: 3.6;\" transform=\"matrix(1.0, 0.0, 0.0, 1.0, -1.5, -1.0)\"><path d=\"M 0.0 0.0 L 3.0 0.0 L 3.0 1.0 L 0.0 1.0 L 0.0 0.0 Z\" style=\"vector-effect: non-scaling-stroke;\" /></g></g></g></g><g transform=\"matrix(1.0, 0.0, 0.0, 1.0, 0.0, 3.0999999999999996)\"><g transform=\"matrix(0.0, -1.0, 1.0, 0.0, 0.0, 0.0)\"><g /></g></g></g><g transform=\"matrix(1.0, 0.0, 0.0, 1.0, 0.0, 4.1)\"><g><g style=\"stroke: black;stroke-width: 3.6;\" transform=\"matrix(1.0, 0.0, 0.0, 1.0, -0.75, 0.0)\"><path d=\"M 0.0 0.0 L 1.5 0.0 L 1.5 1.05 L 0.0 1.05 L 0.0 0.0 Z\" style=\"vector-effect: non-scaling-stroke;\" /></g><g style=\"stroke: black;stroke-width: 3.6;\" transform=\"matrix(1.0, 0.0, 0.0, 1.0, -1.5, -1.0)\"><path d=\"M 0.0 0.0 L 3.0 0.0 L 3.0 1.0 L 0.0 1.0 L 0.0 0.0 Z\" style=\"vector-effect: non-scaling-stroke;\" /></g></g></g></g><g><g><g><g><g><g><g transform=\"matrix(1.0, 0.0, 0.0, 1.0, 0.0, 0.025)\"><g transform=\"matrix(1.0, 0.0, 0.0, 1.0, 0.0, 0.5)\"><g><g><g /><g style=\"fill: #ff0000;stroke: #ffffff;stroke-width: 0.18;fill-opacity: 0.5;\" transform=\"matrix(1.0, 0.0, 0.0, 1.0, 0.0, -0.5)\"><path d=\"M 0.0 0.0 L 0.375 0.0 L 0.375 1.0 L 0.0 1.0 L 0.0 0.0 Z\" style=\"vector-effect: non-scaling-stroke;\" /></g></g><g style=\"fill: #ff0000;stroke: #ffffff;stroke-width: 0.18;fill-opacity: 0.5;\" transform=\"matrix(1.0, 0.0, 0.0, 1.0, 0.375, -0.5)\"><path d=\"M 0.0 0.0 L 0.375 0.0 L 0.375 1.0 L 0.0 1.0 L 0.0 0.0 Z\" style=\"vector-effect: non-scaling-stroke;\" /></g></g></g></g><g /></g><g /></g><g transform=\"matrix(1.0, 0.0, 0.0, 1.0, 0.0, 1.05)\"><g transform=\"matrix(0.0, -1.0, 1.0, 0.0, 0.0, 0.0)\"><g /></g></g></g><g transform=\"matrix(1.0, 0.0, 0.0, 1.0, 0.0, 2.05)\"><g><g><g /><g /></g><g /></g></g></g><g transform=\"matrix(1.0, 0.0, 0.0, 1.0, 0.0, 3.0999999999999996)\"><g transform=\"matrix(0.0, -1.0, 1.0, 0.0, 0.0, 0.0)\"><g /></g></g></g><g transform=\"matrix(1.0, 0.0, 0.0, 1.0, 0.0, 4.1)\"><g><g><g /><g /></g><g /></g></g></g></g></g><g /></g></g></g></g></svg>"
          },
          "metadata": {},
          "execution_count": 8
        }
      ],
      "source": [
        "# At the last layer, we can convert an activation to a grad activation by calling `loss`\n",
        "grad_activations[model.LAYERS] = model.loss(activations[model.LAYERS])\n",
        "grad_activations[model.LAYERS]"
      ]
    },
    {
      "cell_type": "code",
      "execution_count": null,
      "id": "b3299042",
      "metadata": {
        "id": "b3299042",
        "colab": {
          "base_uri": "https://localhost:8080/",
          "height": 421
        },
        "outputId": "8ff9017e-9cc9-47c1-a6c4-353cc65ceee0"
      },
      "outputs": [
        {
          "output_type": "execute_result",
          "data": {
            "text/plain": [
              "ActivationGrad(layer=0, layers=2, batches=frozenset({2, 3}), total_batches=4)"
            ],
            "image/svg+xml": "<?xml version=\"1.0\" encoding=\"utf-8\" ?>\n<svg baseProfile=\"full\" height=\"400\" version=\"1.1\" width=\"233\" xmlns=\"http://www.w3.org/2000/svg\" xmlns:ev=\"http://www.w3.org/2001/xml-events\" xmlns:xlink=\"http://www.w3.org/1999/xlink\"><defs><marker id=\"arrow\" markerHeight=\"3.5\" markerWidth=\"5\" orient=\"auto\" refX=\"5.0\" refY=\"1.7\"><polygon points=\"0,0 5,1.75 0,3.5\" /></marker></defs><g style=\"fill:white;\"><g transform=\"matrix(1.0, 0.0, 0.0, 1.0, 116.50000000000001, 199.99166666666667)\"><g transform=\"matrix(73.96825396825396, 0.0, 0.0, 73.96825396825396, 0.0, 0.0)\"><g><g transform=\"matrix(1.0, 0.0, 0.0, 1.0, -0.0, -2.5749999999999997)\"><g><g><g><g><g><g><g style=\"stroke: black;stroke-width: 3.6;\" transform=\"matrix(1.0, 0.0, 0.0, 1.0, -0.75, 0.0)\"><path d=\"M 0.0 0.0 L 1.5 0.0 L 1.5 1.05 L 0.0 1.05 L 0.0 0.0 Z\" style=\"vector-effect: non-scaling-stroke;\" /></g><g style=\"stroke: black;stroke-width: 3.6;\" transform=\"matrix(1.0, 0.0, 0.0, 1.0, -1.5, 0.0)\"><path d=\"M 0.0 0.0 L 3.0 0.0 L 3.0 0.0 L 0.0 0.0 L 0.0 0.0 Z\" style=\"vector-effect: non-scaling-stroke;\" /></g></g><g transform=\"matrix(1.0, 0.0, 0.0, 1.0, 0.0, 1.05)\"><g transform=\"matrix(0.0, -1.0, 1.0, 0.0, 0.0, 0.0)\"><g /></g></g></g><g transform=\"matrix(1.0, 0.0, 0.0, 1.0, 0.0, 2.05)\"><g><g style=\"stroke: black;stroke-width: 3.6;\" transform=\"matrix(1.0, 0.0, 0.0, 1.0, -0.75, 0.0)\"><path d=\"M 0.0 0.0 L 1.5 0.0 L 1.5 1.05 L 0.0 1.05 L 0.0 0.0 Z\" style=\"vector-effect: non-scaling-stroke;\" /></g><g style=\"stroke: black;stroke-width: 3.6;\" transform=\"matrix(1.0, 0.0, 0.0, 1.0, -1.5, -1.0)\"><path d=\"M 0.0 0.0 L 3.0 0.0 L 3.0 1.0 L 0.0 1.0 L 0.0 0.0 Z\" style=\"vector-effect: non-scaling-stroke;\" /></g></g></g></g><g transform=\"matrix(1.0, 0.0, 0.0, 1.0, 0.0, 3.0999999999999996)\"><g transform=\"matrix(0.0, -1.0, 1.0, 0.0, 0.0, 0.0)\"><g /></g></g></g><g transform=\"matrix(1.0, 0.0, 0.0, 1.0, 0.0, 4.1)\"><g><g style=\"stroke: black;stroke-width: 3.6;\" transform=\"matrix(1.0, 0.0, 0.0, 1.0, -0.75, 0.0)\"><path d=\"M 0.0 0.0 L 1.5 0.0 L 1.5 1.05 L 0.0 1.05 L 0.0 0.0 Z\" style=\"vector-effect: non-scaling-stroke;\" /></g><g style=\"stroke: black;stroke-width: 3.6;\" transform=\"matrix(1.0, 0.0, 0.0, 1.0, -1.5, -1.0)\"><path d=\"M 0.0 0.0 L 3.0 0.0 L 3.0 1.0 L 0.0 1.0 L 0.0 0.0 Z\" style=\"vector-effect: non-scaling-stroke;\" /></g></g></g></g><g><g><g><g><g><g><g /><g /></g><g /></g><g transform=\"matrix(1.0, 0.0, 0.0, 1.0, 0.0, 1.05)\"><g transform=\"matrix(0.0, -1.0, 1.0, 0.0, 0.0, 0.0)\"><g /></g></g></g><g transform=\"matrix(1.0, 0.0, 0.0, 1.0, 0.0, 2.05)\"><g><g><g transform=\"matrix(1.0, 0.0, 0.0, 1.0, 0.0, 0.025)\"><g transform=\"matrix(1.0, 0.0, 0.0, 1.0, 0.0, 0.5)\"><g><g><g /><g style=\"fill: #bfbf00;stroke: #ffffff;stroke-width: 0.18;fill-opacity: 0.5;\" transform=\"matrix(1.0, 0.0, 0.0, 1.0, 0.0, -0.5)\"><path d=\"M 0.0 0.0 L 0.375 0.0 L 0.375 1.0 L 0.0 1.0 L 0.0 0.0 Z\" style=\"vector-effect: non-scaling-stroke;\" /></g></g><g style=\"fill: #bfbf00;stroke: #ffffff;stroke-width: 0.18;fill-opacity: 0.5;\" transform=\"matrix(1.0, 0.0, 0.0, 1.0, 0.375, -0.5)\"><path d=\"M 0.0 0.0 L 0.375 0.0 L 0.375 1.0 L 0.0 1.0 L 0.0 0.0 Z\" style=\"vector-effect: non-scaling-stroke;\" /></g></g></g></g><g /></g><g /></g></g></g><g transform=\"matrix(1.0, 0.0, 0.0, 1.0, 0.0, 3.0999999999999996)\"><g transform=\"matrix(0.0, -1.0, 1.0, 0.0, 0.0, 0.0)\"><g /></g></g></g><g transform=\"matrix(1.0, 0.0, 0.0, 1.0, 0.0, 4.1)\"><g><g><g /><g /></g><g /></g></g></g></g></g><g /></g></g></g></g></svg>"
          },
          "metadata": {},
          "execution_count": 9
        }
      ],
      "source": [
        "# Calling `backward` requires the forward activation, the backward grad activation, and the weights.\n",
        "# It returns the grad weights and the backward activation.\n",
        "grad_weights[1], grad_activations[1] = model.backward(1, activations[1], grad_activations[2], weights[1])\n",
        "grad_weights[0], grad_activations[0] = model.backward(0, activations[0], grad_activations[1], weights[0])\n",
        "grad_activations[1]"
      ]
    },
    {
      "cell_type": "code",
      "execution_count": null,
      "id": "33d82618",
      "metadata": {
        "id": "33d82618",
        "colab": {
          "base_uri": "https://localhost:8080/",
          "height": 494
        },
        "outputId": "ad7280a3-cc06-4edf-a96a-847609d63f7e"
      },
      "outputs": [
        {
          "output_type": "stream",
          "name": "stdout",
          "text": [
            "Before memory: 3145728.0\n",
            "After memory: 2883584.0\n",
            "0 <class 'lib.Weight'>,1 <class 'lib.Weight'>,0 <class 'lib.OptState'>,1 <class 'lib.OptState'>,0 <class 'lib.Activation'>,1 <class 'lib.Activation'>,2 <class 'lib.Activation'>,2 <class 'lib.ActivationGrad'>,0 <class 'lib.ActivationGrad'>,1 <class 'lib.WeightGrad'>,0 <class 'lib.WeightGrad'>,\n"
          ]
        },
        {
          "output_type": "execute_result",
          "data": {
            "text/plain": [
              "Compose(envelope=<chalk.envelope.Envelope object at 0x7a2ea0043790>, diagram1=Compose(envelope=<chalk.envelope.Envelope object at 0x7a2ea00420b0>, diagram1=Compose(envelope=<chalk.envelope.Envelope object at 0x7a2ea0042710>, diagram1=Compose(envelope=<chalk.envelope.Envelope object at 0x7a2ea0043f70>, diagram1=Compose(envelope=<chalk.envelope.Envelope object at 0x7a2ea0040c40>, diagram1=Compose(envelope=<chalk.envelope.Envelope object at 0x7a2ea00fd5d0>, diagram1=Primitive(shape=Path(loc_trails=[Located(trail=Trail(segments=[Segment(offset=Vec2(1.5, 0.0), origin=Vec2(0.0, 0.0)), Segment(offset=Vec2(0.0, 1.05), origin=Vec2(0.0, 0.0)), Segment(offset=Vec2(-1.5, 0.0), origin=Vec2(0.0, 0.0)), Segment(offset=Vec2(0.0, -1.05), origin=Vec2(0.0, 0.0))], closed=True), location=Vec2(0.0, 0.0))]), style=Style(line_width_=(<WidthType.NORMALIZED: 2>, 0.2), line_color_=None, fill_color_=None, fill_opacity_=None, dashing_=None, output_size=None), transform=Affine(1.0, 0.0, -0.75,\n",
              "       0.0, 1.0, 0.0)), diagram2=Primitive(shape=Path(loc_trails=[Located(trail=Trail(segments=[Segment(offset=Vec2(3.0, 0.0), origin=Vec2(0.0, 0.0)), Segment(offset=Vec2(0.0, 0.0), origin=Vec2(0.0, 0.0)), Segment(offset=Vec2(-3.0, 0.0), origin=Vec2(0.0, 0.0)), Segment(offset=Vec2(0.0, 0.0), origin=Vec2(0.0, 0.0))], closed=True), location=Vec2(0.0, 0.0))]), style=Style(line_width_=(<WidthType.NORMALIZED: 2>, 0.2), line_color_=None, fill_color_=None, fill_opacity_=None, dashing_=None, output_size=None), transform=Affine(1.0, 0.0, -1.5,\n",
              "       0.0, 1.0, 0.0))), diagram2=ApplyTransform(transform=Affine(1.0, 0.0, 0.0,\n",
              "       0.0, 1.0, 1.05), diagram=ApplyTransform(transform=Affine(0.0, 1.0, 0.0,\n",
              "       -1.0, 0.0, 0.0), diagram=Empty()))), diagram2=ApplyTransform(transform=Affine(1.0, 0.0, 0.0,\n",
              "       0.0, 1.0, 2.05), diagram=Compose(envelope=<chalk.envelope.Envelope object at 0x7a2ea00daa40>, diagram1=Primitive(shape=Path(loc_trails=[Located(trail=Trail(segments=[Segment(offset=Vec2(1.5, 0.0), origin=Vec2(0.0, 0.0)), Segment(offset=Vec2(0.0, 1.05), origin=Vec2(0.0, 0.0)), Segment(offset=Vec2(-1.5, 0.0), origin=Vec2(0.0, 0.0)), Segment(offset=Vec2(0.0, -1.05), origin=Vec2(0.0, 0.0))], closed=True), location=Vec2(0.0, 0.0))]), style=Style(line_width_=(<WidthType.NORMALIZED: 2>, 0.2), line_color_=None, fill_color_=None, fill_opacity_=None, dashing_=None, output_size=None), transform=Affine(1.0, 0.0, -0.75,\n",
              "       0.0, 1.0, 0.0)), diagram2=Primitive(shape=Path(loc_trails=[Located(trail=Trail(segments=[Segment(offset=Vec2(3.0, 0.0), origin=Vec2(0.0, 0.0)), Segment(offset=Vec2(0.0, 1.0), origin=Vec2(0.0, 0.0)), Segment(offset=Vec2(-3.0, 0.0), origin=Vec2(0.0, 0.0)), Segment(offset=Vec2(0.0, -1.0), origin=Vec2(0.0, 0.0))], closed=True), location=Vec2(0.0, 0.0))]), style=Style(line_width_=(<WidthType.NORMALIZED: 2>, 0.2), line_color_=None, fill_color_=None, fill_opacity_=None, dashing_=None, output_size=None), transform=Affine(1.0, 0.0, -1.5,\n",
              "       0.0, 1.0, -1.0))))), diagram2=ApplyTransform(transform=Affine(1.0, 0.0, 0.0,\n",
              "       0.0, 1.0, 3.0999999999999996), diagram=ApplyTransform(transform=Affine(0.0, 1.0, 0.0,\n",
              "       -1.0, 0.0, 0.0), diagram=Empty()))), diagram2=ApplyTransform(transform=Affine(1.0, 0.0, 0.0,\n",
              "       0.0, 1.0, 4.1), diagram=Compose(envelope=<chalk.envelope.Envelope object at 0x7a2ea0034610>, diagram1=Primitive(shape=Path(loc_trails=[Located(trail=Trail(segments=[Segment(offset=Vec2(1.5, 0.0), origin=Vec2(0.0, 0.0)), Segment(offset=Vec2(0.0, 1.05), origin=Vec2(0.0, 0.0)), Segment(offset=Vec2(-1.5, 0.0), origin=Vec2(0.0, 0.0)), Segment(offset=Vec2(0.0, -1.05), origin=Vec2(0.0, 0.0))], closed=True), location=Vec2(0.0, 0.0))]), style=Style(line_width_=(<WidthType.NORMALIZED: 2>, 0.2), line_color_=None, fill_color_=None, fill_opacity_=None, dashing_=None, output_size=None), transform=Affine(1.0, 0.0, -0.75,\n",
              "       0.0, 1.0, 0.0)), diagram2=Primitive(shape=Path(loc_trails=[Located(trail=Trail(segments=[Segment(offset=Vec2(3.0, 0.0), origin=Vec2(0.0, 0.0)), Segment(offset=Vec2(0.0, 1.0), origin=Vec2(0.0, 0.0)), Segment(offset=Vec2(-3.0, 0.0), origin=Vec2(0.0, 0.0)), Segment(offset=Vec2(0.0, -1.0), origin=Vec2(0.0, 0.0))], closed=True), location=Vec2(0.0, 0.0))]), style=Style(line_width_=(<WidthType.NORMALIZED: 2>, 0.2), line_color_=None, fill_color_=None, fill_opacity_=None, dashing_=None, output_size=None), transform=Affine(1.0, 0.0, -1.5,\n",
              "       0.0, 1.0, -1.0))))), diagram2=Compose(envelope=<chalk.envelope.Envelope object at 0x7a2ea0043b80>, diagram1=Compose(envelope=<chalk.envelope.Envelope object at 0x7a2ea0041480>, diagram1=Empty(), diagram2=Compose(envelope=<chalk.envelope.Envelope object at 0x7a2e89f2dea0>, diagram1=Compose(envelope=<chalk.envelope.Envelope object at 0x7a2e89f0cbe0>, diagram1=Compose(envelope=<chalk.envelope.Envelope object at 0x7a2e89f0cd30>, diagram1=Compose(envelope=<chalk.envelope.Envelope object at 0x7a2e89f188e0>, diagram1=Compose(envelope=<chalk.envelope.Envelope object at 0x7a2e89f2db40>, diagram1=Compose(envelope=<chalk.envelope.Envelope object at 0x7a2e89f2d9c0>, diagram1=ApplyStyle(style=Style(line_width_=None, line_color_=None, fill_color_=None, fill_opacity_=0.5, dashing_=None, output_size=None), diagram=ApplyStyle(style=Style(line_width_=None, line_color_=None, fill_color_=<Color red>, fill_opacity_=None, dashing_=None, output_size=None), diagram=ApplyTransform(transform=Affine(1.0, 0.0, 0.0,\n",
              "       0.0, 1.0, 0.025), diagram=ApplyTransform(transform=Affine(1.0, 0.0, 0.0,\n",
              "       0.0, 1.0, 0.5), diagram=Compose(envelope=<chalk.envelope.Envelope object at 0x7a2e89f1b6d0>, diagram1=Compose(envelope=<chalk.envelope.Envelope object at 0x7a2e89f19db0>, diagram1=Empty(), diagram2=Primitive(shape=Path(loc_trails=[Located(trail=Trail(segments=[Segment(offset=Vec2(0.375, 0.0), origin=Vec2(0.0, 0.0)), Segment(offset=Vec2(0.0, 1.0), origin=Vec2(0.0, 0.0)), Segment(offset=Vec2(-0.375, 0.0), origin=Vec2(0.0, 0.0)), Segment(offset=Vec2(0.0, -1.0), origin=Vec2(0.0, 0.0))], closed=True), location=Vec2(0.0, 0.0))]), style=Style(line_width_=(<WidthType.NORMALIZED: 2>, 0.01), line_color_=<Color white>, fill_color_=None, fill_opacity_=None, dashing_=None, output_size=None), transform=Affine(1.0, 0.0, 0.0,\n",
              "       0.0, 1.0, -0.5))), diagram2=Primitive(shape=Path(loc_trails=[Located(trail=Trail(segments=[Segment(offset=Vec2(0.375, 0.0), origin=Vec2(0.0, 0.0)), Segment(offset=Vec2(0.0, 1.0), origin=Vec2(0.0, 0.0)), Segment(offset=Vec2(-0.375, 0.0), origin=Vec2(0.0, 0.0)), Segment(offset=Vec2(0.0, -1.0), origin=Vec2(0.0, 0.0))], closed=True), location=Vec2(0.0, 0.0))]), style=Style(line_width_=(<WidthType.NORMALIZED: 2>, 0.01), line_color_=<Color white>, fill_color_=None, fill_opacity_=None, dashing_=None, output_size=None), transform=Affine(1.0, 0.0, 0.375,\n",
              "       0.0, 1.0, -0.5))))))), diagram2=Empty()), diagram2=Empty()), diagram2=ApplyTransform(transform=Affine(1.0, 0.0, 0.0,\n",
              "       0.0, 1.0, 1.05), diagram=ApplyTransform(transform=Affine(0.0, 1.0, 0.0,\n",
              "       -1.0, 0.0, 0.0), diagram=Empty()))), diagram2=ApplyTransform(transform=Affine(1.0, 0.0, 0.0,\n",
              "       0.0, 1.0, 2.05), diagram=Compose(envelope=<chalk.envelope.Envelope object at 0x7a2e89f191b0>, diagram1=Compose(envelope=<chalk.envelope.Envelope object at 0x7a2e89f1a2f0>, diagram1=Empty(), diagram2=Empty()), diagram2=Empty()))), diagram2=ApplyTransform(transform=Affine(1.0, 0.0, 0.0,\n",
              "       0.0, 1.0, 3.0999999999999996), diagram=ApplyTransform(transform=Affine(0.0, 1.0, 0.0,\n",
              "       -1.0, 0.0, 0.0), diagram=Empty()))), diagram2=ApplyTransform(transform=Affine(1.0, 0.0, 0.0,\n",
              "       0.0, 1.0, 4.1), diagram=Compose(envelope=<chalk.envelope.Envelope object at 0x7a2e89f184c0>, diagram1=Compose(envelope=<chalk.envelope.Envelope object at 0x7a2e89f18730>, diagram1=Empty(), diagram2=Empty()), diagram2=Empty())))), diagram2=Compose(envelope=<chalk.envelope.Envelope object at 0x7a2e89f44070>, diagram1=Compose(envelope=<chalk.envelope.Envelope object at 0x7a2e89f45690>, diagram1=Compose(envelope=<chalk.envelope.Envelope object at 0x7a2e89f2ee90>, diagram1=Compose(envelope=<chalk.envelope.Envelope object at 0x7a2e89f3b700>, diagram1=Compose(envelope=<chalk.envelope.Envelope object at 0x7a2e89f45510>, diagram1=Compose(envelope=<chalk.envelope.Envelope object at 0x7a2e89f45780>, diagram1=Empty(), diagram2=Empty()), diagram2=Empty()), diagram2=ApplyTransform(transform=Affine(1.0, 0.0, 0.0,\n",
              "       0.0, 1.0, 1.05), diagram=ApplyTransform(transform=Affine(0.0, 1.0, 0.0,\n",
              "       -1.0, 0.0, 0.0), diagram=Empty()))), diagram2=ApplyTransform(transform=Affine(1.0, 0.0, 0.0,\n",
              "       0.0, 1.0, 2.05), diagram=Compose(envelope=<chalk.envelope.Envelope object at 0x7a2e89f3b7f0>, diagram1=Compose(envelope=<chalk.envelope.Envelope object at 0x7a2e89f3b970>, diagram1=Empty(), diagram2=Empty()), diagram2=Empty()))), diagram2=ApplyTransform(transform=Affine(1.0, 0.0, 0.0,\n",
              "       0.0, 1.0, 3.0999999999999996), diagram=ApplyTransform(transform=Affine(0.0, 1.0, 0.0,\n",
              "       -1.0, 0.0, 0.0), diagram=Empty()))), diagram2=ApplyTransform(transform=Affine(1.0, 0.0, 0.0,\n",
              "       0.0, 1.0, 4.1), diagram=Compose(envelope=<chalk.envelope.Envelope object at 0x7a2e89f3a200>, diagram1=Compose(envelope=<chalk.envelope.Envelope object at 0x7a2e89f3a080>, diagram1=ApplyStyle(style=Style(line_width_=None, line_color_=None, fill_color_=None, fill_opacity_=0.5, dashing_=None, output_size=None), diagram=ApplyStyle(style=Style(line_width_=None, line_color_=None, fill_color_=<Color green>, fill_opacity_=None, dashing_=None, output_size=None), diagram=ApplyTransform(transform=Affine(1.0, 0.0, 0.0,\n",
              "       0.0, 1.0, 0.025), diagram=ApplyTransform(transform=Affine(1.0, 0.0, 0.0,\n",
              "       0.0, 1.0, 0.5), diagram=Compose(envelope=<chalk.envelope.Envelope object at 0x7a2e89f2fb80>, diagram1=Compose(envelope=<chalk.envelope.Envelope object at 0x7a2e89f2e7d0>, diagram1=Empty(), diagram2=Primitive(shape=Path(loc_trails=[Located(trail=Trail(segments=[Segment(offset=Vec2(0.375, 0.0), origin=Vec2(0.0, 0.0)), Segment(offset=Vec2(0.0, 1.0), origin=Vec2(0.0, 0.0)), Segment(offset=Vec2(-0.375, 0.0), origin=Vec2(0.0, 0.0)), Segment(offset=Vec2(0.0, -1.0), origin=Vec2(0.0, 0.0))], closed=True), location=Vec2(0.0, 0.0))]), style=Style(line_width_=(<WidthType.NORMALIZED: 2>, 0.01), line_color_=<Color white>, fill_color_=None, fill_opacity_=None, dashing_=None, output_size=None), transform=Affine(1.0, 0.0, 0.0,\n",
              "       0.0, 1.0, -0.5))), diagram2=Primitive(shape=Path(loc_trails=[Located(trail=Trail(segments=[Segment(offset=Vec2(0.375, 0.0), origin=Vec2(0.0, 0.0)), Segment(offset=Vec2(0.0, 1.0), origin=Vec2(0.0, 0.0)), Segment(offset=Vec2(-0.375, 0.0), origin=Vec2(0.0, 0.0)), Segment(offset=Vec2(0.0, -1.0), origin=Vec2(0.0, 0.0))], closed=True), location=Vec2(0.0, 0.0))]), style=Style(line_width_=(<WidthType.NORMALIZED: 2>, 0.01), line_color_=<Color white>, fill_color_=None, fill_opacity_=None, dashing_=None, output_size=None), transform=Affine(1.0, 0.0, 0.375,\n",
              "       0.0, 1.0, -0.5))))))), diagram2=Empty()), diagram2=Empty())))))"
            ],
            "image/svg+xml": "<?xml version=\"1.0\" encoding=\"utf-8\" ?>\n<svg baseProfile=\"full\" height=\"400\" version=\"1.1\" width=\"233\" xmlns=\"http://www.w3.org/2000/svg\" xmlns:ev=\"http://www.w3.org/2001/xml-events\" xmlns:xlink=\"http://www.w3.org/1999/xlink\"><defs><marker id=\"arrow\" markerHeight=\"3.5\" markerWidth=\"5\" orient=\"auto\" refX=\"5.0\" refY=\"1.7\"><polygon points=\"0,0 5,1.75 0,3.5\" /></marker></defs><g style=\"fill:white;\"><g transform=\"matrix(1.0, 0.0, 0.0, 1.0, 116.50000000000001, 199.99166666666667)\"><g transform=\"matrix(73.96825396825396, 0.0, 0.0, 73.96825396825396, 0.0, 0.0)\"><g><g transform=\"matrix(1.0, 0.0, 0.0, 1.0, -0.0, -2.5749999999999997)\"><g><g><g><g><g><g><g style=\"stroke: black;stroke-width: 3.6;\" transform=\"matrix(1.0, 0.0, 0.0, 1.0, -0.75, 0.0)\"><path d=\"M 0.0 0.0 L 1.5 0.0 L 1.5 1.05 L 0.0 1.05 L 0.0 0.0 Z\" style=\"vector-effect: non-scaling-stroke;\" /></g><g style=\"stroke: black;stroke-width: 3.6;\" transform=\"matrix(1.0, 0.0, 0.0, 1.0, -1.5, 0.0)\"><path d=\"M 0.0 0.0 L 3.0 0.0 L 3.0 0.0 L 0.0 0.0 L 0.0 0.0 Z\" style=\"vector-effect: non-scaling-stroke;\" /></g></g><g transform=\"matrix(1.0, 0.0, 0.0, 1.0, 0.0, 1.05)\"><g transform=\"matrix(0.0, -1.0, 1.0, 0.0, 0.0, 0.0)\"><g /></g></g></g><g transform=\"matrix(1.0, 0.0, 0.0, 1.0, 0.0, 2.05)\"><g><g style=\"stroke: black;stroke-width: 3.6;\" transform=\"matrix(1.0, 0.0, 0.0, 1.0, -0.75, 0.0)\"><path d=\"M 0.0 0.0 L 1.5 0.0 L 1.5 1.05 L 0.0 1.05 L 0.0 0.0 Z\" style=\"vector-effect: non-scaling-stroke;\" /></g><g style=\"stroke: black;stroke-width: 3.6;\" transform=\"matrix(1.0, 0.0, 0.0, 1.0, -1.5, -1.0)\"><path d=\"M 0.0 0.0 L 3.0 0.0 L 3.0 1.0 L 0.0 1.0 L 0.0 0.0 Z\" style=\"vector-effect: non-scaling-stroke;\" /></g></g></g></g><g transform=\"matrix(1.0, 0.0, 0.0, 1.0, 0.0, 3.0999999999999996)\"><g transform=\"matrix(0.0, -1.0, 1.0, 0.0, 0.0, 0.0)\"><g /></g></g></g><g transform=\"matrix(1.0, 0.0, 0.0, 1.0, 0.0, 4.1)\"><g><g style=\"stroke: black;stroke-width: 3.6;\" transform=\"matrix(1.0, 0.0, 0.0, 1.0, -0.75, 0.0)\"><path d=\"M 0.0 0.0 L 1.5 0.0 L 1.5 1.05 L 0.0 1.05 L 0.0 0.0 Z\" style=\"vector-effect: non-scaling-stroke;\" /></g><g style=\"stroke: black;stroke-width: 3.6;\" transform=\"matrix(1.0, 0.0, 0.0, 1.0, -1.5, -1.0)\"><path d=\"M 0.0 0.0 L 3.0 0.0 L 3.0 1.0 L 0.0 1.0 L 0.0 0.0 Z\" style=\"vector-effect: non-scaling-stroke;\" /></g></g></g></g><g><g><g /><g><g><g><g><g><g><g transform=\"matrix(1.0, 0.0, 0.0, 1.0, 0.0, 0.025)\"><g transform=\"matrix(1.0, 0.0, 0.0, 1.0, 0.0, 0.5)\"><g><g><g /><g style=\"fill: #ff0000;stroke: #ffffff;stroke-width: 0.18;fill-opacity: 0.5;\" transform=\"matrix(1.0, 0.0, 0.0, 1.0, 0.0, -0.5)\"><path d=\"M 0.0 0.0 L 0.375 0.0 L 0.375 1.0 L 0.0 1.0 L 0.0 0.0 Z\" style=\"vector-effect: non-scaling-stroke;\" /></g></g><g style=\"fill: #ff0000;stroke: #ffffff;stroke-width: 0.18;fill-opacity: 0.5;\" transform=\"matrix(1.0, 0.0, 0.0, 1.0, 0.375, -0.5)\"><path d=\"M 0.0 0.0 L 0.375 0.0 L 0.375 1.0 L 0.0 1.0 L 0.0 0.0 Z\" style=\"vector-effect: non-scaling-stroke;\" /></g></g></g></g><g /></g><g /></g><g transform=\"matrix(1.0, 0.0, 0.0, 1.0, 0.0, 1.05)\"><g transform=\"matrix(0.0, -1.0, 1.0, 0.0, 0.0, 0.0)\"><g /></g></g></g><g transform=\"matrix(1.0, 0.0, 0.0, 1.0, 0.0, 2.05)\"><g><g><g /><g /></g><g /></g></g></g><g transform=\"matrix(1.0, 0.0, 0.0, 1.0, 0.0, 3.0999999999999996)\"><g transform=\"matrix(0.0, -1.0, 1.0, 0.0, 0.0, 0.0)\"><g /></g></g></g><g transform=\"matrix(1.0, 0.0, 0.0, 1.0, 0.0, 4.1)\"><g><g><g /><g /></g><g /></g></g></g></g><g><g><g><g><g><g><g /><g /></g><g /></g><g transform=\"matrix(1.0, 0.0, 0.0, 1.0, 0.0, 1.05)\"><g transform=\"matrix(0.0, -1.0, 1.0, 0.0, 0.0, 0.0)\"><g /></g></g></g><g transform=\"matrix(1.0, 0.0, 0.0, 1.0, 0.0, 2.05)\"><g><g><g /><g /></g><g /></g></g></g><g transform=\"matrix(1.0, 0.0, 0.0, 1.0, 0.0, 3.0999999999999996)\"><g transform=\"matrix(0.0, -1.0, 1.0, 0.0, 0.0, 0.0)\"><g /></g></g></g><g transform=\"matrix(1.0, 0.0, 0.0, 1.0, 0.0, 4.1)\"><g><g><g transform=\"matrix(1.0, 0.0, 0.0, 1.0, 0.0, 0.025)\"><g transform=\"matrix(1.0, 0.0, 0.0, 1.0, 0.0, 0.5)\"><g><g><g /><g style=\"fill: #008000;stroke: #ffffff;stroke-width: 0.18;fill-opacity: 0.5;\" transform=\"matrix(1.0, 0.0, 0.0, 1.0, 0.0, -0.5)\"><path d=\"M 0.0 0.0 L 0.375 0.0 L 0.375 1.0 L 0.0 1.0 L 0.0 0.0 Z\" style=\"vector-effect: non-scaling-stroke;\" /></g></g><g style=\"fill: #008000;stroke: #ffffff;stroke-width: 0.18;fill-opacity: 0.5;\" transform=\"matrix(1.0, 0.0, 0.0, 1.0, 0.375, -0.5)\"><path d=\"M 0.0 0.0 L 0.375 0.0 L 0.375 1.0 L 0.0 1.0 L 0.0 0.0 Z\" style=\"vector-effect: non-scaling-stroke;\" /></g></g></g></g><g /></g><g /></g></g></g></g></g></g><g /></g></g></g></g></svg>"
          },
          "metadata": {},
          "execution_count": 10
        }
      ],
      "source": [
        "# We can use delete to remove any memory that is not longer needed.\n",
        "print(\"Before memory:\", model.memory())\n",
        "del grad_activations[1]\n",
        "print(\"After memory:\", model.memory())\n",
        "model.status()\n",
        "draw_group(grad_activations)"
      ]
    },
    {
      "cell_type": "code",
      "execution_count": null,
      "id": "f48969f0",
      "metadata": {
        "id": "f48969f0",
        "colab": {
          "base_uri": "https://localhost:8080/",
          "height": 421
        },
        "outputId": "cd3624a4-a942-47e9-dd15-585665bc3966"
      },
      "outputs": [
        {
          "output_type": "execute_result",
          "data": {
            "text/plain": [
              "Compose(envelope=<chalk.envelope.Envelope object at 0x7a2e89f476a0>, diagram1=Compose(envelope=<chalk.envelope.Envelope object at 0x7a2e89f462f0>, diagram1=Compose(envelope=<chalk.envelope.Envelope object at 0x7a2e89f46470>, diagram1=Compose(envelope=<chalk.envelope.Envelope object at 0x7a2ea00fc280>, diagram1=Compose(envelope=<chalk.envelope.Envelope object at 0x7a2ea00fd630>, diagram1=Compose(envelope=<chalk.envelope.Envelope object at 0x7a2ea00fe710>, diagram1=Primitive(shape=Path(loc_trails=[Located(trail=Trail(segments=[Segment(offset=Vec2(1.5, 0.0), origin=Vec2(0.0, 0.0)), Segment(offset=Vec2(0.0, 1.05), origin=Vec2(0.0, 0.0)), Segment(offset=Vec2(-1.5, 0.0), origin=Vec2(0.0, 0.0)), Segment(offset=Vec2(0.0, -1.05), origin=Vec2(0.0, 0.0))], closed=True), location=Vec2(0.0, 0.0))]), style=Style(line_width_=(<WidthType.NORMALIZED: 2>, 0.2), line_color_=None, fill_color_=None, fill_opacity_=None, dashing_=None, output_size=None), transform=Affine(1.0, 0.0, -0.75,\n",
              "       0.0, 1.0, 0.0)), diagram2=Primitive(shape=Path(loc_trails=[Located(trail=Trail(segments=[Segment(offset=Vec2(3.0, 0.0), origin=Vec2(0.0, 0.0)), Segment(offset=Vec2(0.0, 0.0), origin=Vec2(0.0, 0.0)), Segment(offset=Vec2(-3.0, 0.0), origin=Vec2(0.0, 0.0)), Segment(offset=Vec2(0.0, 0.0), origin=Vec2(0.0, 0.0))], closed=True), location=Vec2(0.0, 0.0))]), style=Style(line_width_=(<WidthType.NORMALIZED: 2>, 0.2), line_color_=None, fill_color_=None, fill_opacity_=None, dashing_=None, output_size=None), transform=Affine(1.0, 0.0, -1.5,\n",
              "       0.0, 1.0, 0.0))), diagram2=ApplyTransform(transform=Affine(1.0, 0.0, 0.0,\n",
              "       0.0, 1.0, 1.05), diagram=ApplyTransform(transform=Affine(0.0, 1.0, 0.0,\n",
              "       -1.0, 0.0, 0.0), diagram=Empty()))), diagram2=ApplyTransform(transform=Affine(1.0, 0.0, 0.0,\n",
              "       0.0, 1.0, 2.05), diagram=Compose(envelope=<chalk.envelope.Envelope object at 0x7a2ea00feb90>, diagram1=Primitive(shape=Path(loc_trails=[Located(trail=Trail(segments=[Segment(offset=Vec2(1.5, 0.0), origin=Vec2(0.0, 0.0)), Segment(offset=Vec2(0.0, 1.05), origin=Vec2(0.0, 0.0)), Segment(offset=Vec2(-1.5, 0.0), origin=Vec2(0.0, 0.0)), Segment(offset=Vec2(0.0, -1.05), origin=Vec2(0.0, 0.0))], closed=True), location=Vec2(0.0, 0.0))]), style=Style(line_width_=(<WidthType.NORMALIZED: 2>, 0.2), line_color_=None, fill_color_=None, fill_opacity_=None, dashing_=None, output_size=None), transform=Affine(1.0, 0.0, -0.75,\n",
              "       0.0, 1.0, 0.0)), diagram2=Primitive(shape=Path(loc_trails=[Located(trail=Trail(segments=[Segment(offset=Vec2(3.0, 0.0), origin=Vec2(0.0, 0.0)), Segment(offset=Vec2(0.0, 1.0), origin=Vec2(0.0, 0.0)), Segment(offset=Vec2(-3.0, 0.0), origin=Vec2(0.0, 0.0)), Segment(offset=Vec2(0.0, -1.0), origin=Vec2(0.0, 0.0))], closed=True), location=Vec2(0.0, 0.0))]), style=Style(line_width_=(<WidthType.NORMALIZED: 2>, 0.2), line_color_=None, fill_color_=None, fill_opacity_=None, dashing_=None, output_size=None), transform=Affine(1.0, 0.0, -1.5,\n",
              "       0.0, 1.0, -1.0))))), diagram2=ApplyTransform(transform=Affine(1.0, 0.0, 0.0,\n",
              "       0.0, 1.0, 3.0999999999999996), diagram=ApplyTransform(transform=Affine(0.0, 1.0, 0.0,\n",
              "       -1.0, 0.0, 0.0), diagram=Empty()))), diagram2=ApplyTransform(transform=Affine(1.0, 0.0, 0.0,\n",
              "       0.0, 1.0, 4.1), diagram=Compose(envelope=<chalk.envelope.Envelope object at 0x7a2e89f0c8e0>, diagram1=Primitive(shape=Path(loc_trails=[Located(trail=Trail(segments=[Segment(offset=Vec2(1.5, 0.0), origin=Vec2(0.0, 0.0)), Segment(offset=Vec2(0.0, 1.05), origin=Vec2(0.0, 0.0)), Segment(offset=Vec2(-1.5, 0.0), origin=Vec2(0.0, 0.0)), Segment(offset=Vec2(0.0, -1.05), origin=Vec2(0.0, 0.0))], closed=True), location=Vec2(0.0, 0.0))]), style=Style(line_width_=(<WidthType.NORMALIZED: 2>, 0.2), line_color_=None, fill_color_=None, fill_opacity_=None, dashing_=None, output_size=None), transform=Affine(1.0, 0.0, -0.75,\n",
              "       0.0, 1.0, 0.0)), diagram2=Primitive(shape=Path(loc_trails=[Located(trail=Trail(segments=[Segment(offset=Vec2(3.0, 0.0), origin=Vec2(0.0, 0.0)), Segment(offset=Vec2(0.0, 1.0), origin=Vec2(0.0, 0.0)), Segment(offset=Vec2(-3.0, 0.0), origin=Vec2(0.0, 0.0)), Segment(offset=Vec2(0.0, -1.0), origin=Vec2(0.0, 0.0))], closed=True), location=Vec2(0.0, 0.0))]), style=Style(line_width_=(<WidthType.NORMALIZED: 2>, 0.2), line_color_=None, fill_color_=None, fill_opacity_=None, dashing_=None, output_size=None), transform=Affine(1.0, 0.0, -1.5,\n",
              "       0.0, 1.0, -1.0))))), diagram2=Compose(envelope=<chalk.envelope.Envelope object at 0x7a2e89f466e0>, diagram1=Compose(envelope=<chalk.envelope.Envelope object at 0x7a2e89f46fe0>, diagram1=Empty(), diagram2=Compose(envelope=<chalk.envelope.Envelope object at 0x7a2e89f84190>, diagram1=Compose(envelope=<chalk.envelope.Envelope object at 0x7a2e89f68730>, diagram1=Compose(envelope=<chalk.envelope.Envelope object at 0x7a2e89f6cdf0>, diagram1=Compose(envelope=<chalk.envelope.Envelope object at 0x7a2e89f6ff70>, diagram1=Compose(envelope=<chalk.envelope.Envelope object at 0x7a2e89f6f190>, diagram1=Compose(envelope=<chalk.envelope.Envelope object at 0x7a2e89f6f340>, diagram1=Empty(), diagram2=Empty()), diagram2=Empty()), diagram2=ApplyTransform(transform=Affine(1.0, 0.0, 0.0,\n",
              "       0.0, 1.0, 1.05), diagram=ApplyTransform(transform=Affine(0.0, 1.0, 0.0,\n",
              "       -1.0, 0.0, 0.0), diagram=Empty()))), diagram2=ApplyTransform(transform=Affine(1.0, 0.0, 0.0,\n",
              "       0.0, 1.0, 2.05), diagram=Compose(envelope=<chalk.envelope.Envelope object at 0x7a2e89f6dc30>, diagram1=Compose(envelope=<chalk.envelope.Envelope object at 0x7a2e89f6dba0>, diagram1=Empty(), diagram2=ApplyStyle(style=Style(line_width_=None, line_color_=None, fill_color_=None, fill_opacity_=0.5, dashing_=None, output_size=None), diagram=ApplyStyle(style=Style(line_width_=None, line_color_=None, fill_color_=<Color #bfbf00>, fill_opacity_=None, dashing_=None, output_size=None), diagram=Compose(envelope=<chalk.envelope.Envelope object at 0x7a2e89f69960>, diagram1=Compose(envelope=<chalk.envelope.Envelope object at 0x7a2e89f6a680>, diagram1=Empty(), diagram2=Primitive(shape=Path(loc_trails=[Located(trail=Trail(segments=[Segment(offset=Vec2(0.75, 0.0), origin=Vec2(0.0, 0.0)), Segment(offset=Vec2(0.0, 1.0), origin=Vec2(0.0, 0.0)), Segment(offset=Vec2(-0.75, 0.0), origin=Vec2(0.0, 0.0)), Segment(offset=Vec2(0.0, -1.0), origin=Vec2(0.0, 0.0))], closed=True), location=Vec2(0.0, 0.0))]), style=Style(line_width_=(<WidthType.NORMALIZED: 2>, 0.01), line_color_=<Color white>, fill_color_=None, fill_opacity_=None, dashing_=None, output_size=None), transform=Affine(1.0, 0.0, 0.0,\n",
              "       0.0, 1.0, -1.0))), diagram2=Primitive(shape=Path(loc_trails=[Located(trail=Trail(segments=[Segment(offset=Vec2(0.75, 0.0), origin=Vec2(0.0, 0.0)), Segment(offset=Vec2(0.0, 1.0), origin=Vec2(0.0, 0.0)), Segment(offset=Vec2(-0.75, 0.0), origin=Vec2(0.0, 0.0)), Segment(offset=Vec2(0.0, -1.0), origin=Vec2(0.0, 0.0))], closed=True), location=Vec2(0.0, 0.0))]), style=Style(line_width_=(<WidthType.NORMALIZED: 2>, 0.01), line_color_=<Color white>, fill_color_=None, fill_opacity_=None, dashing_=None, output_size=None), transform=Affine(1.0, 0.0, 0.75,\n",
              "       0.0, 1.0, -1.0)))))), diagram2=Empty()))), diagram2=ApplyTransform(transform=Affine(1.0, 0.0, 0.0,\n",
              "       0.0, 1.0, 3.0999999999999996), diagram=ApplyTransform(transform=Affine(0.0, 1.0, 0.0,\n",
              "       -1.0, 0.0, 0.0), diagram=Empty()))), diagram2=ApplyTransform(transform=Affine(1.0, 0.0, 0.0,\n",
              "       0.0, 1.0, 4.1), diagram=Compose(envelope=<chalk.envelope.Envelope object at 0x7a2e89f6a350>, diagram1=Compose(envelope=<chalk.envelope.Envelope object at 0x7a2e89f6a380>, diagram1=Empty(), diagram2=Empty()), diagram2=Empty())))), diagram2=Compose(envelope=<chalk.envelope.Envelope object at 0x7a2ea007c340>, diagram1=Compose(envelope=<chalk.envelope.Envelope object at 0x7a2e89f8d420>, diagram1=Compose(envelope=<chalk.envelope.Envelope object at 0x7a2e89f8faf0>, diagram1=Compose(envelope=<chalk.envelope.Envelope object at 0x7a2e89f8e080>, diagram1=Compose(envelope=<chalk.envelope.Envelope object at 0x7a2e89f8cf10>, diagram1=Compose(envelope=<chalk.envelope.Envelope object at 0x7a2e89f8d600>, diagram1=Empty(), diagram2=Empty()), diagram2=Empty()), diagram2=ApplyTransform(transform=Affine(1.0, 0.0, 0.0,\n",
              "       0.0, 1.0, 1.05), diagram=ApplyTransform(transform=Affine(0.0, 1.0, 0.0,\n",
              "       -1.0, 0.0, 0.0), diagram=Empty()))), diagram2=ApplyTransform(transform=Affine(1.0, 0.0, 0.0,\n",
              "       0.0, 1.0, 2.05), diagram=Compose(envelope=<chalk.envelope.Envelope object at 0x7a2e89f8f9d0>, diagram1=Compose(envelope=<chalk.envelope.Envelope object at 0x7a2e89f8fd60>, diagram1=Empty(), diagram2=Empty()), diagram2=Empty()))), diagram2=ApplyTransform(transform=Affine(1.0, 0.0, 0.0,\n",
              "       0.0, 1.0, 3.0999999999999996), diagram=ApplyTransform(transform=Affine(0.0, 1.0, 0.0,\n",
              "       -1.0, 0.0, 0.0), diagram=Empty()))), diagram2=ApplyTransform(transform=Affine(1.0, 0.0, 0.0,\n",
              "       0.0, 1.0, 4.1), diagram=Compose(envelope=<chalk.envelope.Envelope object at 0x7a2e89f8c460>, diagram1=Compose(envelope=<chalk.envelope.Envelope object at 0x7a2e89f8c550>, diagram1=Empty(), diagram2=ApplyStyle(style=Style(line_width_=None, line_color_=None, fill_color_=None, fill_opacity_=0.5, dashing_=None, output_size=None), diagram=ApplyStyle(style=Style(line_width_=None, line_color_=None, fill_color_=<Color green>, fill_opacity_=None, dashing_=None, output_size=None), diagram=Compose(envelope=<chalk.envelope.Envelope object at 0x7a2e89f85c60>, diagram1=Compose(envelope=<chalk.envelope.Envelope object at 0x7a2e89f85960>, diagram1=Empty(), diagram2=Primitive(shape=Path(loc_trails=[Located(trail=Trail(segments=[Segment(offset=Vec2(0.75, 0.0), origin=Vec2(0.0, 0.0)), Segment(offset=Vec2(0.0, 1.0), origin=Vec2(0.0, 0.0)), Segment(offset=Vec2(-0.75, 0.0), origin=Vec2(0.0, 0.0)), Segment(offset=Vec2(0.0, -1.0), origin=Vec2(0.0, 0.0))], closed=True), location=Vec2(0.0, 0.0))]), style=Style(line_width_=(<WidthType.NORMALIZED: 2>, 0.01), line_color_=<Color white>, fill_color_=None, fill_opacity_=None, dashing_=None, output_size=None), transform=Affine(1.0, 0.0, 0.0,\n",
              "       0.0, 1.0, -1.0))), diagram2=Primitive(shape=Path(loc_trails=[Located(trail=Trail(segments=[Segment(offset=Vec2(0.75, 0.0), origin=Vec2(0.0, 0.0)), Segment(offset=Vec2(0.0, 1.0), origin=Vec2(0.0, 0.0)), Segment(offset=Vec2(-0.75, 0.0), origin=Vec2(0.0, 0.0)), Segment(offset=Vec2(0.0, -1.0), origin=Vec2(0.0, 0.0))], closed=True), location=Vec2(0.0, 0.0))]), style=Style(line_width_=(<WidthType.NORMALIZED: 2>, 0.01), line_color_=<Color white>, fill_color_=None, fill_opacity_=None, dashing_=None, output_size=None), transform=Affine(1.0, 0.0, 0.75,\n",
              "       0.0, 1.0, -1.0)))))), diagram2=Empty())))))"
            ],
            "image/svg+xml": "<?xml version=\"1.0\" encoding=\"utf-8\" ?>\n<svg baseProfile=\"full\" height=\"400\" version=\"1.1\" width=\"233\" xmlns=\"http://www.w3.org/2000/svg\" xmlns:ev=\"http://www.w3.org/2001/xml-events\" xmlns:xlink=\"http://www.w3.org/1999/xlink\"><defs><marker id=\"arrow\" markerHeight=\"3.5\" markerWidth=\"5\" orient=\"auto\" refX=\"5.0\" refY=\"1.7\"><polygon points=\"0,0 5,1.75 0,3.5\" /></marker></defs><g style=\"fill:white;\"><g transform=\"matrix(1.0, 0.0, 0.0, 1.0, 116.50000000000001, 199.99166666666667)\"><g transform=\"matrix(73.96825396825396, 0.0, 0.0, 73.96825396825396, 0.0, 0.0)\"><g><g transform=\"matrix(1.0, 0.0, 0.0, 1.0, -0.0, -2.5749999999999997)\"><g><g><g><g><g><g><g style=\"stroke: black;stroke-width: 3.6;\" transform=\"matrix(1.0, 0.0, 0.0, 1.0, -0.75, 0.0)\"><path d=\"M 0.0 0.0 L 1.5 0.0 L 1.5 1.05 L 0.0 1.05 L 0.0 0.0 Z\" style=\"vector-effect: non-scaling-stroke;\" /></g><g style=\"stroke: black;stroke-width: 3.6;\" transform=\"matrix(1.0, 0.0, 0.0, 1.0, -1.5, 0.0)\"><path d=\"M 0.0 0.0 L 3.0 0.0 L 3.0 0.0 L 0.0 0.0 L 0.0 0.0 Z\" style=\"vector-effect: non-scaling-stroke;\" /></g></g><g transform=\"matrix(1.0, 0.0, 0.0, 1.0, 0.0, 1.05)\"><g transform=\"matrix(0.0, -1.0, 1.0, 0.0, 0.0, 0.0)\"><g /></g></g></g><g transform=\"matrix(1.0, 0.0, 0.0, 1.0, 0.0, 2.05)\"><g><g style=\"stroke: black;stroke-width: 3.6;\" transform=\"matrix(1.0, 0.0, 0.0, 1.0, -0.75, 0.0)\"><path d=\"M 0.0 0.0 L 1.5 0.0 L 1.5 1.05 L 0.0 1.05 L 0.0 0.0 Z\" style=\"vector-effect: non-scaling-stroke;\" /></g><g style=\"stroke: black;stroke-width: 3.6;\" transform=\"matrix(1.0, 0.0, 0.0, 1.0, -1.5, -1.0)\"><path d=\"M 0.0 0.0 L 3.0 0.0 L 3.0 1.0 L 0.0 1.0 L 0.0 0.0 Z\" style=\"vector-effect: non-scaling-stroke;\" /></g></g></g></g><g transform=\"matrix(1.0, 0.0, 0.0, 1.0, 0.0, 3.0999999999999996)\"><g transform=\"matrix(0.0, -1.0, 1.0, 0.0, 0.0, 0.0)\"><g /></g></g></g><g transform=\"matrix(1.0, 0.0, 0.0, 1.0, 0.0, 4.1)\"><g><g style=\"stroke: black;stroke-width: 3.6;\" transform=\"matrix(1.0, 0.0, 0.0, 1.0, -0.75, 0.0)\"><path d=\"M 0.0 0.0 L 1.5 0.0 L 1.5 1.05 L 0.0 1.05 L 0.0 0.0 Z\" style=\"vector-effect: non-scaling-stroke;\" /></g><g style=\"stroke: black;stroke-width: 3.6;\" transform=\"matrix(1.0, 0.0, 0.0, 1.0, -1.5, -1.0)\"><path d=\"M 0.0 0.0 L 3.0 0.0 L 3.0 1.0 L 0.0 1.0 L 0.0 0.0 Z\" style=\"vector-effect: non-scaling-stroke;\" /></g></g></g></g><g><g><g /><g><g><g><g><g><g><g /><g /></g><g /></g><g transform=\"matrix(1.0, 0.0, 0.0, 1.0, 0.0, 1.05)\"><g transform=\"matrix(0.0, -1.0, 1.0, 0.0, 0.0, 0.0)\"><g /></g></g></g><g transform=\"matrix(1.0, 0.0, 0.0, 1.0, 0.0, 2.05)\"><g><g><g /><g><g><g /><g style=\"fill: #bfbf00;stroke: #ffffff;stroke-width: 0.18;fill-opacity: 0.5;\" transform=\"matrix(1.0, 0.0, 0.0, 1.0, 0.0, -1.0)\"><path d=\"M 0.0 0.0 L 0.75 0.0 L 0.75 1.0 L 0.0 1.0 L 0.0 0.0 Z\" style=\"vector-effect: non-scaling-stroke;\" /></g></g><g style=\"fill: #bfbf00;stroke: #ffffff;stroke-width: 0.18;fill-opacity: 0.5;\" transform=\"matrix(1.0, 0.0, 0.0, 1.0, 0.75, -1.0)\"><path d=\"M 0.0 0.0 L 0.75 0.0 L 0.75 1.0 L 0.0 1.0 L 0.0 0.0 Z\" style=\"vector-effect: non-scaling-stroke;\" /></g></g></g><g /></g></g></g><g transform=\"matrix(1.0, 0.0, 0.0, 1.0, 0.0, 3.0999999999999996)\"><g transform=\"matrix(0.0, -1.0, 1.0, 0.0, 0.0, 0.0)\"><g /></g></g></g><g transform=\"matrix(1.0, 0.0, 0.0, 1.0, 0.0, 4.1)\"><g><g><g /><g /></g><g /></g></g></g></g><g><g><g><g><g><g><g /><g /></g><g /></g><g transform=\"matrix(1.0, 0.0, 0.0, 1.0, 0.0, 1.05)\"><g transform=\"matrix(0.0, -1.0, 1.0, 0.0, 0.0, 0.0)\"><g /></g></g></g><g transform=\"matrix(1.0, 0.0, 0.0, 1.0, 0.0, 2.05)\"><g><g><g /><g /></g><g /></g></g></g><g transform=\"matrix(1.0, 0.0, 0.0, 1.0, 0.0, 3.0999999999999996)\"><g transform=\"matrix(0.0, -1.0, 1.0, 0.0, 0.0, 0.0)\"><g /></g></g></g><g transform=\"matrix(1.0, 0.0, 0.0, 1.0, 0.0, 4.1)\"><g><g><g /><g><g><g /><g style=\"fill: #008000;stroke: #ffffff;stroke-width: 0.18;fill-opacity: 0.5;\" transform=\"matrix(1.0, 0.0, 0.0, 1.0, 0.0, -1.0)\"><path d=\"M 0.0 0.0 L 0.75 0.0 L 0.75 1.0 L 0.0 1.0 L 0.0 0.0 Z\" style=\"vector-effect: non-scaling-stroke;\" /></g></g><g style=\"fill: #008000;stroke: #ffffff;stroke-width: 0.18;fill-opacity: 0.5;\" transform=\"matrix(1.0, 0.0, 0.0, 1.0, 0.75, -1.0)\"><path d=\"M 0.0 0.0 L 0.75 0.0 L 0.75 1.0 L 0.0 1.0 L 0.0 0.0 Z\" style=\"vector-effect: non-scaling-stroke;\" /></g></g></g><g /></g></g></g></g></g></g><g /></g></g></g></g></svg>"
          },
          "metadata": {},
          "execution_count": 11
        }
      ],
      "source": [
        "# Grad weights keep track of which batches they are for. Here we only have the grad weights for batches 2 and 3.\n",
        "draw_group(grad_weights)"
      ]
    },
    {
      "cell_type": "code",
      "execution_count": null,
      "id": "d3d469f7",
      "metadata": {
        "id": "d3d469f7",
        "colab": {
          "base_uri": "https://localhost:8080/"
        },
        "outputId": "a2d77586-be21-4221-cce5-6ceebb6f4fce"
      },
      "outputs": [
        {
          "output_type": "stream",
          "name": "stdout",
          "text": [
            "Error! Only have batches\n",
            "{2, 3}\n"
          ]
        }
      ],
      "source": [
        "# If we try to update with the grad weights we will get an error.\n",
        "try:\n",
        "    model.update(0, weight_grad=grad_weights[0], weight=weights[0], opt_state=opt_states[0])\n",
        "except AssertionError as e:\n",
        "    print(\"Error! Only have batches\")\n",
        "    print(e)"
      ]
    },
    {
      "cell_type": "code",
      "execution_count": null,
      "id": "55046513",
      "metadata": {
        "lines_to_next_cell": 2,
        "id": "55046513",
        "colab": {
          "base_uri": "https://localhost:8080/",
          "height": 421
        },
        "outputId": "2a0dbc93-5d43-4d5a-fcbe-9c0657b2616e"
      },
      "outputs": [
        {
          "output_type": "execute_result",
          "data": {
            "text/plain": [
              "WeightGrad(layer=0, layers=2, batches=frozenset({0, 1}), total_batches=4, shards=frozenset({0}), total=1)"
            ],
            "image/svg+xml": "<?xml version=\"1.0\" encoding=\"utf-8\" ?>\n<svg baseProfile=\"full\" height=\"400\" version=\"1.1\" width=\"233\" xmlns=\"http://www.w3.org/2000/svg\" xmlns:ev=\"http://www.w3.org/2001/xml-events\" xmlns:xlink=\"http://www.w3.org/1999/xlink\"><defs><marker id=\"arrow\" markerHeight=\"3.5\" markerWidth=\"5\" orient=\"auto\" refX=\"5.0\" refY=\"1.7\"><polygon points=\"0,0 5,1.75 0,3.5\" /></marker></defs><g style=\"fill:white;\"><g transform=\"matrix(1.0, 0.0, 0.0, 1.0, 116.50000000000001, 199.99166666666667)\"><g transform=\"matrix(73.96825396825396, 0.0, 0.0, 73.96825396825396, 0.0, 0.0)\"><g><g transform=\"matrix(1.0, 0.0, 0.0, 1.0, -0.0, -2.5749999999999997)\"><g><g><g><g><g><g><g style=\"stroke: black;stroke-width: 3.6;\" transform=\"matrix(1.0, 0.0, 0.0, 1.0, -0.75, 0.0)\"><path d=\"M 0.0 0.0 L 1.5 0.0 L 1.5 1.05 L 0.0 1.05 L 0.0 0.0 Z\" style=\"vector-effect: non-scaling-stroke;\" /></g><g style=\"stroke: black;stroke-width: 3.6;\" transform=\"matrix(1.0, 0.0, 0.0, 1.0, -1.5, 0.0)\"><path d=\"M 0.0 0.0 L 3.0 0.0 L 3.0 0.0 L 0.0 0.0 L 0.0 0.0 Z\" style=\"vector-effect: non-scaling-stroke;\" /></g></g><g transform=\"matrix(1.0, 0.0, 0.0, 1.0, 0.0, 1.05)\"><g transform=\"matrix(0.0, -1.0, 1.0, 0.0, 0.0, 0.0)\"><g /></g></g></g><g transform=\"matrix(1.0, 0.0, 0.0, 1.0, 0.0, 2.05)\"><g><g style=\"stroke: black;stroke-width: 3.6;\" transform=\"matrix(1.0, 0.0, 0.0, 1.0, -0.75, 0.0)\"><path d=\"M 0.0 0.0 L 1.5 0.0 L 1.5 1.05 L 0.0 1.05 L 0.0 0.0 Z\" style=\"vector-effect: non-scaling-stroke;\" /></g><g style=\"stroke: black;stroke-width: 3.6;\" transform=\"matrix(1.0, 0.0, 0.0, 1.0, -1.5, -1.0)\"><path d=\"M 0.0 0.0 L 3.0 0.0 L 3.0 1.0 L 0.0 1.0 L 0.0 0.0 Z\" style=\"vector-effect: non-scaling-stroke;\" /></g></g></g></g><g transform=\"matrix(1.0, 0.0, 0.0, 1.0, 0.0, 3.0999999999999996)\"><g transform=\"matrix(0.0, -1.0, 1.0, 0.0, 0.0, 0.0)\"><g /></g></g></g><g transform=\"matrix(1.0, 0.0, 0.0, 1.0, 0.0, 4.1)\"><g><g style=\"stroke: black;stroke-width: 3.6;\" transform=\"matrix(1.0, 0.0, 0.0, 1.0, -0.75, 0.0)\"><path d=\"M 0.0 0.0 L 1.5 0.0 L 1.5 1.05 L 0.0 1.05 L 0.0 0.0 Z\" style=\"vector-effect: non-scaling-stroke;\" /></g><g style=\"stroke: black;stroke-width: 3.6;\" transform=\"matrix(1.0, 0.0, 0.0, 1.0, -1.5, -1.0)\"><path d=\"M 0.0 0.0 L 3.0 0.0 L 3.0 1.0 L 0.0 1.0 L 0.0 0.0 Z\" style=\"vector-effect: non-scaling-stroke;\" /></g></g></g></g><g><g><g><g><g><g><g /><g /></g><g /></g><g transform=\"matrix(1.0, 0.0, 0.0, 1.0, 0.0, 1.05)\"><g transform=\"matrix(0.0, -1.0, 1.0, 0.0, 0.0, 0.0)\"><g /></g></g></g><g transform=\"matrix(1.0, 0.0, 0.0, 1.0, 0.0, 2.05)\"><g><g><g /><g /></g><g /></g></g></g><g transform=\"matrix(1.0, 0.0, 0.0, 1.0, 0.0, 3.0999999999999996)\"><g transform=\"matrix(0.0, -1.0, 1.0, 0.0, 0.0, 0.0)\"><g /></g></g></g><g transform=\"matrix(1.0, 0.0, 0.0, 1.0, 0.0, 4.1)\"><g><g><g /><g><g><g /><g style=\"fill: #008000;stroke: #ffffff;stroke-width: 0.18;fill-opacity: 0.5;\" transform=\"matrix(1.0, 0.0, 0.0, 1.0, -1.5, -1.0)\"><path d=\"M 0.0 0.0 L 0.75 0.0 L 0.75 1.0 L 0.0 1.0 L 0.0 0.0 Z\" style=\"vector-effect: non-scaling-stroke;\" /></g></g><g style=\"fill: #008000;stroke: #ffffff;stroke-width: 0.18;fill-opacity: 0.5;\" transform=\"matrix(1.0, 0.0, 0.0, 1.0, -0.75, -1.0)\"><path d=\"M 0.0 0.0 L 0.75 0.0 L 0.75 1.0 L 0.0 1.0 L 0.0 0.0 Z\" style=\"vector-effect: non-scaling-stroke;\" /></g></g></g><g /></g></g></g></g></g><g /></g></g></g></g></svg>"
          },
          "metadata": {},
          "execution_count": 13
        }
      ],
      "source": [
        "# For this example, we can cheat. Pretend we had the other gradients we needed.\n",
        "grad_weights[0, 0] = model.fake_grad(0, [0,1])\n",
        "grad_weights[1, 0] = model.fake_grad(1, [0,1])\n",
        "grad_weights[0, 0]"
      ]
    },
    {
      "cell_type": "code",
      "execution_count": null,
      "id": "f5caee88",
      "metadata": {
        "id": "f5caee88"
      },
      "outputs": [],
      "source": [
        "# Summing together grad_weights gives the full gradient.\n",
        "grad_weights[0] = grad_weights[0] + grad_weights[0, 0]"
      ]
    },
    {
      "cell_type": "code",
      "execution_count": null,
      "id": "dfe2165e",
      "metadata": {
        "lines_to_next_cell": 2,
        "id": "dfe2165e"
      },
      "outputs": [],
      "source": [
        "# Now we can call update to the get the new weights and opt_state.\n",
        "weights[0], opt_states[0] = model.update(0, weight_grad=grad_weights[0], weight=weights[0],\n",
        "                                         opt_state=opt_states[0])\n",
        "\n",
        "# WARNING: You need to set all variables. Otherwise they are not counted towards memory.\n",
        "grad_weights[1] = grad_weights[1] + grad_weights[1, 0]\n",
        "weights[1], opt_states[1] = model.update(1, weight_grad=grad_weights[1],\n",
        "                                         weight=weights[1], opt_state=opt_states[1])"
      ]
    },
    {
      "cell_type": "code",
      "execution_count": null,
      "id": "f9582594",
      "metadata": {
        "id": "f9582594",
        "colab": {
          "base_uri": "https://localhost:8080/",
          "height": 439
        },
        "outputId": "fd1d3813-7c2b-49fd-aea8-cbc363675d79"
      },
      "outputs": [
        {
          "output_type": "stream",
          "name": "stdout",
          "text": [
            "Correct!\n"
          ]
        },
        {
          "output_type": "execute_result",
          "data": {
            "text/plain": [
              "Compose(envelope=<chalk.envelope.Envelope object at 0x7a2ea007ee90>, diagram1=Compose(envelope=<chalk.envelope.Envelope object at 0x7a2ea007de70>, diagram1=Compose(envelope=<chalk.envelope.Envelope object at 0x7a2e89f6a0e0>, diagram1=Compose(envelope=<chalk.envelope.Envelope object at 0x7a2ea007c610>, diagram1=Compose(envelope=<chalk.envelope.Envelope object at 0x7a2ea007e7a0>, diagram1=Compose(envelope=<chalk.envelope.Envelope object at 0x7a2ea007e5c0>, diagram1=Primitive(shape=Path(loc_trails=[Located(trail=Trail(segments=[Segment(offset=Vec2(1.5, 0.0), origin=Vec2(0.0, 0.0)), Segment(offset=Vec2(0.0, 1.05), origin=Vec2(0.0, 0.0)), Segment(offset=Vec2(-1.5, 0.0), origin=Vec2(0.0, 0.0)), Segment(offset=Vec2(0.0, -1.05), origin=Vec2(0.0, 0.0))], closed=True), location=Vec2(0.0, 0.0))]), style=Style(line_width_=(<WidthType.NORMALIZED: 2>, 0.2), line_color_=None, fill_color_=None, fill_opacity_=None, dashing_=None, output_size=None), transform=Affine(1.0, 0.0, -0.75,\n",
              "       0.0, 1.0, 0.0)), diagram2=Primitive(shape=Path(loc_trails=[Located(trail=Trail(segments=[Segment(offset=Vec2(3.0, 0.0), origin=Vec2(0.0, 0.0)), Segment(offset=Vec2(0.0, 0.0), origin=Vec2(0.0, 0.0)), Segment(offset=Vec2(-3.0, 0.0), origin=Vec2(0.0, 0.0)), Segment(offset=Vec2(0.0, 0.0), origin=Vec2(0.0, 0.0))], closed=True), location=Vec2(0.0, 0.0))]), style=Style(line_width_=(<WidthType.NORMALIZED: 2>, 0.2), line_color_=None, fill_color_=None, fill_opacity_=None, dashing_=None, output_size=None), transform=Affine(1.0, 0.0, -1.5,\n",
              "       0.0, 1.0, 0.0))), diagram2=ApplyTransform(transform=Affine(1.0, 0.0, 0.0,\n",
              "       0.0, 1.0, 1.05), diagram=ApplyTransform(transform=Affine(0.0, 1.0, 0.0,\n",
              "       -1.0, 0.0, 0.0), diagram=Empty()))), diagram2=ApplyTransform(transform=Affine(1.0, 0.0, 0.0,\n",
              "       0.0, 1.0, 2.05), diagram=Compose(envelope=<chalk.envelope.Envelope object at 0x7a2e89f5eb00>, diagram1=Primitive(shape=Path(loc_trails=[Located(trail=Trail(segments=[Segment(offset=Vec2(1.5, 0.0), origin=Vec2(0.0, 0.0)), Segment(offset=Vec2(0.0, 1.05), origin=Vec2(0.0, 0.0)), Segment(offset=Vec2(-1.5, 0.0), origin=Vec2(0.0, 0.0)), Segment(offset=Vec2(0.0, -1.05), origin=Vec2(0.0, 0.0))], closed=True), location=Vec2(0.0, 0.0))]), style=Style(line_width_=(<WidthType.NORMALIZED: 2>, 0.2), line_color_=None, fill_color_=None, fill_opacity_=None, dashing_=None, output_size=None), transform=Affine(1.0, 0.0, -0.75,\n",
              "       0.0, 1.0, 0.0)), diagram2=Primitive(shape=Path(loc_trails=[Located(trail=Trail(segments=[Segment(offset=Vec2(3.0, 0.0), origin=Vec2(0.0, 0.0)), Segment(offset=Vec2(0.0, 1.0), origin=Vec2(0.0, 0.0)), Segment(offset=Vec2(-3.0, 0.0), origin=Vec2(0.0, 0.0)), Segment(offset=Vec2(0.0, -1.0), origin=Vec2(0.0, 0.0))], closed=True), location=Vec2(0.0, 0.0))]), style=Style(line_width_=(<WidthType.NORMALIZED: 2>, 0.2), line_color_=None, fill_color_=None, fill_opacity_=None, dashing_=None, output_size=None), transform=Affine(1.0, 0.0, -1.5,\n",
              "       0.0, 1.0, -1.0))))), diagram2=ApplyTransform(transform=Affine(1.0, 0.0, 0.0,\n",
              "       0.0, 1.0, 3.0999999999999996), diagram=ApplyTransform(transform=Affine(0.0, 1.0, 0.0,\n",
              "       -1.0, 0.0, 0.0), diagram=Empty()))), diagram2=ApplyTransform(transform=Affine(1.0, 0.0, 0.0,\n",
              "       0.0, 1.0, 4.1), diagram=Compose(envelope=<chalk.envelope.Envelope object at 0x7a2e89f5c730>, diagram1=Primitive(shape=Path(loc_trails=[Located(trail=Trail(segments=[Segment(offset=Vec2(1.5, 0.0), origin=Vec2(0.0, 0.0)), Segment(offset=Vec2(0.0, 1.05), origin=Vec2(0.0, 0.0)), Segment(offset=Vec2(-1.5, 0.0), origin=Vec2(0.0, 0.0)), Segment(offset=Vec2(0.0, -1.05), origin=Vec2(0.0, 0.0))], closed=True), location=Vec2(0.0, 0.0))]), style=Style(line_width_=(<WidthType.NORMALIZED: 2>, 0.2), line_color_=None, fill_color_=None, fill_opacity_=None, dashing_=None, output_size=None), transform=Affine(1.0, 0.0, -0.75,\n",
              "       0.0, 1.0, 0.0)), diagram2=Primitive(shape=Path(loc_trails=[Located(trail=Trail(segments=[Segment(offset=Vec2(3.0, 0.0), origin=Vec2(0.0, 0.0)), Segment(offset=Vec2(0.0, 1.0), origin=Vec2(0.0, 0.0)), Segment(offset=Vec2(-3.0, 0.0), origin=Vec2(0.0, 0.0)), Segment(offset=Vec2(0.0, -1.0), origin=Vec2(0.0, 0.0))], closed=True), location=Vec2(0.0, 0.0))]), style=Style(line_width_=(<WidthType.NORMALIZED: 2>, 0.2), line_color_=None, fill_color_=None, fill_opacity_=None, dashing_=None, output_size=None), transform=Affine(1.0, 0.0, -1.5,\n",
              "       0.0, 1.0, -1.0))))), diagram2=Compose(envelope=<chalk.envelope.Envelope object at 0x7a2ea007d6f0>, diagram1=Compose(envelope=<chalk.envelope.Envelope object at 0x7a2ea007fdf0>, diagram1=Empty(), diagram2=Compose(envelope=<chalk.envelope.Envelope object at 0x7a2e89fbe770>, diagram1=Compose(envelope=<chalk.envelope.Envelope object at 0x7a2e89fbd660>, diagram1=Compose(envelope=<chalk.envelope.Envelope object at 0x7a2e89fb6e00>, diagram1=Compose(envelope=<chalk.envelope.Envelope object at 0x7a2e89fb6f20>, diagram1=Compose(envelope=<chalk.envelope.Envelope object at 0x7a2e89fbd030>, diagram1=Compose(envelope=<chalk.envelope.Envelope object at 0x7a2e89fbce50>, diagram1=Empty(), diagram2=Empty()), diagram2=Empty()), diagram2=ApplyTransform(transform=Affine(1.0, 0.0, 0.0,\n",
              "       0.0, 1.0, 1.05), diagram=ApplyTransform(transform=Affine(0.0, 1.0, 0.0,\n",
              "       -1.0, 0.0, 0.0), diagram=Empty()))), diagram2=ApplyTransform(transform=Affine(1.0, 0.0, 0.0,\n",
              "       0.0, 1.0, 2.05), diagram=Compose(envelope=<chalk.envelope.Envelope object at 0x7a2e89fbc490>, diagram1=Compose(envelope=<chalk.envelope.Envelope object at 0x7a2e89fbc5b0>, diagram1=Empty(), diagram2=Empty()), diagram2=Empty()))), diagram2=ApplyTransform(transform=Affine(1.0, 0.0, 0.0,\n",
              "       0.0, 1.0, 3.0999999999999996), diagram=ApplyTransform(transform=Affine(0.0, 1.0, 0.0,\n",
              "       -1.0, 0.0, 0.0), diagram=Empty()))), diagram2=ApplyTransform(transform=Affine(1.0, 0.0, 0.0,\n",
              "       0.0, 1.0, 4.1), diagram=Compose(envelope=<chalk.envelope.Envelope object at 0x7a2e89fb6c20>, diagram1=Compose(envelope=<chalk.envelope.Envelope object at 0x7a2e89fb4f40>, diagram1=Empty(), diagram2=ApplyStyle(style=Style(line_width_=None, line_color_=None, fill_color_=<Color green>, fill_opacity_=None, dashing_=None, output_size=None), diagram=Compose(envelope=<chalk.envelope.Envelope object at 0x7a2e89fb5ae0>, diagram1=Empty(), diagram2=Primitive(shape=Path(loc_trails=[Located(trail=Trail(segments=[Segment(offset=Vec2(3.0, 0.0), origin=Vec2(0.0, 0.0)), Segment(offset=Vec2(0.0, 1.0), origin=Vec2(0.0, 0.0)), Segment(offset=Vec2(-3.0, 0.0), origin=Vec2(0.0, 0.0)), Segment(offset=Vec2(0.0, -1.0), origin=Vec2(0.0, 0.0))], closed=True), location=Vec2(0.0, 0.0))]), style=Style(line_width_=(<WidthType.NORMALIZED: 2>, 0.01), line_color_=<Color white>, fill_color_=None, fill_opacity_=None, dashing_=None, output_size=None), transform=Affine(1.0, 0.0, -1.5,\n",
              "       0.0, 1.0, -1.0))))), diagram2=Empty())))), diagram2=Compose(envelope=<chalk.envelope.Envelope object at 0x7a2e89fdd990>, diagram1=Compose(envelope=<chalk.envelope.Envelope object at 0x7a2e89fdc850>, diagram1=Compose(envelope=<chalk.envelope.Envelope object at 0x7a2e89fbfcd0>, diagram1=Compose(envelope=<chalk.envelope.Envelope object at 0x7a2e89fd3760>, diagram1=Compose(envelope=<chalk.envelope.Envelope object at 0x7a2e89fdc4f0>, diagram1=Compose(envelope=<chalk.envelope.Envelope object at 0x7a2e89fdc0a0>, diagram1=Empty(), diagram2=Empty()), diagram2=Empty()), diagram2=ApplyTransform(transform=Affine(1.0, 0.0, 0.0,\n",
              "       0.0, 1.0, 1.05), diagram=ApplyTransform(transform=Affine(0.0, 1.0, 0.0,\n",
              "       -1.0, 0.0, 0.0), diagram=Empty()))), diagram2=ApplyTransform(transform=Affine(1.0, 0.0, 0.0,\n",
              "       0.0, 1.0, 2.05), diagram=Compose(envelope=<chalk.envelope.Envelope object at 0x7a2e89fd3550>, diagram1=Compose(envelope=<chalk.envelope.Envelope object at 0x7a2e89fd3430>, diagram1=Empty(), diagram2=ApplyStyle(style=Style(line_width_=None, line_color_=None, fill_color_=<Color #bfbf00>, fill_opacity_=None, dashing_=None, output_size=None), diagram=Compose(envelope=<chalk.envelope.Envelope object at 0x7a2e89fd1540>, diagram1=Empty(), diagram2=Primitive(shape=Path(loc_trails=[Located(trail=Trail(segments=[Segment(offset=Vec2(3.0, 0.0), origin=Vec2(0.0, 0.0)), Segment(offset=Vec2(0.0, 1.0), origin=Vec2(0.0, 0.0)), Segment(offset=Vec2(-3.0, 0.0), origin=Vec2(0.0, 0.0)), Segment(offset=Vec2(0.0, -1.0), origin=Vec2(0.0, 0.0))], closed=True), location=Vec2(0.0, 0.0))]), style=Style(line_width_=(<WidthType.NORMALIZED: 2>, 0.01), line_color_=<Color white>, fill_color_=None, fill_opacity_=None, dashing_=None, output_size=None), transform=Affine(1.0, 0.0, -1.5,\n",
              "       0.0, 1.0, -1.0))))), diagram2=Empty()))), diagram2=ApplyTransform(transform=Affine(1.0, 0.0, 0.0,\n",
              "       0.0, 1.0, 3.0999999999999996), diagram=ApplyTransform(transform=Affine(0.0, 1.0, 0.0,\n",
              "       -1.0, 0.0, 0.0), diagram=Empty()))), diagram2=ApplyTransform(transform=Affine(1.0, 0.0, 0.0,\n",
              "       0.0, 1.0, 4.1), diagram=Compose(envelope=<chalk.envelope.Envelope object at 0x7a2e89fd06d0>, diagram1=Compose(envelope=<chalk.envelope.Envelope object at 0x7a2e89fd0910>, diagram1=Empty(), diagram2=Empty()), diagram2=Empty())))))"
            ],
            "image/svg+xml": "<?xml version=\"1.0\" encoding=\"utf-8\" ?>\n<svg baseProfile=\"full\" height=\"400\" version=\"1.1\" width=\"233\" xmlns=\"http://www.w3.org/2000/svg\" xmlns:ev=\"http://www.w3.org/2001/xml-events\" xmlns:xlink=\"http://www.w3.org/1999/xlink\"><defs><marker id=\"arrow\" markerHeight=\"3.5\" markerWidth=\"5\" orient=\"auto\" refX=\"5.0\" refY=\"1.7\"><polygon points=\"0,0 5,1.75 0,3.5\" /></marker></defs><g style=\"fill:white;\"><g transform=\"matrix(1.0, 0.0, 0.0, 1.0, 116.50000000000001, 199.99166666666667)\"><g transform=\"matrix(73.96825396825396, 0.0, 0.0, 73.96825396825396, 0.0, 0.0)\"><g><g transform=\"matrix(1.0, 0.0, 0.0, 1.0, -0.0, -2.5749999999999997)\"><g><g><g><g><g><g><g style=\"stroke: black;stroke-width: 3.6;\" transform=\"matrix(1.0, 0.0, 0.0, 1.0, -0.75, 0.0)\"><path d=\"M 0.0 0.0 L 1.5 0.0 L 1.5 1.05 L 0.0 1.05 L 0.0 0.0 Z\" style=\"vector-effect: non-scaling-stroke;\" /></g><g style=\"stroke: black;stroke-width: 3.6;\" transform=\"matrix(1.0, 0.0, 0.0, 1.0, -1.5, 0.0)\"><path d=\"M 0.0 0.0 L 3.0 0.0 L 3.0 0.0 L 0.0 0.0 L 0.0 0.0 Z\" style=\"vector-effect: non-scaling-stroke;\" /></g></g><g transform=\"matrix(1.0, 0.0, 0.0, 1.0, 0.0, 1.05)\"><g transform=\"matrix(0.0, -1.0, 1.0, 0.0, 0.0, 0.0)\"><g /></g></g></g><g transform=\"matrix(1.0, 0.0, 0.0, 1.0, 0.0, 2.05)\"><g><g style=\"stroke: black;stroke-width: 3.6;\" transform=\"matrix(1.0, 0.0, 0.0, 1.0, -0.75, 0.0)\"><path d=\"M 0.0 0.0 L 1.5 0.0 L 1.5 1.05 L 0.0 1.05 L 0.0 0.0 Z\" style=\"vector-effect: non-scaling-stroke;\" /></g><g style=\"stroke: black;stroke-width: 3.6;\" transform=\"matrix(1.0, 0.0, 0.0, 1.0, -1.5, -1.0)\"><path d=\"M 0.0 0.0 L 3.0 0.0 L 3.0 1.0 L 0.0 1.0 L 0.0 0.0 Z\" style=\"vector-effect: non-scaling-stroke;\" /></g></g></g></g><g transform=\"matrix(1.0, 0.0, 0.0, 1.0, 0.0, 3.0999999999999996)\"><g transform=\"matrix(0.0, -1.0, 1.0, 0.0, 0.0, 0.0)\"><g /></g></g></g><g transform=\"matrix(1.0, 0.0, 0.0, 1.0, 0.0, 4.1)\"><g><g style=\"stroke: black;stroke-width: 3.6;\" transform=\"matrix(1.0, 0.0, 0.0, 1.0, -0.75, 0.0)\"><path d=\"M 0.0 0.0 L 1.5 0.0 L 1.5 1.05 L 0.0 1.05 L 0.0 0.0 Z\" style=\"vector-effect: non-scaling-stroke;\" /></g><g style=\"stroke: black;stroke-width: 3.6;\" transform=\"matrix(1.0, 0.0, 0.0, 1.0, -1.5, -1.0)\"><path d=\"M 0.0 0.0 L 3.0 0.0 L 3.0 1.0 L 0.0 1.0 L 0.0 0.0 Z\" style=\"vector-effect: non-scaling-stroke;\" /></g></g></g></g><g><g><g /><g><g><g><g><g><g><g /><g /></g><g /></g><g transform=\"matrix(1.0, 0.0, 0.0, 1.0, 0.0, 1.05)\"><g transform=\"matrix(0.0, -1.0, 1.0, 0.0, 0.0, 0.0)\"><g /></g></g></g><g transform=\"matrix(1.0, 0.0, 0.0, 1.0, 0.0, 2.05)\"><g><g><g /><g /></g><g /></g></g></g><g transform=\"matrix(1.0, 0.0, 0.0, 1.0, 0.0, 3.0999999999999996)\"><g transform=\"matrix(0.0, -1.0, 1.0, 0.0, 0.0, 0.0)\"><g /></g></g></g><g transform=\"matrix(1.0, 0.0, 0.0, 1.0, 0.0, 4.1)\"><g><g><g /><g><g /><g style=\"fill: #008000;stroke: #ffffff;stroke-width: 0.18;\" transform=\"matrix(1.0, 0.0, 0.0, 1.0, -1.5, -1.0)\"><path d=\"M 0.0 0.0 L 3.0 0.0 L 3.0 1.0 L 0.0 1.0 L 0.0 0.0 Z\" style=\"vector-effect: non-scaling-stroke;\" /></g></g></g><g /></g></g></g></g><g><g><g><g><g><g><g /><g /></g><g /></g><g transform=\"matrix(1.0, 0.0, 0.0, 1.0, 0.0, 1.05)\"><g transform=\"matrix(0.0, -1.0, 1.0, 0.0, 0.0, 0.0)\"><g /></g></g></g><g transform=\"matrix(1.0, 0.0, 0.0, 1.0, 0.0, 2.05)\"><g><g><g /><g><g /><g style=\"fill: #bfbf00;stroke: #ffffff;stroke-width: 0.18;\" transform=\"matrix(1.0, 0.0, 0.0, 1.0, -1.5, -1.0)\"><path d=\"M 0.0 0.0 L 3.0 0.0 L 3.0 1.0 L 0.0 1.0 L 0.0 0.0 Z\" style=\"vector-effect: non-scaling-stroke;\" /></g></g></g><g /></g></g></g><g transform=\"matrix(1.0, 0.0, 0.0, 1.0, 0.0, 3.0999999999999996)\"><g transform=\"matrix(0.0, -1.0, 1.0, 0.0, 0.0, 0.0)\"><g /></g></g></g><g transform=\"matrix(1.0, 0.0, 0.0, 1.0, 0.0, 4.1)\"><g><g><g /><g /></g><g /></g></g></g></g></g></g><g /></g></g></g></g></svg>"
          },
          "metadata": {},
          "execution_count": 16
        }
      ],
      "source": [
        "# We can complete the tests by setting these as the final weights and calling check.\n",
        "model.set_final_weight(0, weights[0])\n",
        "model.set_final_weight(1, weights[1])\n",
        "Model.check([model])\n",
        "draw_group(model.final_weights)"
      ]
    },
    {
      "cell_type": "code",
      "execution_count": null,
      "id": "7b2f0a3b",
      "metadata": {
        "id": "7b2f0a3b",
        "colab": {
          "base_uri": "https://localhost:8080/",
          "height": 457
        },
        "outputId": "c69ff9a9-c626-4008-f48e-cad0b0fb26f1"
      },
      "outputs": [
        {
          "output_type": "stream",
          "name": "stdout",
          "text": [
            "Timesteps: 8.5 \n",
            "Maximum Memory: 3407872.0 at GPU: 0 time: 8\n"
          ]
        },
        {
          "output_type": "execute_result",
          "data": {
            "text/plain": [
              "Compose(envelope=<chalk.envelope.Envelope object at 0x7a2e89e12c50>, diagram1=Primitive(shape=Path(loc_trails=[Located(trail=Trail(segments=[Segment(offset=Vec2(1.5, 0.0), origin=Vec2(0.0, 0.0)), Segment(offset=Vec2(0.0, 8.0), origin=Vec2(0.0, 0.0)), Segment(offset=Vec2(-1.5, 0.0), origin=Vec2(0.0, 0.0)), Segment(offset=Vec2(0.0, -8.0), origin=Vec2(0.0, 0.0))], closed=True), location=Vec2(0.0, 0.0))]), style=Style(line_width_=(<WidthType.NORMALIZED: 2>, 0), line_color_=None, fill_color_=None, fill_opacity_=None, dashing_=None, output_size=None), transform=Affine(1.0, 0.0, -0.75,\n",
              "       0.0, 1.0, -4.0)), diagram2=ApplyTransform(transform=Affine(1.0, 0.0, -4.0,\n",
              "       0.0, 1.0, -0.25), diagram=ApplyTransform(transform=Affine(0.5, 0.0, 0.0,\n",
              "       0.0, 0.5, 0.0), diagram=Compose(envelope=<chalk.envelope.Envelope object at 0x7a2e89e11ba0>, diagram1=Compose(envelope=<chalk.envelope.Envelope object at 0x7a2e89e115a0>, diagram1=Compose(envelope=<chalk.envelope.Envelope object at 0x7a2e89feea10>, diagram1=Compose(envelope=<chalk.envelope.Envelope object at 0x7a2e89fed1b0>, diagram1=Compose(envelope=<chalk.envelope.Envelope object at 0x7a2e89fdf910>, diagram1=Compose(envelope=<chalk.envelope.Envelope object at 0x7a2e89fde110>, diagram1=Compose(envelope=<chalk.envelope.Envelope object at 0x7a2e89f46bf0>, diagram1=Compose(envelope=<chalk.envelope.Envelope object at 0x7a2e89fa6560>, diagram1=Compose(envelope=<chalk.envelope.Envelope object at 0x7a2e89fa6bc0>, diagram1=Empty(), diagram2=Compose(envelope=<chalk.envelope.Envelope object at 0x7a2e89fa6890>, diagram1=Primitive(shape=Path(loc_trails=[Located(trail=Trail(segments=[Segment(offset=Vec2(19.0, 0.0), origin=Vec2(0.0, 0.0)), Segment(offset=Vec2(0.0, 1.0), origin=Vec2(0.0, 0.0)), Segment(offset=Vec2(-19.0, 0.0), origin=Vec2(0.0, 0.0)), Segment(offset=Vec2(0.0, -1.0), origin=Vec2(0.0, 0.0))], closed=True), location=Vec2(0.0, 0.0))]), style=Style(line_width_=None, line_color_=None, fill_color_=<Color LightGray>, fill_opacity_=None, dashing_=None, output_size=None), transform=Affine(1.0, 0.0, 0.0,\n",
              "       0.0, 1.0, -0.5)), diagram2=ApplyStyle(style=Style(line_width_=None, line_color_=None, fill_color_=<Color orange>, fill_opacity_=None, dashing_=None, output_size=None), diagram=ApplyTransform(transform=Affine(1.0, 0.0, -2.0,\n",
              "       0.0, 1.0, 0.0), diagram=Compose(envelope=<chalk.envelope.Envelope object at 0x7a2ea007efb0>, diagram1=Primitive(shape=Text(text='0', font_size=1), style=Style(line_width_=(<WidthType.NORMALIZED: 2>, 0), line_color_=None, fill_color_=None, fill_opacity_=None, dashing_=None, output_size=None), transform=Affine(1.0, 0.0, 0.0,\n",
              "       0.0, 1.0, 0.0)), diagram2=Empty()))))), diagram2=ApplyStyle(style=Style(line_width_=None, line_color_=None, fill_color_=<Color green>, fill_opacity_=None, dashing_=None, output_size=None), diagram=ApplyTransform(transform=Affine(1.0, 0.0, 0.0,\n",
              "       0.0, 1.0, 0.0), diagram=ApplyTransform(transform=Affine(1.0, 0.0, 1.975,\n",
              "       0.0, 1.0, 0.0), diagram=Compose(envelope=<chalk.envelope.Envelope object at 0x7a2e89fa4100>, diagram1=Primitive(shape=Path(loc_trails=[Located(trail=Trail(segments=[Segment(offset=Vec2(3.95, 0.0), origin=Vec2(0.0, 0.0)), Segment(offset=Vec2(0.0, 0.9), origin=Vec2(0.0, 0.0)), Segment(offset=Vec2(-3.95, 0.0), origin=Vec2(0.0, 0.0)), Segment(offset=Vec2(0.0, -0.9), origin=Vec2(0.0, 0.0))], closed=True), location=Vec2(0.0, 0.0))]), style=Style(line_width_=(<WidthType.NORMALIZED: 2>, 0), line_color_=None, fill_color_=None, fill_opacity_=None, dashing_=None, output_size=None), transform=Affine(1.0, 0.0, -1.975,\n",
              "       0.0, 1.0, -0.45)), diagram2=Primitive(shape=Text(text='2 3', font_size=0.9), style=Style(line_width_=(<WidthType.NORMALIZED: 2>, 0.05), line_color_=None, fill_color_=<Color black>, fill_opacity_=None, dashing_=None, output_size=None), transform=Affine(1.0, 0.0, 0.0,\n",
              "       0.0, 1.0, 0.1))))))), diagram2=ApplyStyle(style=Style(line_width_=None, line_color_=None, fill_color_=<Color #bfbf00>, fill_opacity_=None, dashing_=None, output_size=None), diagram=ApplyTransform(transform=Affine(1.0, 0.0, 4.0,\n",
              "       0.0, 1.0, 0.0), diagram=ApplyTransform(transform=Affine(1.0, 0.0, 1.975,\n",
              "       0.0, 1.0, 0.0), diagram=Compose(envelope=<chalk.envelope.Envelope object at 0x7a2e89f47700>, diagram1=Primitive(shape=Path(loc_trails=[Located(trail=Trail(segments=[Segment(offset=Vec2(3.95, 0.0), origin=Vec2(0.0, 0.0)), Segment(offset=Vec2(0.0, 0.9), origin=Vec2(0.0, 0.0)), Segment(offset=Vec2(-3.95, 0.0), origin=Vec2(0.0, 0.0)), Segment(offset=Vec2(0.0, -0.9), origin=Vec2(0.0, 0.0))], closed=True), location=Vec2(0.0, 0.0))]), style=Style(line_width_=(<WidthType.NORMALIZED: 2>, 0), line_color_=None, fill_color_=None, fill_opacity_=None, dashing_=None, output_size=None), transform=Affine(1.0, 0.0, -1.975,\n",
              "       0.0, 1.0, -0.45)), diagram2=Primitive(shape=Text(text='2 3', font_size=0.9), style=Style(line_width_=(<WidthType.NORMALIZED: 2>, 0.05), line_color_=None, fill_color_=<Color black>, fill_opacity_=None, dashing_=None, output_size=None), transform=Affine(1.0, 0.0, 0.0,\n",
              "       0.0, 1.0, 0.1))))))), diagram2=ApplyStyle(style=Style(line_width_=None, line_color_=None, fill_color_=None, fill_opacity_=0.2, dashing_=None, output_size=None), diagram=ApplyStyle(style=Style(line_width_=None, line_color_=None, fill_color_=<Color #bfbf00>, fill_opacity_=None, dashing_=None, output_size=None), diagram=ApplyTransform(transform=Affine(1.0, 0.0, 8.0,\n",
              "       0.0, 1.0, 0.0), diagram=ApplyTransform(transform=Affine(1.0, 0.0, 1.975,\n",
              "       0.0, 1.0, 0.0), diagram=Compose(envelope=<chalk.envelope.Envelope object at 0x7a2e89fddbd0>, diagram1=Primitive(shape=Path(loc_trails=[Located(trail=Trail(segments=[Segment(offset=Vec2(3.95, 0.0), origin=Vec2(0.0, 0.0)), Segment(offset=Vec2(0.0, 0.9), origin=Vec2(0.0, 0.0)), Segment(offset=Vec2(-3.95, 0.0), origin=Vec2(0.0, 0.0)), Segment(offset=Vec2(0.0, -0.9), origin=Vec2(0.0, 0.0))], closed=True), location=Vec2(0.0, 0.0))]), style=Style(line_width_=(<WidthType.NORMALIZED: 2>, 0), line_color_=None, fill_color_=None, fill_opacity_=None, dashing_=None, output_size=None), transform=Affine(1.0, 0.0, -1.975,\n",
              "       0.0, 1.0, -0.45)), diagram2=Primitive(shape=Text(text='2 3', font_size=0.9), style=Style(line_width_=(<WidthType.NORMALIZED: 2>, 0.05), line_color_=None, fill_color_=<Color black>, fill_opacity_=None, dashing_=None, output_size=None), transform=Affine(1.0, 0.0, 0.0,\n",
              "       0.0, 1.0, 0.1)))))))), diagram2=ApplyStyle(style=Style(line_width_=None, line_color_=None, fill_color_=None, fill_opacity_=0.2, dashing_=None, output_size=None), diagram=ApplyStyle(style=Style(line_width_=None, line_color_=None, fill_color_=<Color green>, fill_opacity_=None, dashing_=None, output_size=None), diagram=ApplyTransform(transform=Affine(1.0, 0.0, 12.0,\n",
              "       0.0, 1.0, 0.0), diagram=ApplyTransform(transform=Affine(1.0, 0.0, 1.975,\n",
              "       0.0, 1.0, 0.0), diagram=Compose(envelope=<chalk.envelope.Envelope object at 0x7a2e89fdf2e0>, diagram1=Primitive(shape=Path(loc_trails=[Located(trail=Trail(segments=[Segment(offset=Vec2(3.95, 0.0), origin=Vec2(0.0, 0.0)), Segment(offset=Vec2(0.0, 0.9), origin=Vec2(0.0, 0.0)), Segment(offset=Vec2(-3.95, 0.0), origin=Vec2(0.0, 0.0)), Segment(offset=Vec2(0.0, -0.9), origin=Vec2(0.0, 0.0))], closed=True), location=Vec2(0.0, 0.0))]), style=Style(line_width_=(<WidthType.NORMALIZED: 2>, 0), line_color_=None, fill_color_=None, fill_opacity_=None, dashing_=None, output_size=None), transform=Affine(1.0, 0.0, -1.975,\n",
              "       0.0, 1.0, -0.45)), diagram2=Primitive(shape=Text(text='2 3', font_size=0.9), style=Style(line_width_=(<WidthType.NORMALIZED: 2>, 0.05), line_color_=None, fill_color_=<Color black>, fill_opacity_=None, dashing_=None, output_size=None), transform=Affine(1.0, 0.0, 0.0,\n",
              "       0.0, 1.0, 0.1)))))))), diagram2=ApplyStyle(style=Style(line_width_=None, line_color_=None, fill_color_=None, fill_opacity_=0.5, dashing_=None, output_size=None), diagram=ApplyStyle(style=Style(line_width_=None, line_color_=None, fill_color_=<Color yellow>, fill_opacity_=None, dashing_=None, output_size=None), diagram=ApplyTransform(transform=Affine(1.0, 0.0, 16.0,\n",
              "       0.0, 1.0, 0.0), diagram=ApplyTransform(transform=Affine(1.0, 0.0, 0.475,\n",
              "       0.0, 1.0, 0.0), diagram=Compose(envelope=<chalk.envelope.Envelope object at 0x7a2e89fecb20>, diagram1=Primitive(shape=Path(loc_trails=[Located(trail=Trail(segments=[Segment(offset=Vec2(0.95, 0.0), origin=Vec2(0.0, 0.0)), Segment(offset=Vec2(0.0, 0.9), origin=Vec2(0.0, 0.0)), Segment(offset=Vec2(-0.95, 0.0), origin=Vec2(0.0, 0.0)), Segment(offset=Vec2(0.0, -0.9), origin=Vec2(0.0, 0.0))], closed=True), location=Vec2(0.0, 0.0))]), style=Style(line_width_=(<WidthType.NORMALIZED: 2>, 0), line_color_=None, fill_color_=None, fill_opacity_=None, dashing_=None, output_size=None), transform=Affine(1.0, 0.0, -0.475,\n",
              "       0.0, 1.0, -0.45)), diagram2=Primitive(shape=Text(text='', font_size=0.9), style=Style(line_width_=(<WidthType.NORMALIZED: 2>, 0.05), line_color_=None, fill_color_=<Color black>, fill_opacity_=None, dashing_=None, output_size=None), transform=Affine(1.0, 0.0, 0.0,\n",
              "       0.0, 1.0, 0.1)))))))), diagram2=ApplyStyle(style=Style(line_width_=None, line_color_=None, fill_color_=None, fill_opacity_=0.5, dashing_=None, output_size=None), diagram=ApplyStyle(style=Style(line_width_=None, line_color_=None, fill_color_=<Color yellow>, fill_opacity_=None, dashing_=None, output_size=None), diagram=ApplyTransform(transform=Affine(1.0, 0.0, 17.0,\n",
              "       0.0, 1.0, 0.0), diagram=ApplyTransform(transform=Affine(1.0, 0.0, 0.475,\n",
              "       0.0, 1.0, 0.0), diagram=Compose(envelope=<chalk.envelope.Envelope object at 0x7a2e89fee380>, diagram1=Primitive(shape=Path(loc_trails=[Located(trail=Trail(segments=[Segment(offset=Vec2(0.95, 0.0), origin=Vec2(0.0, 0.0)), Segment(offset=Vec2(0.0, 0.9), origin=Vec2(0.0, 0.0)), Segment(offset=Vec2(-0.95, 0.0), origin=Vec2(0.0, 0.0)), Segment(offset=Vec2(0.0, -0.9), origin=Vec2(0.0, 0.0))], closed=True), location=Vec2(0.0, 0.0))]), style=Style(line_width_=(<WidthType.NORMALIZED: 2>, 0), line_color_=None, fill_color_=None, fill_opacity_=None, dashing_=None, output_size=None), transform=Affine(1.0, 0.0, -0.475,\n",
              "       0.0, 1.0, -0.45)), diagram2=Primitive(shape=Text(text='', font_size=0.9), style=Style(line_width_=(<WidthType.NORMALIZED: 2>, 0.05), line_color_=None, fill_color_=<Color black>, fill_opacity_=None, dashing_=None, output_size=None), transform=Affine(1.0, 0.0, 0.0,\n",
              "       0.0, 1.0, 0.1)))))))), diagram2=ApplyTransform(transform=Affine(1.0, 0.0, 0.0,\n",
              "       0.0, 1.0, 0.5), diagram=ApplyTransform(transform=Affine(0.0, 1.0, 0.0,\n",
              "       -1.0, 0.0, 0.0), diagram=Empty()))), diagram2=ApplyTransform(transform=Affine(1.0, 0.0, 0.0,\n",
              "       0.0, 1.0, 1.5), diagram=Compose(envelope=<chalk.envelope.Envelope object at 0x7a2e89e10a30>, diagram1=Compose(envelope=<chalk.envelope.Envelope object at 0x7a2e89e03ee0>, diagram1=ApplyTransform(transform=Affine(1.0, 0.0, -0.0,\n",
              "       0.0, 1.0, -0.0), diagram=Compose(envelope=<chalk.envelope.Envelope object at 0x7a2e89e02ce0>, diagram1=ApplyTransform(transform=Affine(1.0, 0.0, -0.0,\n",
              "       0.0, 1.0, -0.0), diagram=Compose(envelope=<chalk.envelope.Envelope object at 0x7a2e89e01b70>, diagram1=ApplyTransform(transform=Affine(1.0, 0.0, -0.0,\n",
              "       0.0, 1.0, -0.0), diagram=Compose(envelope=<chalk.envelope.Envelope object at 0x7a2e89e00bb0>, diagram1=ApplyTransform(transform=Affine(1.0, 0.0, -0.0,\n",
              "       0.0, 1.0, -0.0), diagram=Compose(envelope=<chalk.envelope.Envelope object at 0x7a2e89ff7940>, diagram1=ApplyTransform(transform=Affine(1.0, 0.0, -0.0,\n",
              "       0.0, 1.0, -0.0), diagram=Compose(envelope=<chalk.envelope.Envelope object at 0x7a2e89ff6800>, diagram1=ApplyTransform(transform=Affine(1.0, 0.0, -0.0,\n",
              "       0.0, 1.0, -0.0), diagram=Compose(envelope=<chalk.envelope.Envelope object at 0x7a2e89ff5780>, diagram1=ApplyTransform(transform=Affine(1.0, 0.0, -0.0,\n",
              "       0.0, 1.0, -0.5), diagram=Compose(envelope=<chalk.envelope.Envelope object at 0x7a2e89ff4940>, diagram1=Primitive(shape=Path(loc_trails=[Located(trail=Trail(segments=[Segment(offset=Vec2(19.0, 0.0), origin=Vec2(0.0, 0.0)), Segment(offset=Vec2(0.0, 1.0), origin=Vec2(0.0, 0.0)), Segment(offset=Vec2(-19.0, 0.0), origin=Vec2(0.0, 0.0)), Segment(offset=Vec2(0.0, -1.0), origin=Vec2(0.0, 0.0))], closed=True), location=Vec2(0.0, 0.0))]), style=Style(line_width_=None, line_color_=None, fill_color_=<Color white>, fill_opacity_=None, dashing_=None, output_size=None), transform=Affine(1.0, 0.0, 0.0,\n",
              "       0.0, 1.0, -0.5)), diagram2=ApplyStyle(style=Style(line_width_=None, line_color_=None, fill_color_=<Color gray>, fill_opacity_=None, dashing_=None, output_size=None), diagram=ApplyTransform(transform=Affine(1.0, 0.0, -2.0,\n",
              "       0.0, 1.0, 0.0), diagram=Compose(envelope=<chalk.envelope.Envelope object at 0x7a2e89fef190>, diagram1=Primitive(shape=Text(text='0', font_size=1), style=Style(line_width_=(<WidthType.NORMALIZED: 2>, 0), line_color_=None, fill_color_=None, fill_opacity_=None, dashing_=None, output_size=None), transform=Affine(1.0, 0.0, 0.0,\n",
              "       0.0, 1.0, 0.0)), diagram2=Empty()))))), diagram2=Primitive(shape=Path(loc_trails=[Located(trail=Trail(segments=[Segment(offset=Vec2(4.0, 0.0), origin=Vec2(0.0, 0.0)), Segment(offset=Vec2(0.0, 0.2564102564102564), origin=Vec2(0.0, 0.0)), Segment(offset=Vec2(-4.0, 0.0), origin=Vec2(0.0, 0.0)), Segment(offset=Vec2(0.0, -0.2564102564102564), origin=Vec2(0.0, 0.0))], closed=True), location=Vec2(0.0, 0.0))]), style=Style(line_width_=(<WidthType.NORMALIZED: 2>, 0), line_color_=None, fill_color_=<Color gray>, fill_opacity_=None, dashing_=None, output_size=None), transform=Affine(1.0, 0.0, 0.0,\n",
              "       0.0, 1.0, -0.2564102564102564)))), diagram2=Primitive(shape=Path(loc_trails=[Located(trail=Trail(segments=[Segment(offset=Vec2(4.0, 0.0), origin=Vec2(0.0, 0.0)), Segment(offset=Vec2(0.0, 0.3076923076923077), origin=Vec2(0.0, 0.0)), Segment(offset=Vec2(-4.0, 0.0), origin=Vec2(0.0, 0.0)), Segment(offset=Vec2(0.0, -0.3076923076923077), origin=Vec2(0.0, 0.0))], closed=True), location=Vec2(0.0, 0.0))]), style=Style(line_width_=(<WidthType.NORMALIZED: 2>, 0), line_color_=None, fill_color_=<Color gray>, fill_opacity_=None, dashing_=None, output_size=None), transform=Affine(1.0, 0.0, 4.0,\n",
              "       0.0, 1.0, -0.3076923076923077)))), diagram2=Primitive(shape=Path(loc_trails=[Located(trail=Trail(segments=[Segment(offset=Vec2(0.0, 0.0), origin=Vec2(0.0, 0.0)), Segment(offset=Vec2(0.0, 0.358974358974359), origin=Vec2(0.0, 0.0)), Segment(offset=Vec2(0.0, 0.0), origin=Vec2(0.0, 0.0)), Segment(offset=Vec2(0.0, -0.358974358974359), origin=Vec2(0.0, 0.0))], closed=True), location=Vec2(0.0, 0.0))]), style=Style(line_width_=(<WidthType.NORMALIZED: 2>, 0), line_color_=None, fill_color_=<Color gray>, fill_opacity_=None, dashing_=None, output_size=None), transform=Affine(1.0, 0.0, 8.0,\n",
              "       0.0, 1.0, -0.358974358974359)))), diagram2=Primitive(shape=Path(loc_trails=[Located(trail=Trail(segments=[Segment(offset=Vec2(4.0, 0.0), origin=Vec2(0.0, 0.0)), Segment(offset=Vec2(0.0, 0.41025641025641024), origin=Vec2(0.0, 0.0)), Segment(offset=Vec2(-4.0, 0.0), origin=Vec2(0.0, 0.0)), Segment(offset=Vec2(0.0, -0.41025641025641024), origin=Vec2(0.0, 0.0))], closed=True), location=Vec2(0.0, 0.0))]), style=Style(line_width_=(<WidthType.NORMALIZED: 2>, 0), line_color_=None, fill_color_=<Color gray>, fill_opacity_=None, dashing_=None, output_size=None), transform=Affine(1.0, 0.0, 8.0,\n",
              "       0.0, 1.0, -0.41025641025641024)))), diagram2=Primitive(shape=Path(loc_trails=[Located(trail=Trail(segments=[Segment(offset=Vec2(4.0, 0.0), origin=Vec2(0.0, 0.0)), Segment(offset=Vec2(0.0, 0.5128205128205128), origin=Vec2(0.0, 0.0)), Segment(offset=Vec2(-4.0, 0.0), origin=Vec2(0.0, 0.0)), Segment(offset=Vec2(0.0, -0.5128205128205128), origin=Vec2(0.0, 0.0))], closed=True), location=Vec2(0.0, 0.0))]), style=Style(line_width_=(<WidthType.NORMALIZED: 2>, 0), line_color_=None, fill_color_=<Color gray>, fill_opacity_=None, dashing_=None, output_size=None), transform=Affine(1.0, 0.0, 12.0,\n",
              "       0.0, 1.0, -0.5128205128205128)))), diagram2=Primitive(shape=Path(loc_trails=[Located(trail=Trail(segments=[Segment(offset=Vec2(1.0, 0.0), origin=Vec2(0.0, 0.0)), Segment(offset=Vec2(0.0, 0.6666666666666666), origin=Vec2(0.0, 0.0)), Segment(offset=Vec2(-1.0, 0.0), origin=Vec2(0.0, 0.0)), Segment(offset=Vec2(0.0, -0.6666666666666666), origin=Vec2(0.0, 0.0))], closed=True), location=Vec2(0.0, 0.0))]), style=Style(line_width_=(<WidthType.NORMALIZED: 2>, 0), line_color_=None, fill_color_=<Color gray>, fill_opacity_=None, dashing_=None, output_size=None), transform=Affine(1.0, 0.0, 16.0,\n",
              "       0.0, 1.0, -0.6666666666666666)))), diagram2=Primitive(shape=Path(loc_trails=[Located(trail=Trail(segments=[Segment(offset=Vec2(1.0, 0.0), origin=Vec2(0.0, 0.0)), Segment(offset=Vec2(0.0, 0.6666666666666666), origin=Vec2(0.0, 0.0)), Segment(offset=Vec2(-1.0, 0.0), origin=Vec2(0.0, 0.0)), Segment(offset=Vec2(0.0, -0.6666666666666666), origin=Vec2(0.0, 0.0))], closed=True), location=Vec2(0.0, 0.0))]), style=Style(line_width_=(<WidthType.NORMALIZED: 2>, 0), line_color_=None, fill_color_=<Color gray>, fill_opacity_=None, dashing_=None, output_size=None), transform=Affine(1.0, 0.0, 17.0,\n",
              "       0.0, 1.0, -0.6666666666666666))), diagram2=Primitive(shape=Path(loc_trails=[Located(trail=Trail(segments=[Segment(offset=Vec2(0.1, 0.0), origin=Vec2(0.0, 0.0)), Segment(offset=Vec2(0.0, 1.0), origin=Vec2(0.0, 0.0)), Segment(offset=Vec2(-0.1, 0.0), origin=Vec2(0.0, 0.0)), Segment(offset=Vec2(0.0, -1.0), origin=Vec2(0.0, 0.0))], closed=True), location=Vec2(0.0, 0.0))]), style=Style(line_width_=None, line_color_=<Color red>, fill_color_=None, fill_opacity_=None, dashing_=None, output_size=None), transform=Affine(1.0, 0.0, 15.95,\n",
              "       0.0, 1.0, -1.0))))))))"
            ],
            "image/svg+xml": "<?xml version=\"1.0\" encoding=\"utf-8\" ?>\n<svg baseProfile=\"full\" height=\"400\" version=\"1.1\" width=\"550\" xmlns=\"http://www.w3.org/2000/svg\" xmlns:ev=\"http://www.w3.org/2001/xml-events\" xmlns:xlink=\"http://www.w3.org/1999/xlink\"><defs><marker id=\"arrow\" markerHeight=\"3.5\" markerWidth=\"5\" orient=\"auto\" refX=\"5.0\" refY=\"1.7\"><polygon points=\"0,0 5,1.75 0,3.5\" /></marker></defs><g style=\"fill:white;\"><g transform=\"matrix(1.0, 0.0, 0.0, 1.0, 275.0, 200.0)\"><g transform=\"matrix(47.61904761904762, 0.0, 0.0, 47.61904761904762, 0.0, 0.0)\"><g><g transform=\"matrix(1.0, 0.0, 0.0, 1.0, -0.0, -0.0)\"><g><g style=\"stroke: black;stroke-width: 0.0;\" transform=\"matrix(1.0, 0.0, 0.0, 1.0, -0.75, -4.0)\"><path d=\"M 0.0 0.0 L 1.5 0.0 L 1.5 8.0 L 0.0 8.0 L 0.0 0.0 Z\" style=\"vector-effect: non-scaling-stroke;\" /></g><g transform=\"matrix(1.0, 0.0, 0.0, 1.0, -4.0, -0.25)\"><g transform=\"matrix(0.5, 0.0, 0.0, 0.5, 0.0, 0.0)\"><g><g><g><g><g><g><g><g><g><g /><g><g style=\"fill: #d3d3d3;stroke: black;stroke-width: 1.8;\" transform=\"matrix(1.0, 0.0, 0.0, 1.0, 0.0, -0.5)\"><path d=\"M 0.0 0.0 L 19.0 0.0 L 19.0 1.0 L 0.0 1.0 L 0.0 0.0 Z\" style=\"vector-effect: non-scaling-stroke;\" /></g><g transform=\"matrix(1.0, 0.0, 0.0, 1.0, -2.0, 0.0)\"><g><g style=\"fill: #ffa500;stroke: black;stroke-width: 0.0;\" transform=\"matrix(1.0, 0.0, 0.0, 1.0, 0.0, 0.0)\"><text style=\"text-align:center; text-anchor:middle; dominant-baseline:middle;&#10;                      font-family:sans-serif; font-weight: bold;&#10;                      font-size:1px;&#10;                      vector-effect: non-scaling-stroke;\" transform=\"translate(-5e-05, 0)\">0</text></g><g /></g></g></g></g><g transform=\"matrix(1.0, 0.0, 0.0, 1.0, 0.0, 0.0)\"><g transform=\"matrix(1.0, 0.0, 0.0, 1.0, 1.975, 0.0)\"><g><g style=\"fill: #008000;stroke: black;stroke-width: 0.0;\" transform=\"matrix(1.0, 0.0, 0.0, 1.0, -1.975, -0.45)\"><path d=\"M 0.0 0.0 L 3.95 0.0 L 3.95 0.9 L 0.0 0.9 L 0.0 0.0 Z\" style=\"vector-effect: non-scaling-stroke;\" /></g><g style=\"fill: #008000;stroke: black;stroke-width: 0.9;\" transform=\"matrix(1.0, 0.0, 0.0, 1.0, 0.0, 0.1)\"><text style=\"text-align:center; text-anchor:middle; dominant-baseline:middle;&#10;                      font-family:sans-serif; font-weight: bold;&#10;                      font-size:0.9px;&#10;                      vector-effect: non-scaling-stroke;\" transform=\"translate(-5e-05, 0)\">2 3</text></g></g></g></g></g><g transform=\"matrix(1.0, 0.0, 0.0, 1.0, 4.0, 0.0)\"><g transform=\"matrix(1.0, 0.0, 0.0, 1.0, 1.975, 0.0)\"><g><g style=\"fill: #bfbf00;stroke: black;stroke-width: 0.0;\" transform=\"matrix(1.0, 0.0, 0.0, 1.0, -1.975, -0.45)\"><path d=\"M 0.0 0.0 L 3.95 0.0 L 3.95 0.9 L 0.0 0.9 L 0.0 0.0 Z\" style=\"vector-effect: non-scaling-stroke;\" /></g><g style=\"fill: #bfbf00;stroke: black;stroke-width: 0.9;\" transform=\"matrix(1.0, 0.0, 0.0, 1.0, 0.0, 0.1)\"><text style=\"text-align:center; text-anchor:middle; dominant-baseline:middle;&#10;                      font-family:sans-serif; font-weight: bold;&#10;                      font-size:0.9px;&#10;                      vector-effect: non-scaling-stroke;\" transform=\"translate(-5e-05, 0)\">2 3</text></g></g></g></g></g><g transform=\"matrix(1.0, 0.0, 0.0, 1.0, 8.0, 0.0)\"><g transform=\"matrix(1.0, 0.0, 0.0, 1.0, 1.975, 0.0)\"><g><g style=\"fill: #bfbf00;stroke: black;stroke-width: 0.0;fill-opacity: 0.2;\" transform=\"matrix(1.0, 0.0, 0.0, 1.0, -1.975, -0.45)\"><path d=\"M 0.0 0.0 L 3.95 0.0 L 3.95 0.9 L 0.0 0.9 L 0.0 0.0 Z\" style=\"vector-effect: non-scaling-stroke;\" /></g><g style=\"fill: #bfbf00;stroke: black;stroke-width: 0.9;fill-opacity: 0.2;\" transform=\"matrix(1.0, 0.0, 0.0, 1.0, 0.0, 0.1)\"><text style=\"text-align:center; text-anchor:middle; dominant-baseline:middle;&#10;                      font-family:sans-serif; font-weight: bold;&#10;                      font-size:0.9px;&#10;                      vector-effect: non-scaling-stroke;\" transform=\"translate(-5e-05, 0)\">2 3</text></g></g></g></g></g><g transform=\"matrix(1.0, 0.0, 0.0, 1.0, 12.0, 0.0)\"><g transform=\"matrix(1.0, 0.0, 0.0, 1.0, 1.975, 0.0)\"><g><g style=\"fill: #008000;stroke: black;stroke-width: 0.0;fill-opacity: 0.2;\" transform=\"matrix(1.0, 0.0, 0.0, 1.0, -1.975, -0.45)\"><path d=\"M 0.0 0.0 L 3.95 0.0 L 3.95 0.9 L 0.0 0.9 L 0.0 0.0 Z\" style=\"vector-effect: non-scaling-stroke;\" /></g><g style=\"fill: #008000;stroke: black;stroke-width: 0.9;fill-opacity: 0.2;\" transform=\"matrix(1.0, 0.0, 0.0, 1.0, 0.0, 0.1)\"><text style=\"text-align:center; text-anchor:middle; dominant-baseline:middle;&#10;                      font-family:sans-serif; font-weight: bold;&#10;                      font-size:0.9px;&#10;                      vector-effect: non-scaling-stroke;\" transform=\"translate(-5e-05, 0)\">2 3</text></g></g></g></g></g><g transform=\"matrix(1.0, 0.0, 0.0, 1.0, 16.0, 0.0)\"><g transform=\"matrix(1.0, 0.0, 0.0, 1.0, 0.475, 0.0)\"><g><g style=\"fill: #ffff00;stroke: black;stroke-width: 0.0;fill-opacity: 0.5;\" transform=\"matrix(1.0, 0.0, 0.0, 1.0, -0.475, -0.45)\"><path d=\"M 0.0 0.0 L 0.95 0.0 L 0.95 0.9 L 0.0 0.9 L 0.0 0.0 Z\" style=\"vector-effect: non-scaling-stroke;\" /></g><g style=\"fill: #ffff00;stroke: black;stroke-width: 0.9;fill-opacity: 0.5;\" transform=\"matrix(1.0, 0.0, 0.0, 1.0, 0.0, 0.1)\"><text style=\"text-align:center; text-anchor:middle; dominant-baseline:middle;&#10;                      font-family:sans-serif; font-weight: bold;&#10;                      font-size:0.9px;&#10;                      vector-effect: non-scaling-stroke;\" transform=\"translate(-5e-05, 0)\" /></g></g></g></g></g><g transform=\"matrix(1.0, 0.0, 0.0, 1.0, 17.0, 0.0)\"><g transform=\"matrix(1.0, 0.0, 0.0, 1.0, 0.475, 0.0)\"><g><g style=\"fill: #ffff00;stroke: black;stroke-width: 0.0;fill-opacity: 0.5;\" transform=\"matrix(1.0, 0.0, 0.0, 1.0, -0.475, -0.45)\"><path d=\"M 0.0 0.0 L 0.95 0.0 L 0.95 0.9 L 0.0 0.9 L 0.0 0.0 Z\" style=\"vector-effect: non-scaling-stroke;\" /></g><g style=\"fill: #ffff00;stroke: black;stroke-width: 0.9;fill-opacity: 0.5;\" transform=\"matrix(1.0, 0.0, 0.0, 1.0, 0.0, 0.1)\"><text style=\"text-align:center; text-anchor:middle; dominant-baseline:middle;&#10;                      font-family:sans-serif; font-weight: bold;&#10;                      font-size:0.9px;&#10;                      vector-effect: non-scaling-stroke;\" transform=\"translate(-5e-05, 0)\" /></g></g></g></g></g><g transform=\"matrix(1.0, 0.0, 0.0, 1.0, 0.0, 0.5)\"><g transform=\"matrix(0.0, -1.0, 1.0, 0.0, 0.0, 0.0)\"><g /></g></g></g><g transform=\"matrix(1.0, 0.0, 0.0, 1.0, 0.0, 1.5)\"><g><g><g transform=\"matrix(1.0, 0.0, 0.0, 1.0, -0.0, -0.0)\"><g><g transform=\"matrix(1.0, 0.0, 0.0, 1.0, -0.0, -0.0)\"><g><g transform=\"matrix(1.0, 0.0, 0.0, 1.0, -0.0, -0.0)\"><g><g transform=\"matrix(1.0, 0.0, 0.0, 1.0, -0.0, -0.0)\"><g><g transform=\"matrix(1.0, 0.0, 0.0, 1.0, -0.0, -0.0)\"><g><g transform=\"matrix(1.0, 0.0, 0.0, 1.0, -0.0, -0.0)\"><g><g transform=\"matrix(1.0, 0.0, 0.0, 1.0, -0.0, -0.5)\"><g><g style=\"fill: #ffffff;stroke: black;stroke-width: 1.8;\" transform=\"matrix(1.0, 0.0, 0.0, 1.0, 0.0, -0.5)\"><path d=\"M 0.0 0.0 L 19.0 0.0 L 19.0 1.0 L 0.0 1.0 L 0.0 0.0 Z\" style=\"vector-effect: non-scaling-stroke;\" /></g><g transform=\"matrix(1.0, 0.0, 0.0, 1.0, -2.0, 0.0)\"><g><g style=\"fill: #808080;stroke: black;stroke-width: 0.0;\" transform=\"matrix(1.0, 0.0, 0.0, 1.0, 0.0, 0.0)\"><text style=\"text-align:center; text-anchor:middle; dominant-baseline:middle;&#10;                      font-family:sans-serif; font-weight: bold;&#10;                      font-size:1px;&#10;                      vector-effect: non-scaling-stroke;\" transform=\"translate(-5e-05, 0)\">0</text></g><g /></g></g></g></g><g style=\"fill: #808080;stroke: black;stroke-width: 0.0;\" transform=\"matrix(1.0, 0.0, 0.0, 1.0, 0.0, -0.2564102564102564)\"><path d=\"M 0.0 0.0 L 4.0 0.0 L 4.0 0.2564102564102564 L 0.0 0.2564102564102564 L 0.0 0.0 Z\" style=\"vector-effect: non-scaling-stroke;\" /></g></g></g><g style=\"fill: #808080;stroke: black;stroke-width: 0.0;\" transform=\"matrix(1.0, 0.0, 0.0, 1.0, 4.0, -0.3076923076923077)\"><path d=\"M 0.0 0.0 L 4.0 0.0 L 4.0 0.3076923076923077 L 0.0 0.3076923076923077 L 0.0 0.0 Z\" style=\"vector-effect: non-scaling-stroke;\" /></g></g></g><g style=\"fill: #808080;stroke: black;stroke-width: 0.0;\" transform=\"matrix(1.0, 0.0, 0.0, 1.0, 8.0, -0.358974358974359)\"><path d=\"M 0.0 0.0 L 0.0 0.0 L 0.0 0.358974358974359 L 0.0 0.358974358974359 L 0.0 0.0 Z\" style=\"vector-effect: non-scaling-stroke;\" /></g></g></g><g style=\"fill: #808080;stroke: black;stroke-width: 0.0;\" transform=\"matrix(1.0, 0.0, 0.0, 1.0, 8.0, -0.41025641025641024)\"><path d=\"M 0.0 0.0 L 4.0 0.0 L 4.0 0.41025641025641024 L 0.0 0.41025641025641024 L 0.0 0.0 Z\" style=\"vector-effect: non-scaling-stroke;\" /></g></g></g><g style=\"fill: #808080;stroke: black;stroke-width: 0.0;\" transform=\"matrix(1.0, 0.0, 0.0, 1.0, 12.0, -0.5128205128205128)\"><path d=\"M 0.0 0.0 L 4.0 0.0 L 4.0 0.5128205128205128 L 0.0 0.5128205128205128 L 0.0 0.0 Z\" style=\"vector-effect: non-scaling-stroke;\" /></g></g></g><g style=\"fill: #808080;stroke: black;stroke-width: 0.0;\" transform=\"matrix(1.0, 0.0, 0.0, 1.0, 16.0, -0.6666666666666666)\"><path d=\"M 0.0 0.0 L 1.0 0.0 L 1.0 0.6666666666666666 L 0.0 0.6666666666666666 L 0.0 0.0 Z\" style=\"vector-effect: non-scaling-stroke;\" /></g></g></g><g style=\"fill: #808080;stroke: black;stroke-width: 0.0;\" transform=\"matrix(1.0, 0.0, 0.0, 1.0, 17.0, -0.6666666666666666)\"><path d=\"M 0.0 0.0 L 1.0 0.0 L 1.0 0.6666666666666666 L 0.0 0.6666666666666666 L 0.0 0.0 Z\" style=\"vector-effect: non-scaling-stroke;\" /></g></g><g style=\"stroke: #ff0000;stroke-width: 1.8;\" transform=\"matrix(1.0, 0.0, 0.0, 1.0, 15.95, -1.0)\"><path d=\"M 0.0 0.0 L 0.1 0.0 L 0.1 1.0 L 0.0 1.0 L 0.0 0.0 Z\" style=\"vector-effect: non-scaling-stroke;\" /></g></g></g></g></g></g></g></g><g /></g></g></g></g></svg>"
          },
          "metadata": {},
          "execution_count": 17
        }
      ],
      "source": [
        "# We can view the final outcome of the system as a diagram.\n",
        "# This show the forward and backward passes (numbers of batches) and the updates.\n",
        "# The lines on the bottom show the memory that is used at each time step.\n",
        "draw([model])"
      ]
    },
    {
      "cell_type": "markdown",
      "id": "26e5ea60",
      "metadata": {
        "id": "26e5ea60"
      },
      "source": [
        "### Puzzle 0 - Standard Training\n",
        "\n",
        "Write a standard (non-distributed) training loop that acts on all the batches and loads all the weights. It should just run forward, loss, backward, and update. Aim for the least amount of max memory used.\n",
        "\n",
        "* Target Time:  17 steps\n",
        "* Target Memory: 2600000"
      ]
    },
    {
      "cell_type": "code",
      "execution_count": null,
      "id": "04dbf7ea",
      "metadata": {
        "id": "04dbf7ea"
      },
      "outputs": [],
      "source": [
        "def basic(model: Model) -> Model:\n",
        "    # Storage on device.\n",
        "    weights, opt_states, activations, grad_activations, grad_weights = model.storage()\n",
        "\n",
        "    # Load in the full weights\n",
        "    for l in range(model.LAYERS):\n",
        "        weights[l], opt_states[l] = model.load_weights(l)\n",
        "\n",
        "    # Load the input layer activations\n",
        "    activations[0] = model.get_activation(range(model.BATCHES))\n",
        "\n",
        "    ### BEGIN ###\n",
        "    # Forward the model.\n",
        "    for l in range(model.LAYERS):\n",
        "        activations[l+1] = model.forward(layer=l, inp=activations[l], weight=weights[l])\n",
        "    # Compute loss.\n",
        "    grad_activations[model.LAYERS] = model.loss(activations[model.LAYERS])\n",
        "    del activations[model.LAYERS]\n",
        "    # Compute backward.\n",
        "    for l in range(model.LAYERS-1, -1, -1):\n",
        "        grad_weights[l], grad_activations[l] = model.backward(l, activations[l], grad_activations[l+1], weights[l])\n",
        "        del activations[l]\n",
        "        del grad_activations[l+1]\n",
        "    del grad_activations[0]\n",
        "\n",
        "    # Update model weights.\n",
        "    for l in range(model.LAYERS):\n",
        "        weights[l], opt_states[l] = model.update(\n",
        "            l, weight_grad=grad_weights[l], weight=weights[l], opt_state=opt_states[l]\n",
        "        )\n",
        "        del grad_weights[l]\n",
        "    ### END ###\n",
        "\n",
        "    for l in range(model.LAYERS):\n",
        "        model.set_final_weight(l, weights[l])\n",
        "    return model"
      ]
    },
    {
      "cell_type": "code",
      "execution_count": null,
      "id": "e3632f24",
      "metadata": {
        "id": "e3632f24",
        "colab": {
          "base_uri": "https://localhost:8080/",
          "height": 421
        },
        "outputId": "25f1184e-a2e1-450b-9cd4-8d51de2800c1"
      },
      "outputs": [
        {
          "output_type": "execute_result",
          "data": {
            "text/plain": [
              "Compose(envelope=<chalk.envelope.Envelope object at 0x7a2e896da050>, diagram1=Compose(envelope=<chalk.envelope.Envelope object at 0x7a2e896da2f0>, diagram1=Compose(envelope=<chalk.envelope.Envelope object at 0x7a2e896da620>, diagram1=Compose(envelope=<chalk.envelope.Envelope object at 0x7a2e896da6b0>, diagram1=Compose(envelope=<chalk.envelope.Envelope object at 0x7a2e896b4370>, diagram1=Compose(envelope=<chalk.envelope.Envelope object at 0x7a2e896b4b50>, diagram1=Primitive(shape=Path(loc_trails=[Located(trail=Trail(segments=[Segment(offset=Vec2(1.5, 0.0), origin=Vec2(0.0, 0.0)), Segment(offset=Vec2(0.0, 1.05), origin=Vec2(0.0, 0.0)), Segment(offset=Vec2(-1.5, 0.0), origin=Vec2(0.0, 0.0)), Segment(offset=Vec2(0.0, -1.05), origin=Vec2(0.0, 0.0))], closed=True), location=Vec2(0.0, 0.0))]), style=Style(line_width_=(<WidthType.NORMALIZED: 2>, 0.2), line_color_=None, fill_color_=None, fill_opacity_=None, dashing_=None, output_size=None), transform=Affine(1.0, 0.0, -0.75,\n",
              "       0.0, 1.0, 0.0)), diagram2=Primitive(shape=Path(loc_trails=[Located(trail=Trail(segments=[Segment(offset=Vec2(3.0, 0.0), origin=Vec2(0.0, 0.0)), Segment(offset=Vec2(0.0, 0.0), origin=Vec2(0.0, 0.0)), Segment(offset=Vec2(-3.0, 0.0), origin=Vec2(0.0, 0.0)), Segment(offset=Vec2(0.0, 0.0), origin=Vec2(0.0, 0.0))], closed=True), location=Vec2(0.0, 0.0))]), style=Style(line_width_=(<WidthType.NORMALIZED: 2>, 0.2), line_color_=None, fill_color_=None, fill_opacity_=None, dashing_=None, output_size=None), transform=Affine(1.0, 0.0, -1.5,\n",
              "       0.0, 1.0, 0.0))), diagram2=ApplyTransform(transform=Affine(1.0, 0.0, 0.0,\n",
              "       0.0, 1.0, 1.05), diagram=ApplyTransform(transform=Affine(0.0, 1.0, 0.0,\n",
              "       -1.0, 0.0, 0.0), diagram=Empty()))), diagram2=ApplyTransform(transform=Affine(1.0, 0.0, 0.0,\n",
              "       0.0, 1.0, 2.05), diagram=Compose(envelope=<chalk.envelope.Envelope object at 0x7a2e896b5510>, diagram1=Primitive(shape=Path(loc_trails=[Located(trail=Trail(segments=[Segment(offset=Vec2(1.5, 0.0), origin=Vec2(0.0, 0.0)), Segment(offset=Vec2(0.0, 1.05), origin=Vec2(0.0, 0.0)), Segment(offset=Vec2(-1.5, 0.0), origin=Vec2(0.0, 0.0)), Segment(offset=Vec2(0.0, -1.05), origin=Vec2(0.0, 0.0))], closed=True), location=Vec2(0.0, 0.0))]), style=Style(line_width_=(<WidthType.NORMALIZED: 2>, 0.2), line_color_=None, fill_color_=None, fill_opacity_=None, dashing_=None, output_size=None), transform=Affine(1.0, 0.0, -0.75,\n",
              "       0.0, 1.0, 0.0)), diagram2=Primitive(shape=Path(loc_trails=[Located(trail=Trail(segments=[Segment(offset=Vec2(3.0, 0.0), origin=Vec2(0.0, 0.0)), Segment(offset=Vec2(0.0, 1.0), origin=Vec2(0.0, 0.0)), Segment(offset=Vec2(-3.0, 0.0), origin=Vec2(0.0, 0.0)), Segment(offset=Vec2(0.0, -1.0), origin=Vec2(0.0, 0.0))], closed=True), location=Vec2(0.0, 0.0))]), style=Style(line_width_=(<WidthType.NORMALIZED: 2>, 0.2), line_color_=None, fill_color_=None, fill_opacity_=None, dashing_=None, output_size=None), transform=Affine(1.0, 0.0, -1.5,\n",
              "       0.0, 1.0, -1.0))))), diagram2=ApplyTransform(transform=Affine(1.0, 0.0, 0.0,\n",
              "       0.0, 1.0, 3.0999999999999996), diagram=ApplyTransform(transform=Affine(0.0, 1.0, 0.0,\n",
              "       -1.0, 0.0, 0.0), diagram=Empty()))), diagram2=ApplyTransform(transform=Affine(1.0, 0.0, 0.0,\n",
              "       0.0, 1.0, 4.1), diagram=Compose(envelope=<chalk.envelope.Envelope object at 0x7a2e896b5150>, diagram1=Primitive(shape=Path(loc_trails=[Located(trail=Trail(segments=[Segment(offset=Vec2(1.5, 0.0), origin=Vec2(0.0, 0.0)), Segment(offset=Vec2(0.0, 1.05), origin=Vec2(0.0, 0.0)), Segment(offset=Vec2(-1.5, 0.0), origin=Vec2(0.0, 0.0)), Segment(offset=Vec2(0.0, -1.05), origin=Vec2(0.0, 0.0))], closed=True), location=Vec2(0.0, 0.0))]), style=Style(line_width_=(<WidthType.NORMALIZED: 2>, 0.2), line_color_=None, fill_color_=None, fill_opacity_=None, dashing_=None, output_size=None), transform=Affine(1.0, 0.0, -0.75,\n",
              "       0.0, 1.0, 0.0)), diagram2=Primitive(shape=Path(loc_trails=[Located(trail=Trail(segments=[Segment(offset=Vec2(3.0, 0.0), origin=Vec2(0.0, 0.0)), Segment(offset=Vec2(0.0, 1.0), origin=Vec2(0.0, 0.0)), Segment(offset=Vec2(-3.0, 0.0), origin=Vec2(0.0, 0.0)), Segment(offset=Vec2(0.0, -1.0), origin=Vec2(0.0, 0.0))], closed=True), location=Vec2(0.0, 0.0))]), style=Style(line_width_=(<WidthType.NORMALIZED: 2>, 0.2), line_color_=None, fill_color_=None, fill_opacity_=None, dashing_=None, output_size=None), transform=Affine(1.0, 0.0, -1.5,\n",
              "       0.0, 1.0, -1.0))))), diagram2=Compose(envelope=<chalk.envelope.Envelope object at 0x7a2e896dba90>, diagram1=Compose(envelope=<chalk.envelope.Envelope object at 0x7a2e896da1d0>, diagram1=Empty(), diagram2=Compose(envelope=<chalk.envelope.Envelope object at 0x7a2e894ffa90>, diagram1=Compose(envelope=<chalk.envelope.Envelope object at 0x7a2e894fe200>, diagram1=Compose(envelope=<chalk.envelope.Envelope object at 0x7a2e894fe980>, diagram1=Compose(envelope=<chalk.envelope.Envelope object at 0x7a2e896f4880>, diagram1=Compose(envelope=<chalk.envelope.Envelope object at 0x7a2e894fe1d0>, diagram1=Compose(envelope=<chalk.envelope.Envelope object at 0x7a2e894fded0>, diagram1=Empty(), diagram2=Empty()), diagram2=Empty()), diagram2=ApplyTransform(transform=Affine(1.0, 0.0, 0.0,\n",
              "       0.0, 1.0, 1.05), diagram=ApplyTransform(transform=Affine(0.0, 1.0, 0.0,\n",
              "       -1.0, 0.0, 0.0), diagram=Empty()))), diagram2=ApplyTransform(transform=Affine(1.0, 0.0, 0.0,\n",
              "       0.0, 1.0, 2.05), diagram=Compose(envelope=<chalk.envelope.Envelope object at 0x7a2e894fc820>, diagram1=Compose(envelope=<chalk.envelope.Envelope object at 0x7a2e894fc2e0>, diagram1=Empty(), diagram2=Empty()), diagram2=Empty()))), diagram2=ApplyTransform(transform=Affine(1.0, 0.0, 0.0,\n",
              "       0.0, 1.0, 3.0999999999999996), diagram=ApplyTransform(transform=Affine(0.0, 1.0, 0.0,\n",
              "       -1.0, 0.0, 0.0), diagram=Empty()))), diagram2=ApplyTransform(transform=Affine(1.0, 0.0, 0.0,\n",
              "       0.0, 1.0, 4.1), diagram=Compose(envelope=<chalk.envelope.Envelope object at 0x7a2e896f7a00>, diagram1=Compose(envelope=<chalk.envelope.Envelope object at 0x7a2e896f78e0>, diagram1=Empty(), diagram2=ApplyStyle(style=Style(line_width_=None, line_color_=None, fill_color_=<Color green>, fill_opacity_=None, dashing_=None, output_size=None), diagram=Compose(envelope=<chalk.envelope.Envelope object at 0x7a2e896f5b10>, diagram1=Empty(), diagram2=Primitive(shape=Path(loc_trails=[Located(trail=Trail(segments=[Segment(offset=Vec2(3.0, 0.0), origin=Vec2(0.0, 0.0)), Segment(offset=Vec2(0.0, 1.0), origin=Vec2(0.0, 0.0)), Segment(offset=Vec2(-3.0, 0.0), origin=Vec2(0.0, 0.0)), Segment(offset=Vec2(0.0, -1.0), origin=Vec2(0.0, 0.0))], closed=True), location=Vec2(0.0, 0.0))]), style=Style(line_width_=(<WidthType.NORMALIZED: 2>, 0.01), line_color_=<Color white>, fill_color_=None, fill_opacity_=None, dashing_=None, output_size=None), transform=Affine(1.0, 0.0, -1.5,\n",
              "       0.0, 1.0, -1.0))))), diagram2=Empty())))), diagram2=Compose(envelope=<chalk.envelope.Envelope object at 0x7a2e8951ac80>, diagram1=Compose(envelope=<chalk.envelope.Envelope object at 0x7a2e89518970>, diagram1=Compose(envelope=<chalk.envelope.Envelope object at 0x7a2e89518a30>, diagram1=Compose(envelope=<chalk.envelope.Envelope object at 0x7a2e89512e60>, diagram1=Compose(envelope=<chalk.envelope.Envelope object at 0x7a2e895192d0>, diagram1=Compose(envelope=<chalk.envelope.Envelope object at 0x7a2e89518e50>, diagram1=Empty(), diagram2=Empty()), diagram2=Empty()), diagram2=ApplyTransform(transform=Affine(1.0, 0.0, 0.0,\n",
              "       0.0, 1.0, 1.05), diagram=ApplyTransform(transform=Affine(0.0, 1.0, 0.0,\n",
              "       -1.0, 0.0, 0.0), diagram=Empty()))), diagram2=ApplyTransform(transform=Affine(1.0, 0.0, 0.0,\n",
              "       0.0, 1.0, 2.05), diagram=Compose(envelope=<chalk.envelope.Envelope object at 0x7a2e89518850>, diagram1=Compose(envelope=<chalk.envelope.Envelope object at 0x7a2e89518730>, diagram1=Empty(), diagram2=ApplyStyle(style=Style(line_width_=None, line_color_=None, fill_color_=<Color #bfbf00>, fill_opacity_=None, dashing_=None, output_size=None), diagram=Compose(envelope=<chalk.envelope.Envelope object at 0x7a2e89512800>, diagram1=Empty(), diagram2=Primitive(shape=Path(loc_trails=[Located(trail=Trail(segments=[Segment(offset=Vec2(3.0, 0.0), origin=Vec2(0.0, 0.0)), Segment(offset=Vec2(0.0, 1.0), origin=Vec2(0.0, 0.0)), Segment(offset=Vec2(-3.0, 0.0), origin=Vec2(0.0, 0.0)), Segment(offset=Vec2(0.0, -1.0), origin=Vec2(0.0, 0.0))], closed=True), location=Vec2(0.0, 0.0))]), style=Style(line_width_=(<WidthType.NORMALIZED: 2>, 0.01), line_color_=<Color white>, fill_color_=None, fill_opacity_=None, dashing_=None, output_size=None), transform=Affine(1.0, 0.0, -1.5,\n",
              "       0.0, 1.0, -1.0))))), diagram2=Empty()))), diagram2=ApplyTransform(transform=Affine(1.0, 0.0, 0.0,\n",
              "       0.0, 1.0, 3.0999999999999996), diagram=ApplyTransform(transform=Affine(0.0, 1.0, 0.0,\n",
              "       -1.0, 0.0, 0.0), diagram=Empty()))), diagram2=ApplyTransform(transform=Affine(1.0, 0.0, 0.0,\n",
              "       0.0, 1.0, 4.1), diagram=Compose(envelope=<chalk.envelope.Envelope object at 0x7a2e89510ac0>, diagram1=Compose(envelope=<chalk.envelope.Envelope object at 0x7a2e895106a0>, diagram1=Empty(), diagram2=Empty()), diagram2=Empty())))))"
            ],
            "image/svg+xml": "<?xml version=\"1.0\" encoding=\"utf-8\" ?>\n<svg baseProfile=\"full\" height=\"400\" version=\"1.1\" width=\"233\" xmlns=\"http://www.w3.org/2000/svg\" xmlns:ev=\"http://www.w3.org/2001/xml-events\" xmlns:xlink=\"http://www.w3.org/1999/xlink\"><defs><marker id=\"arrow\" markerHeight=\"3.5\" markerWidth=\"5\" orient=\"auto\" refX=\"5.0\" refY=\"1.7\"><polygon points=\"0,0 5,1.75 0,3.5\" /></marker></defs><g style=\"fill:white;\"><g transform=\"matrix(1.0, 0.0, 0.0, 1.0, 116.50000000000001, 199.99166666666667)\"><g transform=\"matrix(73.96825396825396, 0.0, 0.0, 73.96825396825396, 0.0, 0.0)\"><g><g transform=\"matrix(1.0, 0.0, 0.0, 1.0, -0.0, -2.5749999999999997)\"><g><g><g><g><g><g><g style=\"stroke: black;stroke-width: 3.6;\" transform=\"matrix(1.0, 0.0, 0.0, 1.0, -0.75, 0.0)\"><path d=\"M 0.0 0.0 L 1.5 0.0 L 1.5 1.05 L 0.0 1.05 L 0.0 0.0 Z\" style=\"vector-effect: non-scaling-stroke;\" /></g><g style=\"stroke: black;stroke-width: 3.6;\" transform=\"matrix(1.0, 0.0, 0.0, 1.0, -1.5, 0.0)\"><path d=\"M 0.0 0.0 L 3.0 0.0 L 3.0 0.0 L 0.0 0.0 L 0.0 0.0 Z\" style=\"vector-effect: non-scaling-stroke;\" /></g></g><g transform=\"matrix(1.0, 0.0, 0.0, 1.0, 0.0, 1.05)\"><g transform=\"matrix(0.0, -1.0, 1.0, 0.0, 0.0, 0.0)\"><g /></g></g></g><g transform=\"matrix(1.0, 0.0, 0.0, 1.0, 0.0, 2.05)\"><g><g style=\"stroke: black;stroke-width: 3.6;\" transform=\"matrix(1.0, 0.0, 0.0, 1.0, -0.75, 0.0)\"><path d=\"M 0.0 0.0 L 1.5 0.0 L 1.5 1.05 L 0.0 1.05 L 0.0 0.0 Z\" style=\"vector-effect: non-scaling-stroke;\" /></g><g style=\"stroke: black;stroke-width: 3.6;\" transform=\"matrix(1.0, 0.0, 0.0, 1.0, -1.5, -1.0)\"><path d=\"M 0.0 0.0 L 3.0 0.0 L 3.0 1.0 L 0.0 1.0 L 0.0 0.0 Z\" style=\"vector-effect: non-scaling-stroke;\" /></g></g></g></g><g transform=\"matrix(1.0, 0.0, 0.0, 1.0, 0.0, 3.0999999999999996)\"><g transform=\"matrix(0.0, -1.0, 1.0, 0.0, 0.0, 0.0)\"><g /></g></g></g><g transform=\"matrix(1.0, 0.0, 0.0, 1.0, 0.0, 4.1)\"><g><g style=\"stroke: black;stroke-width: 3.6;\" transform=\"matrix(1.0, 0.0, 0.0, 1.0, -0.75, 0.0)\"><path d=\"M 0.0 0.0 L 1.5 0.0 L 1.5 1.05 L 0.0 1.05 L 0.0 0.0 Z\" style=\"vector-effect: non-scaling-stroke;\" /></g><g style=\"stroke: black;stroke-width: 3.6;\" transform=\"matrix(1.0, 0.0, 0.0, 1.0, -1.5, -1.0)\"><path d=\"M 0.0 0.0 L 3.0 0.0 L 3.0 1.0 L 0.0 1.0 L 0.0 0.0 Z\" style=\"vector-effect: non-scaling-stroke;\" /></g></g></g></g><g><g><g /><g><g><g><g><g><g><g /><g /></g><g /></g><g transform=\"matrix(1.0, 0.0, 0.0, 1.0, 0.0, 1.05)\"><g transform=\"matrix(0.0, -1.0, 1.0, 0.0, 0.0, 0.0)\"><g /></g></g></g><g transform=\"matrix(1.0, 0.0, 0.0, 1.0, 0.0, 2.05)\"><g><g><g /><g /></g><g /></g></g></g><g transform=\"matrix(1.0, 0.0, 0.0, 1.0, 0.0, 3.0999999999999996)\"><g transform=\"matrix(0.0, -1.0, 1.0, 0.0, 0.0, 0.0)\"><g /></g></g></g><g transform=\"matrix(1.0, 0.0, 0.0, 1.0, 0.0, 4.1)\"><g><g><g /><g><g /><g style=\"fill: #008000;stroke: #ffffff;stroke-width: 0.18;\" transform=\"matrix(1.0, 0.0, 0.0, 1.0, -1.5, -1.0)\"><path d=\"M 0.0 0.0 L 3.0 0.0 L 3.0 1.0 L 0.0 1.0 L 0.0 0.0 Z\" style=\"vector-effect: non-scaling-stroke;\" /></g></g></g><g /></g></g></g></g><g><g><g><g><g><g><g /><g /></g><g /></g><g transform=\"matrix(1.0, 0.0, 0.0, 1.0, 0.0, 1.05)\"><g transform=\"matrix(0.0, -1.0, 1.0, 0.0, 0.0, 0.0)\"><g /></g></g></g><g transform=\"matrix(1.0, 0.0, 0.0, 1.0, 0.0, 2.05)\"><g><g><g /><g><g /><g style=\"fill: #bfbf00;stroke: #ffffff;stroke-width: 0.18;\" transform=\"matrix(1.0, 0.0, 0.0, 1.0, -1.5, -1.0)\"><path d=\"M 0.0 0.0 L 3.0 0.0 L 3.0 1.0 L 0.0 1.0 L 0.0 0.0 Z\" style=\"vector-effect: non-scaling-stroke;\" /></g></g></g><g /></g></g></g><g transform=\"matrix(1.0, 0.0, 0.0, 1.0, 0.0, 3.0999999999999996)\"><g transform=\"matrix(0.0, -1.0, 1.0, 0.0, 0.0, 0.0)\"><g /></g></g></g><g transform=\"matrix(1.0, 0.0, 0.0, 1.0, 0.0, 4.1)\"><g><g><g /><g /></g><g /></g></g></g></g></g></g><g /></g></g></g></g></svg>"
          },
          "metadata": {},
          "execution_count": 79
        }
      ],
      "source": [
        "out = basic(Model(layers=2, batches=4, rank=0, dist=Dist(1)))\n",
        "draw_group(out.final_weights)"
      ]
    },
    {
      "cell_type": "code",
      "execution_count": null,
      "id": "21c87306",
      "metadata": {
        "id": "21c87306",
        "colab": {
          "base_uri": "https://localhost:8080/",
          "height": 457
        },
        "outputId": "718d4c5a-e7ad-4ca5-9654-2735fe0bfbe2"
      },
      "outputs": [
        {
          "output_type": "stream",
          "name": "stdout",
          "text": [
            "Timesteps: 16.5 \n",
            "Maximum Memory: 2621440.0 at GPU: 0 time: 8\n"
          ]
        },
        {
          "output_type": "execute_result",
          "data": {
            "text/plain": [
              "Compose(envelope=<chalk.envelope.Envelope object at 0x7a2e89557d30>, diagram1=Primitive(shape=Path(loc_trails=[Located(trail=Trail(segments=[Segment(offset=Vec2(1.5, 0.0), origin=Vec2(0.0, 0.0)), Segment(offset=Vec2(0.0, 8.0), origin=Vec2(0.0, 0.0)), Segment(offset=Vec2(-1.5, 0.0), origin=Vec2(0.0, 0.0)), Segment(offset=Vec2(0.0, -8.0), origin=Vec2(0.0, 0.0))], closed=True), location=Vec2(0.0, 0.0))]), style=Style(line_width_=(<WidthType.NORMALIZED: 2>, 0), line_color_=None, fill_color_=None, fill_opacity_=None, dashing_=None, output_size=None), transform=Affine(1.0, 0.0, -0.75,\n",
              "       0.0, 1.0, -4.0)), diagram2=ApplyTransform(transform=Affine(1.0, 0.0, -8.0,\n",
              "       0.0, 1.0, -0.25), diagram=ApplyTransform(transform=Affine(0.5, 0.0, 0.0,\n",
              "       0.0, 0.5, 0.0), diagram=Compose(envelope=<chalk.envelope.Envelope object at 0x7a2e89556c80>, diagram1=Compose(envelope=<chalk.envelope.Envelope object at 0x7a2e89556680>, diagram1=Compose(envelope=<chalk.envelope.Envelope object at 0x7a2e89533dc0>, diagram1=Compose(envelope=<chalk.envelope.Envelope object at 0x7a2e89532560>, diagram1=Compose(envelope=<chalk.envelope.Envelope object at 0x7a2e89530d00>, diagram1=Compose(envelope=<chalk.envelope.Envelope object at 0x7a2e8951b4c0>, diagram1=Compose(envelope=<chalk.envelope.Envelope object at 0x7a2e896f48b0>, diagram1=Compose(envelope=<chalk.envelope.Envelope object at 0x7a2e8979ea10>, diagram1=Compose(envelope=<chalk.envelope.Envelope object at 0x7a2e8979d510>, diagram1=Empty(), diagram2=Compose(envelope=<chalk.envelope.Envelope object at 0x7a2e8979f280>, diagram1=Primitive(shape=Path(loc_trails=[Located(trail=Trail(segments=[Segment(offset=Vec2(35.0, 0.0), origin=Vec2(0.0, 0.0)), Segment(offset=Vec2(0.0, 1.0), origin=Vec2(0.0, 0.0)), Segment(offset=Vec2(-35.0, 0.0), origin=Vec2(0.0, 0.0)), Segment(offset=Vec2(0.0, -1.0), origin=Vec2(0.0, 0.0))], closed=True), location=Vec2(0.0, 0.0))]), style=Style(line_width_=None, line_color_=None, fill_color_=<Color LightGray>, fill_opacity_=None, dashing_=None, output_size=None), transform=Affine(1.0, 0.0, 0.0,\n",
              "       0.0, 1.0, -0.5)), diagram2=ApplyStyle(style=Style(line_width_=None, line_color_=None, fill_color_=<Color orange>, fill_opacity_=None, dashing_=None, output_size=None), diagram=ApplyTransform(transform=Affine(1.0, 0.0, -2.0,\n",
              "       0.0, 1.0, 0.0), diagram=Compose(envelope=<chalk.envelope.Envelope object at 0x7a2e896da230>, diagram1=Primitive(shape=Text(text='0', font_size=1), style=Style(line_width_=(<WidthType.NORMALIZED: 2>, 0), line_color_=None, fill_color_=None, fill_opacity_=None, dashing_=None, output_size=None), transform=Affine(1.0, 0.0, 0.0,\n",
              "       0.0, 1.0, 0.0)), diagram2=Empty()))))), diagram2=ApplyStyle(style=Style(line_width_=None, line_color_=None, fill_color_=<Color green>, fill_opacity_=None, dashing_=None, output_size=None), diagram=ApplyTransform(transform=Affine(1.0, 0.0, 0.0,\n",
              "       0.0, 1.0, 0.0), diagram=ApplyTransform(transform=Affine(1.0, 0.0, 3.975,\n",
              "       0.0, 1.0, 0.0), diagram=Compose(envelope=<chalk.envelope.Envelope object at 0x7a2e8979c5e0>, diagram1=Primitive(shape=Path(loc_trails=[Located(trail=Trail(segments=[Segment(offset=Vec2(7.95, 0.0), origin=Vec2(0.0, 0.0)), Segment(offset=Vec2(0.0, 0.9), origin=Vec2(0.0, 0.0)), Segment(offset=Vec2(-7.95, 0.0), origin=Vec2(0.0, 0.0)), Segment(offset=Vec2(0.0, -0.9), origin=Vec2(0.0, 0.0))], closed=True), location=Vec2(0.0, 0.0))]), style=Style(line_width_=(<WidthType.NORMALIZED: 2>, 0), line_color_=None, fill_color_=None, fill_opacity_=None, dashing_=None, output_size=None), transform=Affine(1.0, 0.0, -3.975,\n",
              "       0.0, 1.0, -0.45)), diagram2=Primitive(shape=Text(text='0 1 2 3', font_size=0.9), style=Style(line_width_=(<WidthType.NORMALIZED: 2>, 0.05), line_color_=None, fill_color_=<Color black>, fill_opacity_=None, dashing_=None, output_size=None), transform=Affine(1.0, 0.0, 0.0,\n",
              "       0.0, 1.0, 0.1))))))), diagram2=ApplyStyle(style=Style(line_width_=None, line_color_=None, fill_color_=<Color #bfbf00>, fill_opacity_=None, dashing_=None, output_size=None), diagram=ApplyTransform(transform=Affine(1.0, 0.0, 8.0,\n",
              "       0.0, 1.0, 0.0), diagram=ApplyTransform(transform=Affine(1.0, 0.0, 3.975,\n",
              "       0.0, 1.0, 0.0), diagram=Compose(envelope=<chalk.envelope.Envelope object at 0x7a2e8979ecb0>, diagram1=Primitive(shape=Path(loc_trails=[Located(trail=Trail(segments=[Segment(offset=Vec2(7.95, 0.0), origin=Vec2(0.0, 0.0)), Segment(offset=Vec2(0.0, 0.9), origin=Vec2(0.0, 0.0)), Segment(offset=Vec2(-7.95, 0.0), origin=Vec2(0.0, 0.0)), Segment(offset=Vec2(0.0, -0.9), origin=Vec2(0.0, 0.0))], closed=True), location=Vec2(0.0, 0.0))]), style=Style(line_width_=(<WidthType.NORMALIZED: 2>, 0), line_color_=None, fill_color_=None, fill_opacity_=None, dashing_=None, output_size=None), transform=Affine(1.0, 0.0, -3.975,\n",
              "       0.0, 1.0, -0.45)), diagram2=Primitive(shape=Text(text='0 1 2 3', font_size=0.9), style=Style(line_width_=(<WidthType.NORMALIZED: 2>, 0.05), line_color_=None, fill_color_=<Color black>, fill_opacity_=None, dashing_=None, output_size=None), transform=Affine(1.0, 0.0, 0.0,\n",
              "       0.0, 1.0, 0.1))))))), diagram2=ApplyStyle(style=Style(line_width_=None, line_color_=None, fill_color_=None, fill_opacity_=0.2, dashing_=None, output_size=None), diagram=ApplyStyle(style=Style(line_width_=None, line_color_=None, fill_color_=<Color #bfbf00>, fill_opacity_=None, dashing_=None, output_size=None), diagram=ApplyTransform(transform=Affine(1.0, 0.0, 16.0,\n",
              "       0.0, 1.0, 0.0), diagram=ApplyTransform(transform=Affine(1.0, 0.0, 3.975,\n",
              "       0.0, 1.0, 0.0), diagram=Compose(envelope=<chalk.envelope.Envelope object at 0x7a2e8951aef0>, diagram1=Primitive(shape=Path(loc_trails=[Located(trail=Trail(segments=[Segment(offset=Vec2(7.95, 0.0), origin=Vec2(0.0, 0.0)), Segment(offset=Vec2(0.0, 0.9), origin=Vec2(0.0, 0.0)), Segment(offset=Vec2(-7.95, 0.0), origin=Vec2(0.0, 0.0)), Segment(offset=Vec2(0.0, -0.9), origin=Vec2(0.0, 0.0))], closed=True), location=Vec2(0.0, 0.0))]), style=Style(line_width_=(<WidthType.NORMALIZED: 2>, 0), line_color_=None, fill_color_=None, fill_opacity_=None, dashing_=None, output_size=None), transform=Affine(1.0, 0.0, -3.975,\n",
              "       0.0, 1.0, -0.45)), diagram2=Primitive(shape=Text(text='0 1 2 3', font_size=0.9), style=Style(line_width_=(<WidthType.NORMALIZED: 2>, 0.05), line_color_=None, fill_color_=<Color black>, fill_opacity_=None, dashing_=None, output_size=None), transform=Affine(1.0, 0.0, 0.0,\n",
              "       0.0, 1.0, 0.1)))))))), diagram2=ApplyStyle(style=Style(line_width_=None, line_color_=None, fill_color_=None, fill_opacity_=0.2, dashing_=None, output_size=None), diagram=ApplyStyle(style=Style(line_width_=None, line_color_=None, fill_color_=<Color green>, fill_opacity_=None, dashing_=None, output_size=None), diagram=ApplyTransform(transform=Affine(1.0, 0.0, 24.0,\n",
              "       0.0, 1.0, 0.0), diagram=ApplyTransform(transform=Affine(1.0, 0.0, 3.975,\n",
              "       0.0, 1.0, 0.0), diagram=Compose(envelope=<chalk.envelope.Envelope object at 0x7a2e895306d0>, diagram1=Primitive(shape=Path(loc_trails=[Located(trail=Trail(segments=[Segment(offset=Vec2(7.95, 0.0), origin=Vec2(0.0, 0.0)), Segment(offset=Vec2(0.0, 0.9), origin=Vec2(0.0, 0.0)), Segment(offset=Vec2(-7.95, 0.0), origin=Vec2(0.0, 0.0)), Segment(offset=Vec2(0.0, -0.9), origin=Vec2(0.0, 0.0))], closed=True), location=Vec2(0.0, 0.0))]), style=Style(line_width_=(<WidthType.NORMALIZED: 2>, 0), line_color_=None, fill_color_=None, fill_opacity_=None, dashing_=None, output_size=None), transform=Affine(1.0, 0.0, -3.975,\n",
              "       0.0, 1.0, -0.45)), diagram2=Primitive(shape=Text(text='0 1 2 3', font_size=0.9), style=Style(line_width_=(<WidthType.NORMALIZED: 2>, 0.05), line_color_=None, fill_color_=<Color black>, fill_opacity_=None, dashing_=None, output_size=None), transform=Affine(1.0, 0.0, 0.0,\n",
              "       0.0, 1.0, 0.1)))))))), diagram2=ApplyStyle(style=Style(line_width_=None, line_color_=None, fill_color_=None, fill_opacity_=0.5, dashing_=None, output_size=None), diagram=ApplyStyle(style=Style(line_width_=None, line_color_=None, fill_color_=<Color yellow>, fill_opacity_=None, dashing_=None, output_size=None), diagram=ApplyTransform(transform=Affine(1.0, 0.0, 32.0,\n",
              "       0.0, 1.0, 0.0), diagram=ApplyTransform(transform=Affine(1.0, 0.0, 0.475,\n",
              "       0.0, 1.0, 0.0), diagram=Compose(envelope=<chalk.envelope.Envelope object at 0x7a2e89531ed0>, diagram1=Primitive(shape=Path(loc_trails=[Located(trail=Trail(segments=[Segment(offset=Vec2(0.95, 0.0), origin=Vec2(0.0, 0.0)), Segment(offset=Vec2(0.0, 0.9), origin=Vec2(0.0, 0.0)), Segment(offset=Vec2(-0.95, 0.0), origin=Vec2(0.0, 0.0)), Segment(offset=Vec2(0.0, -0.9), origin=Vec2(0.0, 0.0))], closed=True), location=Vec2(0.0, 0.0))]), style=Style(line_width_=(<WidthType.NORMALIZED: 2>, 0), line_color_=None, fill_color_=None, fill_opacity_=None, dashing_=None, output_size=None), transform=Affine(1.0, 0.0, -0.475,\n",
              "       0.0, 1.0, -0.45)), diagram2=Primitive(shape=Text(text='', font_size=0.9), style=Style(line_width_=(<WidthType.NORMALIZED: 2>, 0.05), line_color_=None, fill_color_=<Color black>, fill_opacity_=None, dashing_=None, output_size=None), transform=Affine(1.0, 0.0, 0.0,\n",
              "       0.0, 1.0, 0.1)))))))), diagram2=ApplyStyle(style=Style(line_width_=None, line_color_=None, fill_color_=None, fill_opacity_=0.5, dashing_=None, output_size=None), diagram=ApplyStyle(style=Style(line_width_=None, line_color_=None, fill_color_=<Color yellow>, fill_opacity_=None, dashing_=None, output_size=None), diagram=ApplyTransform(transform=Affine(1.0, 0.0, 33.0,\n",
              "       0.0, 1.0, 0.0), diagram=ApplyTransform(transform=Affine(1.0, 0.0, 0.475,\n",
              "       0.0, 1.0, 0.0), diagram=Compose(envelope=<chalk.envelope.Envelope object at 0x7a2e89533730>, diagram1=Primitive(shape=Path(loc_trails=[Located(trail=Trail(segments=[Segment(offset=Vec2(0.95, 0.0), origin=Vec2(0.0, 0.0)), Segment(offset=Vec2(0.0, 0.9), origin=Vec2(0.0, 0.0)), Segment(offset=Vec2(-0.95, 0.0), origin=Vec2(0.0, 0.0)), Segment(offset=Vec2(0.0, -0.9), origin=Vec2(0.0, 0.0))], closed=True), location=Vec2(0.0, 0.0))]), style=Style(line_width_=(<WidthType.NORMALIZED: 2>, 0), line_color_=None, fill_color_=None, fill_opacity_=None, dashing_=None, output_size=None), transform=Affine(1.0, 0.0, -0.475,\n",
              "       0.0, 1.0, -0.45)), diagram2=Primitive(shape=Text(text='', font_size=0.9), style=Style(line_width_=(<WidthType.NORMALIZED: 2>, 0.05), line_color_=None, fill_color_=<Color black>, fill_opacity_=None, dashing_=None, output_size=None), transform=Affine(1.0, 0.0, 0.0,\n",
              "       0.0, 1.0, 0.1)))))))), diagram2=ApplyTransform(transform=Affine(1.0, 0.0, 0.0,\n",
              "       0.0, 1.0, 0.5), diagram=ApplyTransform(transform=Affine(0.0, 1.0, 0.0,\n",
              "       -1.0, 0.0, 0.0), diagram=Empty()))), diagram2=ApplyTransform(transform=Affine(1.0, 0.0, 0.0,\n",
              "       0.0, 1.0, 1.5), diagram=Compose(envelope=<chalk.envelope.Envelope object at 0x7a2e89555b10>, diagram1=Compose(envelope=<chalk.envelope.Envelope object at 0x7a2e89554f70>, diagram1=ApplyTransform(transform=Affine(1.0, 0.0, -0.0,\n",
              "       0.0, 1.0, -0.0), diagram=Compose(envelope=<chalk.envelope.Envelope object at 0x7a2e8954bdc0>, diagram1=ApplyTransform(transform=Affine(1.0, 0.0, -0.0,\n",
              "       0.0, 1.0, -0.0), diagram=Compose(envelope=<chalk.envelope.Envelope object at 0x7a2e8954ac50>, diagram1=ApplyTransform(transform=Affine(1.0, 0.0, -0.0,\n",
              "       0.0, 1.0, -0.0), diagram=Compose(envelope=<chalk.envelope.Envelope object at 0x7a2e89549ba0>, diagram1=ApplyTransform(transform=Affine(1.0, 0.0, -0.0,\n",
              "       0.0, 1.0, -0.0), diagram=Compose(envelope=<chalk.envelope.Envelope object at 0x7a2e89548580>, diagram1=ApplyTransform(transform=Affine(1.0, 0.0, -0.0,\n",
              "       0.0, 1.0, -0.0), diagram=Compose(envelope=<chalk.envelope.Envelope object at 0x7a2e8953bcd0>, diagram1=ApplyTransform(transform=Affine(1.0, 0.0, -0.0,\n",
              "       0.0, 1.0, -0.0), diagram=Compose(envelope=<chalk.envelope.Envelope object at 0x7a2e8953ac50>, diagram1=ApplyTransform(transform=Affine(1.0, 0.0, -0.0,\n",
              "       0.0, 1.0, -0.5), diagram=Compose(envelope=<chalk.envelope.Envelope object at 0x7a2e89539e10>, diagram1=Primitive(shape=Path(loc_trails=[Located(trail=Trail(segments=[Segment(offset=Vec2(35.0, 0.0), origin=Vec2(0.0, 0.0)), Segment(offset=Vec2(0.0, 1.0), origin=Vec2(0.0, 0.0)), Segment(offset=Vec2(-35.0, 0.0), origin=Vec2(0.0, 0.0)), Segment(offset=Vec2(0.0, -1.0), origin=Vec2(0.0, 0.0))], closed=True), location=Vec2(0.0, 0.0))]), style=Style(line_width_=None, line_color_=None, fill_color_=<Color white>, fill_opacity_=None, dashing_=None, output_size=None), transform=Affine(1.0, 0.0, 0.0,\n",
              "       0.0, 1.0, -0.5)), diagram2=ApplyStyle(style=Style(line_width_=None, line_color_=None, fill_color_=<Color gray>, fill_opacity_=None, dashing_=None, output_size=None), diagram=ApplyTransform(transform=Affine(1.0, 0.0, -2.0,\n",
              "       0.0, 1.0, 0.0), diagram=Compose(envelope=<chalk.envelope.Envelope object at 0x7a2e895385b0>, diagram1=Primitive(shape=Text(text='0', font_size=1), style=Style(line_width_=(<WidthType.NORMALIZED: 2>, 0), line_color_=None, fill_color_=None, fill_opacity_=None, dashing_=None, output_size=None), transform=Affine(1.0, 0.0, 0.0,\n",
              "       0.0, 1.0, 0.0)), diagram2=Empty()))))), diagram2=Primitive(shape=Path(loc_trails=[Located(trail=Trail(segments=[Segment(offset=Vec2(8.0, 0.0), origin=Vec2(0.0, 0.0)), Segment(offset=Vec2(0.0, 0.4), origin=Vec2(0.0, 0.0)), Segment(offset=Vec2(-8.0, 0.0), origin=Vec2(0.0, 0.0)), Segment(offset=Vec2(0.0, -0.4), origin=Vec2(0.0, 0.0))], closed=True), location=Vec2(0.0, 0.0))]), style=Style(line_width_=(<WidthType.NORMALIZED: 2>, 0), line_color_=None, fill_color_=<Color gray>, fill_opacity_=None, dashing_=None, output_size=None), transform=Affine(1.0, 0.0, 0.0,\n",
              "       0.0, 1.0, -0.4)))), diagram2=Primitive(shape=Path(loc_trails=[Located(trail=Trail(segments=[Segment(offset=Vec2(8.0, 0.0), origin=Vec2(0.0, 0.0)), Segment(offset=Vec2(0.0, 0.5333333333333333), origin=Vec2(0.0, 0.0)), Segment(offset=Vec2(-8.0, 0.0), origin=Vec2(0.0, 0.0)), Segment(offset=Vec2(0.0, -0.5333333333333333), origin=Vec2(0.0, 0.0))], closed=True), location=Vec2(0.0, 0.0))]), style=Style(line_width_=(<WidthType.NORMALIZED: 2>, 0), line_color_=None, fill_color_=<Color gray>, fill_opacity_=None, dashing_=None, output_size=None), transform=Affine(1.0, 0.0, 8.0,\n",
              "       0.0, 1.0, -0.5333333333333333)))), diagram2=Primitive(shape=Path(loc_trails=[Located(trail=Trail(segments=[Segment(offset=Vec2(0.0, 0.0), origin=Vec2(0.0, 0.0)), Segment(offset=Vec2(0.0, 0.6666666666666666), origin=Vec2(0.0, 0.0)), Segment(offset=Vec2(0.0, 0.0), origin=Vec2(0.0, 0.0)), Segment(offset=Vec2(0.0, -0.6666666666666666), origin=Vec2(0.0, 0.0))], closed=True), location=Vec2(0.0, 0.0))]), style=Style(line_width_=(<WidthType.NORMALIZED: 2>, 0), line_color_=None, fill_color_=<Color gray>, fill_opacity_=None, dashing_=None, output_size=None), transform=Affine(1.0, 0.0, 16.0,\n",
              "       0.0, 1.0, -0.6666666666666666)))), diagram2=Primitive(shape=Path(loc_trails=[Located(trail=Trail(segments=[Segment(offset=Vec2(8.0, 0.0), origin=Vec2(0.0, 0.0)), Segment(offset=Vec2(0.0, 0.6666666666666666), origin=Vec2(0.0, 0.0)), Segment(offset=Vec2(-8.0, 0.0), origin=Vec2(0.0, 0.0)), Segment(offset=Vec2(0.0, -0.6666666666666666), origin=Vec2(0.0, 0.0))], closed=True), location=Vec2(0.0, 0.0))]), style=Style(line_width_=(<WidthType.NORMALIZED: 2>, 0), line_color_=None, fill_color_=<Color gray>, fill_opacity_=None, dashing_=None, output_size=None), transform=Affine(1.0, 0.0, 16.0,\n",
              "       0.0, 1.0, -0.6666666666666666)))), diagram2=Primitive(shape=Path(loc_trails=[Located(trail=Trail(segments=[Segment(offset=Vec2(8.0, 0.0), origin=Vec2(0.0, 0.0)), Segment(offset=Vec2(0.0, 0.6), origin=Vec2(0.0, 0.0)), Segment(offset=Vec2(-8.0, 0.0), origin=Vec2(0.0, 0.0)), Segment(offset=Vec2(0.0, -0.6), origin=Vec2(0.0, 0.0))], closed=True), location=Vec2(0.0, 0.0))]), style=Style(line_width_=(<WidthType.NORMALIZED: 2>, 0), line_color_=None, fill_color_=<Color gray>, fill_opacity_=None, dashing_=None, output_size=None), transform=Affine(1.0, 0.0, 24.0,\n",
              "       0.0, 1.0, -0.6)))), diagram2=Primitive(shape=Path(loc_trails=[Located(trail=Trail(segments=[Segment(offset=Vec2(1.0, 0.0), origin=Vec2(0.0, 0.0)), Segment(offset=Vec2(0.0, 0.4), origin=Vec2(0.0, 0.0)), Segment(offset=Vec2(-1.0, 0.0), origin=Vec2(0.0, 0.0)), Segment(offset=Vec2(0.0, -0.4), origin=Vec2(0.0, 0.0))], closed=True), location=Vec2(0.0, 0.0))]), style=Style(line_width_=(<WidthType.NORMALIZED: 2>, 0), line_color_=None, fill_color_=<Color gray>, fill_opacity_=None, dashing_=None, output_size=None), transform=Affine(1.0, 0.0, 32.0,\n",
              "       0.0, 1.0, -0.4)))), diagram2=Primitive(shape=Path(loc_trails=[Located(trail=Trail(segments=[Segment(offset=Vec2(1.0, 0.0), origin=Vec2(0.0, 0.0)), Segment(offset=Vec2(0.0, 0.3333333333333333), origin=Vec2(0.0, 0.0)), Segment(offset=Vec2(-1.0, 0.0), origin=Vec2(0.0, 0.0)), Segment(offset=Vec2(0.0, -0.3333333333333333), origin=Vec2(0.0, 0.0))], closed=True), location=Vec2(0.0, 0.0))]), style=Style(line_width_=(<WidthType.NORMALIZED: 2>, 0), line_color_=None, fill_color_=<Color gray>, fill_opacity_=None, dashing_=None, output_size=None), transform=Affine(1.0, 0.0, 33.0,\n",
              "       0.0, 1.0, -0.3333333333333333))), diagram2=Primitive(shape=Path(loc_trails=[Located(trail=Trail(segments=[Segment(offset=Vec2(0.1, 0.0), origin=Vec2(0.0, 0.0)), Segment(offset=Vec2(0.0, 1.0), origin=Vec2(0.0, 0.0)), Segment(offset=Vec2(-0.1, 0.0), origin=Vec2(0.0, 0.0)), Segment(offset=Vec2(0.0, -1.0), origin=Vec2(0.0, 0.0))], closed=True), location=Vec2(0.0, 0.0))]), style=Style(line_width_=None, line_color_=<Color red>, fill_color_=None, fill_opacity_=None, dashing_=None, output_size=None), transform=Affine(1.0, 0.0, 15.95,\n",
              "       0.0, 1.0, -1.0))))))))"
            ],
            "image/svg+xml": "<?xml version=\"1.0\" encoding=\"utf-8\" ?>\n<svg baseProfile=\"full\" height=\"400\" version=\"1.1\" width=\"950\" xmlns=\"http://www.w3.org/2000/svg\" xmlns:ev=\"http://www.w3.org/2001/xml-events\" xmlns:xlink=\"http://www.w3.org/1999/xlink\"><defs><marker id=\"arrow\" markerHeight=\"3.5\" markerWidth=\"5\" orient=\"auto\" refX=\"5.0\" refY=\"1.7\"><polygon points=\"0,0 5,1.75 0,3.5\" /></marker></defs><g style=\"fill:white;\"><g transform=\"matrix(1.0, 0.0, 0.0, 1.0, 474.99999999999994, 200.0)\"><g transform=\"matrix(47.61904761904762, 0.0, 0.0, 47.61904761904762, 0.0, 0.0)\"><g><g transform=\"matrix(1.0, 0.0, 0.0, 1.0, -0.0, -0.0)\"><g><g style=\"stroke: black;stroke-width: 0.0;\" transform=\"matrix(1.0, 0.0, 0.0, 1.0, -0.75, -4.0)\"><path d=\"M 0.0 0.0 L 1.5 0.0 L 1.5 8.0 L 0.0 8.0 L 0.0 0.0 Z\" style=\"vector-effect: non-scaling-stroke;\" /></g><g transform=\"matrix(1.0, 0.0, 0.0, 1.0, -8.0, -0.25)\"><g transform=\"matrix(0.5, 0.0, 0.0, 0.5, 0.0, 0.0)\"><g><g><g><g><g><g><g><g><g><g /><g><g style=\"fill: #d3d3d3;stroke: black;stroke-width: 1.8;\" transform=\"matrix(1.0, 0.0, 0.0, 1.0, 0.0, -0.5)\"><path d=\"M 0.0 0.0 L 35.0 0.0 L 35.0 1.0 L 0.0 1.0 L 0.0 0.0 Z\" style=\"vector-effect: non-scaling-stroke;\" /></g><g transform=\"matrix(1.0, 0.0, 0.0, 1.0, -2.0, 0.0)\"><g><g style=\"fill: #ffa500;stroke: black;stroke-width: 0.0;\" transform=\"matrix(1.0, 0.0, 0.0, 1.0, 0.0, 0.0)\"><text style=\"text-align:center; text-anchor:middle; dominant-baseline:middle;&#10;                      font-family:sans-serif; font-weight: bold;&#10;                      font-size:1px;&#10;                      vector-effect: non-scaling-stroke;\" transform=\"translate(-5e-05, 0)\">0</text></g><g /></g></g></g></g><g transform=\"matrix(1.0, 0.0, 0.0, 1.0, 0.0, 0.0)\"><g transform=\"matrix(1.0, 0.0, 0.0, 1.0, 3.975, 0.0)\"><g><g style=\"fill: #008000;stroke: black;stroke-width: 0.0;\" transform=\"matrix(1.0, 0.0, 0.0, 1.0, -3.975, -0.45)\"><path d=\"M 0.0 0.0 L 7.95 0.0 L 7.95 0.9 L 0.0 0.9 L 0.0 0.0 Z\" style=\"vector-effect: non-scaling-stroke;\" /></g><g style=\"fill: #008000;stroke: black;stroke-width: 0.9;\" transform=\"matrix(1.0, 0.0, 0.0, 1.0, 0.0, 0.1)\"><text style=\"text-align:center; text-anchor:middle; dominant-baseline:middle;&#10;                      font-family:sans-serif; font-weight: bold;&#10;                      font-size:0.9px;&#10;                      vector-effect: non-scaling-stroke;\" transform=\"translate(-5e-05, 0)\">0 1 2 3</text></g></g></g></g></g><g transform=\"matrix(1.0, 0.0, 0.0, 1.0, 8.0, 0.0)\"><g transform=\"matrix(1.0, 0.0, 0.0, 1.0, 3.975, 0.0)\"><g><g style=\"fill: #bfbf00;stroke: black;stroke-width: 0.0;\" transform=\"matrix(1.0, 0.0, 0.0, 1.0, -3.975, -0.45)\"><path d=\"M 0.0 0.0 L 7.95 0.0 L 7.95 0.9 L 0.0 0.9 L 0.0 0.0 Z\" style=\"vector-effect: non-scaling-stroke;\" /></g><g style=\"fill: #bfbf00;stroke: black;stroke-width: 0.9;\" transform=\"matrix(1.0, 0.0, 0.0, 1.0, 0.0, 0.1)\"><text style=\"text-align:center; text-anchor:middle; dominant-baseline:middle;&#10;                      font-family:sans-serif; font-weight: bold;&#10;                      font-size:0.9px;&#10;                      vector-effect: non-scaling-stroke;\" transform=\"translate(-5e-05, 0)\">0 1 2 3</text></g></g></g></g></g><g transform=\"matrix(1.0, 0.0, 0.0, 1.0, 16.0, 0.0)\"><g transform=\"matrix(1.0, 0.0, 0.0, 1.0, 3.975, 0.0)\"><g><g style=\"fill: #bfbf00;stroke: black;stroke-width: 0.0;fill-opacity: 0.2;\" transform=\"matrix(1.0, 0.0, 0.0, 1.0, -3.975, -0.45)\"><path d=\"M 0.0 0.0 L 7.95 0.0 L 7.95 0.9 L 0.0 0.9 L 0.0 0.0 Z\" style=\"vector-effect: non-scaling-stroke;\" /></g><g style=\"fill: #bfbf00;stroke: black;stroke-width: 0.9;fill-opacity: 0.2;\" transform=\"matrix(1.0, 0.0, 0.0, 1.0, 0.0, 0.1)\"><text style=\"text-align:center; text-anchor:middle; dominant-baseline:middle;&#10;                      font-family:sans-serif; font-weight: bold;&#10;                      font-size:0.9px;&#10;                      vector-effect: non-scaling-stroke;\" transform=\"translate(-5e-05, 0)\">0 1 2 3</text></g></g></g></g></g><g transform=\"matrix(1.0, 0.0, 0.0, 1.0, 24.0, 0.0)\"><g transform=\"matrix(1.0, 0.0, 0.0, 1.0, 3.975, 0.0)\"><g><g style=\"fill: #008000;stroke: black;stroke-width: 0.0;fill-opacity: 0.2;\" transform=\"matrix(1.0, 0.0, 0.0, 1.0, -3.975, -0.45)\"><path d=\"M 0.0 0.0 L 7.95 0.0 L 7.95 0.9 L 0.0 0.9 L 0.0 0.0 Z\" style=\"vector-effect: non-scaling-stroke;\" /></g><g style=\"fill: #008000;stroke: black;stroke-width: 0.9;fill-opacity: 0.2;\" transform=\"matrix(1.0, 0.0, 0.0, 1.0, 0.0, 0.1)\"><text style=\"text-align:center; text-anchor:middle; dominant-baseline:middle;&#10;                      font-family:sans-serif; font-weight: bold;&#10;                      font-size:0.9px;&#10;                      vector-effect: non-scaling-stroke;\" transform=\"translate(-5e-05, 0)\">0 1 2 3</text></g></g></g></g></g><g transform=\"matrix(1.0, 0.0, 0.0, 1.0, 32.0, 0.0)\"><g transform=\"matrix(1.0, 0.0, 0.0, 1.0, 0.475, 0.0)\"><g><g style=\"fill: #ffff00;stroke: black;stroke-width: 0.0;fill-opacity: 0.5;\" transform=\"matrix(1.0, 0.0, 0.0, 1.0, -0.475, -0.45)\"><path d=\"M 0.0 0.0 L 0.95 0.0 L 0.95 0.9 L 0.0 0.9 L 0.0 0.0 Z\" style=\"vector-effect: non-scaling-stroke;\" /></g><g style=\"fill: #ffff00;stroke: black;stroke-width: 0.9;fill-opacity: 0.5;\" transform=\"matrix(1.0, 0.0, 0.0, 1.0, 0.0, 0.1)\"><text style=\"text-align:center; text-anchor:middle; dominant-baseline:middle;&#10;                      font-family:sans-serif; font-weight: bold;&#10;                      font-size:0.9px;&#10;                      vector-effect: non-scaling-stroke;\" transform=\"translate(-5e-05, 0)\" /></g></g></g></g></g><g transform=\"matrix(1.0, 0.0, 0.0, 1.0, 33.0, 0.0)\"><g transform=\"matrix(1.0, 0.0, 0.0, 1.0, 0.475, 0.0)\"><g><g style=\"fill: #ffff00;stroke: black;stroke-width: 0.0;fill-opacity: 0.5;\" transform=\"matrix(1.0, 0.0, 0.0, 1.0, -0.475, -0.45)\"><path d=\"M 0.0 0.0 L 0.95 0.0 L 0.95 0.9 L 0.0 0.9 L 0.0 0.0 Z\" style=\"vector-effect: non-scaling-stroke;\" /></g><g style=\"fill: #ffff00;stroke: black;stroke-width: 0.9;fill-opacity: 0.5;\" transform=\"matrix(1.0, 0.0, 0.0, 1.0, 0.0, 0.1)\"><text style=\"text-align:center; text-anchor:middle; dominant-baseline:middle;&#10;                      font-family:sans-serif; font-weight: bold;&#10;                      font-size:0.9px;&#10;                      vector-effect: non-scaling-stroke;\" transform=\"translate(-5e-05, 0)\" /></g></g></g></g></g><g transform=\"matrix(1.0, 0.0, 0.0, 1.0, 0.0, 0.5)\"><g transform=\"matrix(0.0, -1.0, 1.0, 0.0, 0.0, 0.0)\"><g /></g></g></g><g transform=\"matrix(1.0, 0.0, 0.0, 1.0, 0.0, 1.5)\"><g><g><g transform=\"matrix(1.0, 0.0, 0.0, 1.0, -0.0, -0.0)\"><g><g transform=\"matrix(1.0, 0.0, 0.0, 1.0, -0.0, -0.0)\"><g><g transform=\"matrix(1.0, 0.0, 0.0, 1.0, -0.0, -0.0)\"><g><g transform=\"matrix(1.0, 0.0, 0.0, 1.0, -0.0, -0.0)\"><g><g transform=\"matrix(1.0, 0.0, 0.0, 1.0, -0.0, -0.0)\"><g><g transform=\"matrix(1.0, 0.0, 0.0, 1.0, -0.0, -0.0)\"><g><g transform=\"matrix(1.0, 0.0, 0.0, 1.0, -0.0, -0.5)\"><g><g style=\"fill: #ffffff;stroke: black;stroke-width: 1.8;\" transform=\"matrix(1.0, 0.0, 0.0, 1.0, 0.0, -0.5)\"><path d=\"M 0.0 0.0 L 35.0 0.0 L 35.0 1.0 L 0.0 1.0 L 0.0 0.0 Z\" style=\"vector-effect: non-scaling-stroke;\" /></g><g transform=\"matrix(1.0, 0.0, 0.0, 1.0, -2.0, 0.0)\"><g><g style=\"fill: #808080;stroke: black;stroke-width: 0.0;\" transform=\"matrix(1.0, 0.0, 0.0, 1.0, 0.0, 0.0)\"><text style=\"text-align:center; text-anchor:middle; dominant-baseline:middle;&#10;                      font-family:sans-serif; font-weight: bold;&#10;                      font-size:1px;&#10;                      vector-effect: non-scaling-stroke;\" transform=\"translate(-5e-05, 0)\">0</text></g><g /></g></g></g></g><g style=\"fill: #808080;stroke: black;stroke-width: 0.0;\" transform=\"matrix(1.0, 0.0, 0.0, 1.0, 0.0, -0.4)\"><path d=\"M 0.0 0.0 L 8.0 0.0 L 8.0 0.4 L 0.0 0.4 L 0.0 0.0 Z\" style=\"vector-effect: non-scaling-stroke;\" /></g></g></g><g style=\"fill: #808080;stroke: black;stroke-width: 0.0;\" transform=\"matrix(1.0, 0.0, 0.0, 1.0, 8.0, -0.5333333333333333)\"><path d=\"M 0.0 0.0 L 8.0 0.0 L 8.0 0.5333333333333333 L 0.0 0.5333333333333333 L 0.0 0.0 Z\" style=\"vector-effect: non-scaling-stroke;\" /></g></g></g><g style=\"fill: #808080;stroke: black;stroke-width: 0.0;\" transform=\"matrix(1.0, 0.0, 0.0, 1.0, 16.0, -0.6666666666666666)\"><path d=\"M 0.0 0.0 L 0.0 0.0 L 0.0 0.6666666666666666 L 0.0 0.6666666666666666 L 0.0 0.0 Z\" style=\"vector-effect: non-scaling-stroke;\" /></g></g></g><g style=\"fill: #808080;stroke: black;stroke-width: 0.0;\" transform=\"matrix(1.0, 0.0, 0.0, 1.0, 16.0, -0.6666666666666666)\"><path d=\"M 0.0 0.0 L 8.0 0.0 L 8.0 0.6666666666666666 L 0.0 0.6666666666666666 L 0.0 0.0 Z\" style=\"vector-effect: non-scaling-stroke;\" /></g></g></g><g style=\"fill: #808080;stroke: black;stroke-width: 0.0;\" transform=\"matrix(1.0, 0.0, 0.0, 1.0, 24.0, -0.6)\"><path d=\"M 0.0 0.0 L 8.0 0.0 L 8.0 0.6 L 0.0 0.6 L 0.0 0.0 Z\" style=\"vector-effect: non-scaling-stroke;\" /></g></g></g><g style=\"fill: #808080;stroke: black;stroke-width: 0.0;\" transform=\"matrix(1.0, 0.0, 0.0, 1.0, 32.0, -0.4)\"><path d=\"M 0.0 0.0 L 1.0 0.0 L 1.0 0.4 L 0.0 0.4 L 0.0 0.0 Z\" style=\"vector-effect: non-scaling-stroke;\" /></g></g></g><g style=\"fill: #808080;stroke: black;stroke-width: 0.0;\" transform=\"matrix(1.0, 0.0, 0.0, 1.0, 33.0, -0.3333333333333333)\"><path d=\"M 0.0 0.0 L 1.0 0.0 L 1.0 0.3333333333333333 L 0.0 0.3333333333333333 L 0.0 0.0 Z\" style=\"vector-effect: non-scaling-stroke;\" /></g></g><g style=\"stroke: #ff0000;stroke-width: 1.8;\" transform=\"matrix(1.0, 0.0, 0.0, 1.0, 15.95, -1.0)\"><path d=\"M 0.0 0.0 L 0.1 0.0 L 0.1 1.0 L 0.0 1.0 L 0.0 0.0 Z\" style=\"vector-effect: non-scaling-stroke;\" /></g></g></g></g></g></g></g></g><g /></g></g></g></g></svg>"
          },
          "metadata": {},
          "execution_count": 80
        }
      ],
      "source": [
        "draw([out])"
      ]
    },
    {
      "cell_type": "code",
      "execution_count": null,
      "id": "74e71f5a",
      "metadata": {
        "id": "74e71f5a",
        "colab": {
          "base_uri": "https://localhost:8080/",
          "height": 507
        },
        "outputId": "9aa84a0f-0070-4a07-fb41-6f636f869eb4"
      },
      "outputs": [
        {
          "output_type": "stream",
          "name": "stdout",
          "text": [
            "Correct!\n"
          ]
        },
        {
          "output_type": "execute_result",
          "data": {
            "text/plain": [
              "<IPython.core.display.HTML object>"
            ],
            "text/html": [
              "\n",
              "        <video alt=\"test\" controls autoplay=1>\n",
              "            <source src=\"https://openpuppies.com/mp4/Nu4RH7f.mp4\"  type=\"video/mp4\">\n",
              "        </video>\n",
              "        "
            ]
          },
          "metadata": {},
          "execution_count": 43
        }
      ],
      "source": [
        "Model.check([out])"
      ]
    },
    {
      "cell_type": "markdown",
      "id": "d25bbcaf",
      "metadata": {
        "id": "d25bbcaf"
      },
      "source": [
        "### Puzzle 1 - Gradient Accumulation\n",
        "\n",
        "For this puzzle, the goal is to reduce max memory usage. To do so you are going to run on each batch individually instead of all together.\n",
        "\n",
        "Write a function with four parts. First run on batches {0} and then {1} etc. Sum the grad weights and then update.\n",
        "\n",
        "* Target Time:  17 steps\n",
        "* Target Memory: 2000000"
      ]
    },
    {
      "cell_type": "code",
      "execution_count": 86,
      "id": "4c870ae6",
      "metadata": {
        "id": "4c870ae6"
      },
      "outputs": [],
      "source": [
        "def grad_accum(model: Model) -> Model:\n",
        "    # Storage on device.\n",
        "    weights, opt_states, activations, grad_activations, grad_weights = model.storage()\n",
        "\n",
        "    # Load in the full weights\n",
        "    for l in range(model.LAYERS):\n",
        "        weights[l], opt_states[l] = model.load_weights(l)\n",
        "\n",
        "    ### SOLUTION ###\n",
        "    for x in range(model.BATCHES):\n",
        "        activations[0] = model.get_activation((x,))\n",
        "        # Forward the model.\n",
        "        for l in range(model.LAYERS):\n",
        "            activations[l+1] = model.forward(layer=l, inp=activations[l], weight=weights[l])\n",
        "        # Compute loss.\n",
        "        grad_activations[model.LAYERS] = model.loss(activations[model.LAYERS])\n",
        "        del activations[model.LAYERS]\n",
        "        # Compute backward.\n",
        "        for l in range(model.LAYERS-1, -1, -1):\n",
        "            grad_weights_l, grad_activations[l] = model.backward(l, activations[l], grad_activations[l+1], weights[l])\n",
        "            if l in grad_weights:\n",
        "                grad_weights[l] += grad_weights_l\n",
        "            else:\n",
        "                grad_weights[l] = grad_weights_l\n",
        "            del activations[l]\n",
        "            del grad_activations[l+1]\n",
        "        del grad_activations[0]\n",
        "\n",
        "    # Update model weights.\n",
        "    for l in range(model.LAYERS):\n",
        "        weights[l], opt_states[l] = model.update(\n",
        "            l, weight_grad=grad_weights[l], weight=weights[l], opt_state=opt_states[l]\n",
        "        )\n",
        "        del grad_weights[l]\n",
        "    ### END ###\n",
        "\n",
        "    for l in range(model.LAYERS):\n",
        "        model.set_final_weight(l, weights[l])\n",
        "    return model"
      ]
    },
    {
      "cell_type": "code",
      "execution_count": 89,
      "id": "672563cf",
      "metadata": {
        "id": "672563cf",
        "colab": {
          "base_uri": "https://localhost:8080/",
          "height": 421
        },
        "outputId": "3bc7a4d3-6494-44ad-e140-05887d49277e"
      },
      "outputs": [
        {
          "output_type": "execute_result",
          "data": {
            "text/plain": [
              "Compose(envelope=<chalk.envelope.Envelope object at 0x7a2e894dd660>, diagram1=Compose(envelope=<chalk.envelope.Envelope object at 0x7a2e8949bbe0>, diagram1=Compose(envelope=<chalk.envelope.Envelope object at 0x7a2e894996f0>, diagram1=Compose(envelope=<chalk.envelope.Envelope object at 0x7a2e89498d00>, diagram1=Compose(envelope=<chalk.envelope.Envelope object at 0x7a2e89498bb0>, diagram1=Compose(envelope=<chalk.envelope.Envelope object at 0x7a2e89498580>, diagram1=Primitive(shape=Path(loc_trails=[Located(trail=Trail(segments=[Segment(offset=Vec2(1.5, 0.0), origin=Vec2(0.0, 0.0)), Segment(offset=Vec2(0.0, 1.05), origin=Vec2(0.0, 0.0)), Segment(offset=Vec2(-1.5, 0.0), origin=Vec2(0.0, 0.0)), Segment(offset=Vec2(0.0, -1.05), origin=Vec2(0.0, 0.0))], closed=True), location=Vec2(0.0, 0.0))]), style=Style(line_width_=(<WidthType.NORMALIZED: 2>, 0.2), line_color_=None, fill_color_=None, fill_opacity_=None, dashing_=None, output_size=None), transform=Affine(1.0, 0.0, -0.75,\n",
              "       0.0, 1.0, 0.0)), diagram2=Primitive(shape=Path(loc_trails=[Located(trail=Trail(segments=[Segment(offset=Vec2(3.0, 0.0), origin=Vec2(0.0, 0.0)), Segment(offset=Vec2(0.0, 0.0), origin=Vec2(0.0, 0.0)), Segment(offset=Vec2(-3.0, 0.0), origin=Vec2(0.0, 0.0)), Segment(offset=Vec2(0.0, 0.0), origin=Vec2(0.0, 0.0))], closed=True), location=Vec2(0.0, 0.0))]), style=Style(line_width_=(<WidthType.NORMALIZED: 2>, 0.2), line_color_=None, fill_color_=None, fill_opacity_=None, dashing_=None, output_size=None), transform=Affine(1.0, 0.0, -1.5,\n",
              "       0.0, 1.0, 0.0))), diagram2=ApplyTransform(transform=Affine(1.0, 0.0, 0.0,\n",
              "       0.0, 1.0, 1.05), diagram=ApplyTransform(transform=Affine(0.0, 1.0, 0.0,\n",
              "       -1.0, 0.0, 0.0), diagram=Empty()))), diagram2=ApplyTransform(transform=Affine(1.0, 0.0, 0.0,\n",
              "       0.0, 1.0, 2.05), diagram=Compose(envelope=<chalk.envelope.Envelope object at 0x7a2e89499f30>, diagram1=Primitive(shape=Path(loc_trails=[Located(trail=Trail(segments=[Segment(offset=Vec2(1.5, 0.0), origin=Vec2(0.0, 0.0)), Segment(offset=Vec2(0.0, 1.05), origin=Vec2(0.0, 0.0)), Segment(offset=Vec2(-1.5, 0.0), origin=Vec2(0.0, 0.0)), Segment(offset=Vec2(0.0, -1.05), origin=Vec2(0.0, 0.0))], closed=True), location=Vec2(0.0, 0.0))]), style=Style(line_width_=(<WidthType.NORMALIZED: 2>, 0.2), line_color_=None, fill_color_=None, fill_opacity_=None, dashing_=None, output_size=None), transform=Affine(1.0, 0.0, -0.75,\n",
              "       0.0, 1.0, 0.0)), diagram2=Primitive(shape=Path(loc_trails=[Located(trail=Trail(segments=[Segment(offset=Vec2(3.0, 0.0), origin=Vec2(0.0, 0.0)), Segment(offset=Vec2(0.0, 1.0), origin=Vec2(0.0, 0.0)), Segment(offset=Vec2(-3.0, 0.0), origin=Vec2(0.0, 0.0)), Segment(offset=Vec2(0.0, -1.0), origin=Vec2(0.0, 0.0))], closed=True), location=Vec2(0.0, 0.0))]), style=Style(line_width_=(<WidthType.NORMALIZED: 2>, 0.2), line_color_=None, fill_color_=None, fill_opacity_=None, dashing_=None, output_size=None), transform=Affine(1.0, 0.0, -1.5,\n",
              "       0.0, 1.0, -1.0))))), diagram2=ApplyTransform(transform=Affine(1.0, 0.0, 0.0,\n",
              "       0.0, 1.0, 3.0999999999999996), diagram=ApplyTransform(transform=Affine(0.0, 1.0, 0.0,\n",
              "       -1.0, 0.0, 0.0), diagram=Empty()))), diagram2=ApplyTransform(transform=Affine(1.0, 0.0, 0.0,\n",
              "       0.0, 1.0, 4.1), diagram=Compose(envelope=<chalk.envelope.Envelope object at 0x7a2e89473430>, diagram1=Primitive(shape=Path(loc_trails=[Located(trail=Trail(segments=[Segment(offset=Vec2(1.5, 0.0), origin=Vec2(0.0, 0.0)), Segment(offset=Vec2(0.0, 1.05), origin=Vec2(0.0, 0.0)), Segment(offset=Vec2(-1.5, 0.0), origin=Vec2(0.0, 0.0)), Segment(offset=Vec2(0.0, -1.05), origin=Vec2(0.0, 0.0))], closed=True), location=Vec2(0.0, 0.0))]), style=Style(line_width_=(<WidthType.NORMALIZED: 2>, 0.2), line_color_=None, fill_color_=None, fill_opacity_=None, dashing_=None, output_size=None), transform=Affine(1.0, 0.0, -0.75,\n",
              "       0.0, 1.0, 0.0)), diagram2=Primitive(shape=Path(loc_trails=[Located(trail=Trail(segments=[Segment(offset=Vec2(3.0, 0.0), origin=Vec2(0.0, 0.0)), Segment(offset=Vec2(0.0, 1.0), origin=Vec2(0.0, 0.0)), Segment(offset=Vec2(-3.0, 0.0), origin=Vec2(0.0, 0.0)), Segment(offset=Vec2(0.0, -1.0), origin=Vec2(0.0, 0.0))], closed=True), location=Vec2(0.0, 0.0))]), style=Style(line_width_=(<WidthType.NORMALIZED: 2>, 0.2), line_color_=None, fill_color_=None, fill_opacity_=None, dashing_=None, output_size=None), transform=Affine(1.0, 0.0, -1.5,\n",
              "       0.0, 1.0, -1.0))))), diagram2=Compose(envelope=<chalk.envelope.Envelope object at 0x7a2e894dcc70>, diagram1=Compose(envelope=<chalk.envelope.Envelope object at 0x7a2e8949bd00>, diagram1=Empty(), diagram2=Compose(envelope=<chalk.envelope.Envelope object at 0x7a2e894f4070>, diagram1=Compose(envelope=<chalk.envelope.Envelope object at 0x7a2e894ea950>, diagram1=Compose(envelope=<chalk.envelope.Envelope object at 0x7a2e894e8130>, diagram1=Compose(envelope=<chalk.envelope.Envelope object at 0x7a2e894ea620>, diagram1=Compose(envelope=<chalk.envelope.Envelope object at 0x7a2e894ea980>, diagram1=Compose(envelope=<chalk.envelope.Envelope object at 0x7a2e894e9780>, diagram1=Empty(), diagram2=Empty()), diagram2=Empty()), diagram2=ApplyTransform(transform=Affine(1.0, 0.0, 0.0,\n",
              "       0.0, 1.0, 1.05), diagram=ApplyTransform(transform=Affine(0.0, 1.0, 0.0,\n",
              "       -1.0, 0.0, 0.0), diagram=Empty()))), diagram2=ApplyTransform(transform=Affine(1.0, 0.0, 0.0,\n",
              "       0.0, 1.0, 2.05), diagram=Compose(envelope=<chalk.envelope.Envelope object at 0x7a2e894e8e20>, diagram1=Compose(envelope=<chalk.envelope.Envelope object at 0x7a2e894e8a00>, diagram1=Empty(), diagram2=Empty()), diagram2=Empty()))), diagram2=ApplyTransform(transform=Affine(1.0, 0.0, 0.0,\n",
              "       0.0, 1.0, 3.0999999999999996), diagram=ApplyTransform(transform=Affine(0.0, 1.0, 0.0,\n",
              "       -1.0, 0.0, 0.0), diagram=Empty()))), diagram2=ApplyTransform(transform=Affine(1.0, 0.0, 0.0,\n",
              "       0.0, 1.0, 4.1), diagram=Compose(envelope=<chalk.envelope.Envelope object at 0x7a2e894e8400>, diagram1=Compose(envelope=<chalk.envelope.Envelope object at 0x7a2e894e82e0>, diagram1=Empty(), diagram2=ApplyStyle(style=Style(line_width_=None, line_color_=None, fill_color_=<Color green>, fill_opacity_=None, dashing_=None, output_size=None), diagram=Compose(envelope=<chalk.envelope.Envelope object at 0x7a2e894d6500>, diagram1=Empty(), diagram2=Primitive(shape=Path(loc_trails=[Located(trail=Trail(segments=[Segment(offset=Vec2(3.0, 0.0), origin=Vec2(0.0, 0.0)), Segment(offset=Vec2(0.0, 1.0), origin=Vec2(0.0, 0.0)), Segment(offset=Vec2(-3.0, 0.0), origin=Vec2(0.0, 0.0)), Segment(offset=Vec2(0.0, -1.0), origin=Vec2(0.0, 0.0))], closed=True), location=Vec2(0.0, 0.0))]), style=Style(line_width_=(<WidthType.NORMALIZED: 2>, 0.01), line_color_=<Color white>, fill_color_=None, fill_opacity_=None, dashing_=None, output_size=None), transform=Affine(1.0, 0.0, -1.5,\n",
              "       0.0, 1.0, -1.0))))), diagram2=Empty())))), diagram2=Compose(envelope=<chalk.envelope.Envelope object at 0x7a2e892fee00>, diagram1=Compose(envelope=<chalk.envelope.Envelope object at 0x7a2e892fcc70>, diagram1=Compose(envelope=<chalk.envelope.Envelope object at 0x7a2e892fcd30>, diagram1=Compose(envelope=<chalk.envelope.Envelope object at 0x7a2e894f72e0>, diagram1=Compose(envelope=<chalk.envelope.Envelope object at 0x7a2e892fd570>, diagram1=Compose(envelope=<chalk.envelope.Envelope object at 0x7a2e892fd150>, diagram1=Empty(), diagram2=Empty()), diagram2=Empty()), diagram2=ApplyTransform(transform=Affine(1.0, 0.0, 0.0,\n",
              "       0.0, 1.0, 1.05), diagram=ApplyTransform(transform=Affine(0.0, 1.0, 0.0,\n",
              "       -1.0, 0.0, 0.0), diagram=Empty()))), diagram2=ApplyTransform(transform=Affine(1.0, 0.0, 0.0,\n",
              "       0.0, 1.0, 2.05), diagram=Compose(envelope=<chalk.envelope.Envelope object at 0x7a2e892fcb50>, diagram1=Compose(envelope=<chalk.envelope.Envelope object at 0x7a2e892fca30>, diagram1=Empty(), diagram2=ApplyStyle(style=Style(line_width_=None, line_color_=None, fill_color_=<Color #bfbf00>, fill_opacity_=None, dashing_=None, output_size=None), diagram=Compose(envelope=<chalk.envelope.Envelope object at 0x7a2e894f6c50>, diagram1=Empty(), diagram2=Primitive(shape=Path(loc_trails=[Located(trail=Trail(segments=[Segment(offset=Vec2(3.0, 0.0), origin=Vec2(0.0, 0.0)), Segment(offset=Vec2(0.0, 1.0), origin=Vec2(0.0, 0.0)), Segment(offset=Vec2(-3.0, 0.0), origin=Vec2(0.0, 0.0)), Segment(offset=Vec2(0.0, -1.0), origin=Vec2(0.0, 0.0))], closed=True), location=Vec2(0.0, 0.0))]), style=Style(line_width_=(<WidthType.NORMALIZED: 2>, 0.01), line_color_=<Color white>, fill_color_=None, fill_opacity_=None, dashing_=None, output_size=None), transform=Affine(1.0, 0.0, -1.5,\n",
              "       0.0, 1.0, -1.0))))), diagram2=Empty()))), diagram2=ApplyTransform(transform=Affine(1.0, 0.0, 0.0,\n",
              "       0.0, 1.0, 3.0999999999999996), diagram=ApplyTransform(transform=Affine(0.0, 1.0, 0.0,\n",
              "       -1.0, 0.0, 0.0), diagram=Empty()))), diagram2=ApplyTransform(transform=Affine(1.0, 0.0, 0.0,\n",
              "       0.0, 1.0, 4.1), diagram=Compose(envelope=<chalk.envelope.Envelope object at 0x7a2e894f50c0>, diagram1=Compose(envelope=<chalk.envelope.Envelope object at 0x7a2e894f4c10>, diagram1=Empty(), diagram2=Empty()), diagram2=Empty())))))"
            ],
            "image/svg+xml": "<?xml version=\"1.0\" encoding=\"utf-8\" ?>\n<svg baseProfile=\"full\" height=\"400\" version=\"1.1\" width=\"233\" xmlns=\"http://www.w3.org/2000/svg\" xmlns:ev=\"http://www.w3.org/2001/xml-events\" xmlns:xlink=\"http://www.w3.org/1999/xlink\"><defs><marker id=\"arrow\" markerHeight=\"3.5\" markerWidth=\"5\" orient=\"auto\" refX=\"5.0\" refY=\"1.7\"><polygon points=\"0,0 5,1.75 0,3.5\" /></marker></defs><g style=\"fill:white;\"><g transform=\"matrix(1.0, 0.0, 0.0, 1.0, 116.50000000000001, 199.99166666666667)\"><g transform=\"matrix(73.96825396825396, 0.0, 0.0, 73.96825396825396, 0.0, 0.0)\"><g><g transform=\"matrix(1.0, 0.0, 0.0, 1.0, -0.0, -2.5749999999999997)\"><g><g><g><g><g><g><g style=\"stroke: black;stroke-width: 3.6;\" transform=\"matrix(1.0, 0.0, 0.0, 1.0, -0.75, 0.0)\"><path d=\"M 0.0 0.0 L 1.5 0.0 L 1.5 1.05 L 0.0 1.05 L 0.0 0.0 Z\" style=\"vector-effect: non-scaling-stroke;\" /></g><g style=\"stroke: black;stroke-width: 3.6;\" transform=\"matrix(1.0, 0.0, 0.0, 1.0, -1.5, 0.0)\"><path d=\"M 0.0 0.0 L 3.0 0.0 L 3.0 0.0 L 0.0 0.0 L 0.0 0.0 Z\" style=\"vector-effect: non-scaling-stroke;\" /></g></g><g transform=\"matrix(1.0, 0.0, 0.0, 1.0, 0.0, 1.05)\"><g transform=\"matrix(0.0, -1.0, 1.0, 0.0, 0.0, 0.0)\"><g /></g></g></g><g transform=\"matrix(1.0, 0.0, 0.0, 1.0, 0.0, 2.05)\"><g><g style=\"stroke: black;stroke-width: 3.6;\" transform=\"matrix(1.0, 0.0, 0.0, 1.0, -0.75, 0.0)\"><path d=\"M 0.0 0.0 L 1.5 0.0 L 1.5 1.05 L 0.0 1.05 L 0.0 0.0 Z\" style=\"vector-effect: non-scaling-stroke;\" /></g><g style=\"stroke: black;stroke-width: 3.6;\" transform=\"matrix(1.0, 0.0, 0.0, 1.0, -1.5, -1.0)\"><path d=\"M 0.0 0.0 L 3.0 0.0 L 3.0 1.0 L 0.0 1.0 L 0.0 0.0 Z\" style=\"vector-effect: non-scaling-stroke;\" /></g></g></g></g><g transform=\"matrix(1.0, 0.0, 0.0, 1.0, 0.0, 3.0999999999999996)\"><g transform=\"matrix(0.0, -1.0, 1.0, 0.0, 0.0, 0.0)\"><g /></g></g></g><g transform=\"matrix(1.0, 0.0, 0.0, 1.0, 0.0, 4.1)\"><g><g style=\"stroke: black;stroke-width: 3.6;\" transform=\"matrix(1.0, 0.0, 0.0, 1.0, -0.75, 0.0)\"><path d=\"M 0.0 0.0 L 1.5 0.0 L 1.5 1.05 L 0.0 1.05 L 0.0 0.0 Z\" style=\"vector-effect: non-scaling-stroke;\" /></g><g style=\"stroke: black;stroke-width: 3.6;\" transform=\"matrix(1.0, 0.0, 0.0, 1.0, -1.5, -1.0)\"><path d=\"M 0.0 0.0 L 3.0 0.0 L 3.0 1.0 L 0.0 1.0 L 0.0 0.0 Z\" style=\"vector-effect: non-scaling-stroke;\" /></g></g></g></g><g><g><g /><g><g><g><g><g><g><g /><g /></g><g /></g><g transform=\"matrix(1.0, 0.0, 0.0, 1.0, 0.0, 1.05)\"><g transform=\"matrix(0.0, -1.0, 1.0, 0.0, 0.0, 0.0)\"><g /></g></g></g><g transform=\"matrix(1.0, 0.0, 0.0, 1.0, 0.0, 2.05)\"><g><g><g /><g /></g><g /></g></g></g><g transform=\"matrix(1.0, 0.0, 0.0, 1.0, 0.0, 3.0999999999999996)\"><g transform=\"matrix(0.0, -1.0, 1.0, 0.0, 0.0, 0.0)\"><g /></g></g></g><g transform=\"matrix(1.0, 0.0, 0.0, 1.0, 0.0, 4.1)\"><g><g><g /><g><g /><g style=\"fill: #008000;stroke: #ffffff;stroke-width: 0.18;\" transform=\"matrix(1.0, 0.0, 0.0, 1.0, -1.5, -1.0)\"><path d=\"M 0.0 0.0 L 3.0 0.0 L 3.0 1.0 L 0.0 1.0 L 0.0 0.0 Z\" style=\"vector-effect: non-scaling-stroke;\" /></g></g></g><g /></g></g></g></g><g><g><g><g><g><g><g /><g /></g><g /></g><g transform=\"matrix(1.0, 0.0, 0.0, 1.0, 0.0, 1.05)\"><g transform=\"matrix(0.0, -1.0, 1.0, 0.0, 0.0, 0.0)\"><g /></g></g></g><g transform=\"matrix(1.0, 0.0, 0.0, 1.0, 0.0, 2.05)\"><g><g><g /><g><g /><g style=\"fill: #bfbf00;stroke: #ffffff;stroke-width: 0.18;\" transform=\"matrix(1.0, 0.0, 0.0, 1.0, -1.5, -1.0)\"><path d=\"M 0.0 0.0 L 3.0 0.0 L 3.0 1.0 L 0.0 1.0 L 0.0 0.0 Z\" style=\"vector-effect: non-scaling-stroke;\" /></g></g></g><g /></g></g></g><g transform=\"matrix(1.0, 0.0, 0.0, 1.0, 0.0, 3.0999999999999996)\"><g transform=\"matrix(0.0, -1.0, 1.0, 0.0, 0.0, 0.0)\"><g /></g></g></g><g transform=\"matrix(1.0, 0.0, 0.0, 1.0, 0.0, 4.1)\"><g><g><g /><g /></g><g /></g></g></g></g></g></g><g /></g></g></g></g></svg>"
          },
          "metadata": {},
          "execution_count": 89
        }
      ],
      "source": [
        "out = grad_accum(Model(layers=2, batches=4, rank=0, dist=Dist(1)))\n",
        "draw_group(out.final_weights)"
      ]
    },
    {
      "cell_type": "code",
      "execution_count": 90,
      "id": "77bb31d7",
      "metadata": {
        "id": "77bb31d7",
        "colab": {
          "base_uri": "https://localhost:8080/",
          "height": 457
        },
        "outputId": "66fba979-2ca4-43c5-8538-02c1a1b3fe5e"
      },
      "outputs": [
        {
          "output_type": "stream",
          "name": "stdout",
          "text": [
            "Timesteps: 16.5 \n",
            "Maximum Memory: 1966080.0 at GPU: 0 time: 6\n"
          ]
        },
        {
          "output_type": "execute_result",
          "data": {
            "text/plain": [
              "Compose(envelope=<chalk.envelope.Envelope object at 0x7a2e8939a710>, diagram1=Primitive(shape=Path(loc_trails=[Located(trail=Trail(segments=[Segment(offset=Vec2(1.5, 0.0), origin=Vec2(0.0, 0.0)), Segment(offset=Vec2(0.0, 8.0), origin=Vec2(0.0, 0.0)), Segment(offset=Vec2(-1.5, 0.0), origin=Vec2(0.0, 0.0)), Segment(offset=Vec2(0.0, -8.0), origin=Vec2(0.0, 0.0))], closed=True), location=Vec2(0.0, 0.0))]), style=Style(line_width_=(<WidthType.NORMALIZED: 2>, 0), line_color_=None, fill_color_=None, fill_opacity_=None, dashing_=None, output_size=None), transform=Affine(1.0, 0.0, -0.75,\n",
              "       0.0, 1.0, -4.0)), diagram2=ApplyTransform(transform=Affine(1.0, 0.0, -8.0,\n",
              "       0.0, 1.0, -0.25), diagram=ApplyTransform(transform=Affine(0.5, 0.0, 0.0,\n",
              "       0.0, 0.5, 0.0), diagram=Compose(envelope=<chalk.envelope.Envelope object at 0x7a2e893993c0>, diagram1=Compose(envelope=<chalk.envelope.Envelope object at 0x7a2e89399060>, diagram1=Compose(envelope=<chalk.envelope.Envelope object at 0x7a2e89345e40>, diagram1=Compose(envelope=<chalk.envelope.Envelope object at 0x7a2e893445e0>, diagram1=Compose(envelope=<chalk.envelope.Envelope object at 0x7a2e89336d40>, diagram1=Compose(envelope=<chalk.envelope.Envelope object at 0x7a2e89335540>, diagram1=Compose(envelope=<chalk.envelope.Envelope object at 0x7a2e89333ca0>, diagram1=Compose(envelope=<chalk.envelope.Envelope object at 0x7a2e89332530>, diagram1=Compose(envelope=<chalk.envelope.Envelope object at 0x7a2e89330e20>, diagram1=Compose(envelope=<chalk.envelope.Envelope object at 0x7a2e893275e0>, diagram1=Compose(envelope=<chalk.envelope.Envelope object at 0x7a2e89325d80>, diagram1=Compose(envelope=<chalk.envelope.Envelope object at 0x7a2e89324610>, diagram1=Compose(envelope=<chalk.envelope.Envelope object at 0x7a2e89316ec0>, diagram1=Compose(envelope=<chalk.envelope.Envelope object at 0x7a2e893156c0>, diagram1=Compose(envelope=<chalk.envelope.Envelope object at 0x7a2e8930be20>, diagram1=Compose(envelope=<chalk.envelope.Envelope object at 0x7a2e8930a6b0>, diagram1=Compose(envelope=<chalk.envelope.Envelope object at 0x7a2e89308fa0>, diagram1=Compose(envelope=<chalk.envelope.Envelope object at 0x7a2e892ff760>, diagram1=Compose(envelope=<chalk.envelope.Envelope object at 0x7a2e894d5120>, diagram1=Compose(envelope=<chalk.envelope.Envelope object at 0x7a2e8955e0b0>, diagram1=Compose(envelope=<chalk.envelope.Envelope object at 0x7a2e894dc850>, diagram1=Empty(), diagram2=Compose(envelope=<chalk.envelope.Envelope object at 0x7a2e894dfc70>, diagram1=Primitive(shape=Path(loc_trails=[Located(trail=Trail(segments=[Segment(offset=Vec2(35.0, 0.0), origin=Vec2(0.0, 0.0)), Segment(offset=Vec2(0.0, 1.0), origin=Vec2(0.0, 0.0)), Segment(offset=Vec2(-35.0, 0.0), origin=Vec2(0.0, 0.0)), Segment(offset=Vec2(0.0, -1.0), origin=Vec2(0.0, 0.0))], closed=True), location=Vec2(0.0, 0.0))]), style=Style(line_width_=None, line_color_=None, fill_color_=<Color LightGray>, fill_opacity_=None, dashing_=None, output_size=None), transform=Affine(1.0, 0.0, 0.0,\n",
              "       0.0, 1.0, -0.5)), diagram2=ApplyStyle(style=Style(line_width_=None, line_color_=None, fill_color_=<Color orange>, fill_opacity_=None, dashing_=None, output_size=None), diagram=ApplyTransform(transform=Affine(1.0, 0.0, -2.0,\n",
              "       0.0, 1.0, 0.0), diagram=Compose(envelope=<chalk.envelope.Envelope object at 0x7a2e894dc5e0>, diagram1=Primitive(shape=Text(text='0', font_size=1), style=Style(line_width_=(<WidthType.NORMALIZED: 2>, 0), line_color_=None, fill_color_=None, fill_opacity_=None, dashing_=None, output_size=None), transform=Affine(1.0, 0.0, 0.0,\n",
              "       0.0, 1.0, 0.0)), diagram2=Empty()))))), diagram2=ApplyStyle(style=Style(line_width_=None, line_color_=None, fill_color_=<Color green>, fill_opacity_=None, dashing_=None, output_size=None), diagram=ApplyTransform(transform=Affine(1.0, 0.0, 0.0,\n",
              "       0.0, 1.0, 0.0), diagram=ApplyTransform(transform=Affine(1.0, 0.0, 0.975,\n",
              "       0.0, 1.0, 0.0), diagram=Compose(envelope=<chalk.envelope.Envelope object at 0x7a2e894dd3c0>, diagram1=Primitive(shape=Path(loc_trails=[Located(trail=Trail(segments=[Segment(offset=Vec2(1.95, 0.0), origin=Vec2(0.0, 0.0)), Segment(offset=Vec2(0.0, 0.9), origin=Vec2(0.0, 0.0)), Segment(offset=Vec2(-1.95, 0.0), origin=Vec2(0.0, 0.0)), Segment(offset=Vec2(0.0, -0.9), origin=Vec2(0.0, 0.0))], closed=True), location=Vec2(0.0, 0.0))]), style=Style(line_width_=(<WidthType.NORMALIZED: 2>, 0), line_color_=None, fill_color_=None, fill_opacity_=None, dashing_=None, output_size=None), transform=Affine(1.0, 0.0, -0.975,\n",
              "       0.0, 1.0, -0.45)), diagram2=Primitive(shape=Text(text='0', font_size=0.9), style=Style(line_width_=(<WidthType.NORMALIZED: 2>, 0.05), line_color_=None, fill_color_=<Color black>, fill_opacity_=None, dashing_=None, output_size=None), transform=Affine(1.0, 0.0, 0.0,\n",
              "       0.0, 1.0, 0.1))))))), diagram2=ApplyStyle(style=Style(line_width_=None, line_color_=None, fill_color_=<Color #bfbf00>, fill_opacity_=None, dashing_=None, output_size=None), diagram=ApplyTransform(transform=Affine(1.0, 0.0, 2.0,\n",
              "       0.0, 1.0, 0.0), diagram=ApplyTransform(transform=Affine(1.0, 0.0, 0.975,\n",
              "       0.0, 1.0, 0.0), diagram=Compose(envelope=<chalk.envelope.Envelope object at 0x7a2e894d50c0>, diagram1=Primitive(shape=Path(loc_trails=[Located(trail=Trail(segments=[Segment(offset=Vec2(1.95, 0.0), origin=Vec2(0.0, 0.0)), Segment(offset=Vec2(0.0, 0.9), origin=Vec2(0.0, 0.0)), Segment(offset=Vec2(-1.95, 0.0), origin=Vec2(0.0, 0.0)), Segment(offset=Vec2(0.0, -0.9), origin=Vec2(0.0, 0.0))], closed=True), location=Vec2(0.0, 0.0))]), style=Style(line_width_=(<WidthType.NORMALIZED: 2>, 0), line_color_=None, fill_color_=None, fill_opacity_=None, dashing_=None, output_size=None), transform=Affine(1.0, 0.0, -0.975,\n",
              "       0.0, 1.0, -0.45)), diagram2=Primitive(shape=Text(text='0', font_size=0.9), style=Style(line_width_=(<WidthType.NORMALIZED: 2>, 0.05), line_color_=None, fill_color_=<Color black>, fill_opacity_=None, dashing_=None, output_size=None), transform=Affine(1.0, 0.0, 0.0,\n",
              "       0.0, 1.0, 0.1))))))), diagram2=ApplyStyle(style=Style(line_width_=None, line_color_=None, fill_color_=None, fill_opacity_=0.2, dashing_=None, output_size=None), diagram=ApplyStyle(style=Style(line_width_=None, line_color_=None, fill_color_=<Color #bfbf00>, fill_opacity_=None, dashing_=None, output_size=None), diagram=ApplyTransform(transform=Affine(1.0, 0.0, 4.0,\n",
              "       0.0, 1.0, 0.0), diagram=ApplyTransform(transform=Affine(1.0, 0.0, 0.975,\n",
              "       0.0, 1.0, 0.0), diagram=Compose(envelope=<chalk.envelope.Envelope object at 0x7a2e892ff1f0>, diagram1=Primitive(shape=Path(loc_trails=[Located(trail=Trail(segments=[Segment(offset=Vec2(1.95, 0.0), origin=Vec2(0.0, 0.0)), Segment(offset=Vec2(0.0, 0.9), origin=Vec2(0.0, 0.0)), Segment(offset=Vec2(-1.95, 0.0), origin=Vec2(0.0, 0.0)), Segment(offset=Vec2(0.0, -0.9), origin=Vec2(0.0, 0.0))], closed=True), location=Vec2(0.0, 0.0))]), style=Style(line_width_=(<WidthType.NORMALIZED: 2>, 0), line_color_=None, fill_color_=None, fill_opacity_=None, dashing_=None, output_size=None), transform=Affine(1.0, 0.0, -0.975,\n",
              "       0.0, 1.0, -0.45)), diagram2=Primitive(shape=Text(text='0', font_size=0.9), style=Style(line_width_=(<WidthType.NORMALIZED: 2>, 0.05), line_color_=None, fill_color_=<Color black>, fill_opacity_=None, dashing_=None, output_size=None), transform=Affine(1.0, 0.0, 0.0,\n",
              "       0.0, 1.0, 0.1)))))))), diagram2=ApplyStyle(style=Style(line_width_=None, line_color_=None, fill_color_=None, fill_opacity_=0.2, dashing_=None, output_size=None), diagram=ApplyStyle(style=Style(line_width_=None, line_color_=None, fill_color_=<Color green>, fill_opacity_=None, dashing_=None, output_size=None), diagram=ApplyTransform(transform=Affine(1.0, 0.0, 6.0,\n",
              "       0.0, 1.0, 0.0), diagram=ApplyTransform(transform=Affine(1.0, 0.0, 0.975,\n",
              "       0.0, 1.0, 0.0), diagram=Compose(envelope=<chalk.envelope.Envelope object at 0x7a2e89308970>, diagram1=Primitive(shape=Path(loc_trails=[Located(trail=Trail(segments=[Segment(offset=Vec2(1.95, 0.0), origin=Vec2(0.0, 0.0)), Segment(offset=Vec2(0.0, 0.9), origin=Vec2(0.0, 0.0)), Segment(offset=Vec2(-1.95, 0.0), origin=Vec2(0.0, 0.0)), Segment(offset=Vec2(0.0, -0.9), origin=Vec2(0.0, 0.0))], closed=True), location=Vec2(0.0, 0.0))]), style=Style(line_width_=(<WidthType.NORMALIZED: 2>, 0), line_color_=None, fill_color_=None, fill_opacity_=None, dashing_=None, output_size=None), transform=Affine(1.0, 0.0, -0.975,\n",
              "       0.0, 1.0, -0.45)), diagram2=Primitive(shape=Text(text='0', font_size=0.9), style=Style(line_width_=(<WidthType.NORMALIZED: 2>, 0.05), line_color_=None, fill_color_=<Color black>, fill_opacity_=None, dashing_=None, output_size=None), transform=Affine(1.0, 0.0, 0.0,\n",
              "       0.0, 1.0, 0.1)))))))), diagram2=ApplyStyle(style=Style(line_width_=None, line_color_=None, fill_color_=<Color green>, fill_opacity_=None, dashing_=None, output_size=None), diagram=ApplyTransform(transform=Affine(1.0, 0.0, 8.0,\n",
              "       0.0, 1.0, 0.0), diagram=ApplyTransform(transform=Affine(1.0, 0.0, 0.975,\n",
              "       0.0, 1.0, 0.0), diagram=Compose(envelope=<chalk.envelope.Envelope object at 0x7a2e8930a170>, diagram1=Primitive(shape=Path(loc_trails=[Located(trail=Trail(segments=[Segment(offset=Vec2(1.95, 0.0), origin=Vec2(0.0, 0.0)), Segment(offset=Vec2(0.0, 0.9), origin=Vec2(0.0, 0.0)), Segment(offset=Vec2(-1.95, 0.0), origin=Vec2(0.0, 0.0)), Segment(offset=Vec2(0.0, -0.9), origin=Vec2(0.0, 0.0))], closed=True), location=Vec2(0.0, 0.0))]), style=Style(line_width_=(<WidthType.NORMALIZED: 2>, 0), line_color_=None, fill_color_=None, fill_opacity_=None, dashing_=None, output_size=None), transform=Affine(1.0, 0.0, -0.975,\n",
              "       0.0, 1.0, -0.45)), diagram2=Primitive(shape=Text(text='1', font_size=0.9), style=Style(line_width_=(<WidthType.NORMALIZED: 2>, 0.05), line_color_=None, fill_color_=<Color black>, fill_opacity_=None, dashing_=None, output_size=None), transform=Affine(1.0, 0.0, 0.0,\n",
              "       0.0, 1.0, 0.1))))))), diagram2=ApplyStyle(style=Style(line_width_=None, line_color_=None, fill_color_=<Color #bfbf00>, fill_opacity_=None, dashing_=None, output_size=None), diagram=ApplyTransform(transform=Affine(1.0, 0.0, 10.0,\n",
              "       0.0, 1.0, 0.0), diagram=ApplyTransform(transform=Affine(1.0, 0.0, 0.975,\n",
              "       0.0, 1.0, 0.0), diagram=Compose(envelope=<chalk.envelope.Envelope object at 0x7a2e8930b8b0>, diagram1=Primitive(shape=Path(loc_trails=[Located(trail=Trail(segments=[Segment(offset=Vec2(1.95, 0.0), origin=Vec2(0.0, 0.0)), Segment(offset=Vec2(0.0, 0.9), origin=Vec2(0.0, 0.0)), Segment(offset=Vec2(-1.95, 0.0), origin=Vec2(0.0, 0.0)), Segment(offset=Vec2(0.0, -0.9), origin=Vec2(0.0, 0.0))], closed=True), location=Vec2(0.0, 0.0))]), style=Style(line_width_=(<WidthType.NORMALIZED: 2>, 0), line_color_=None, fill_color_=None, fill_opacity_=None, dashing_=None, output_size=None), transform=Affine(1.0, 0.0, -0.975,\n",
              "       0.0, 1.0, -0.45)), diagram2=Primitive(shape=Text(text='1', font_size=0.9), style=Style(line_width_=(<WidthType.NORMALIZED: 2>, 0.05), line_color_=None, fill_color_=<Color black>, fill_opacity_=None, dashing_=None, output_size=None), transform=Affine(1.0, 0.0, 0.0,\n",
              "       0.0, 1.0, 0.1))))))), diagram2=ApplyStyle(style=Style(line_width_=None, line_color_=None, fill_color_=None, fill_opacity_=0.2, dashing_=None, output_size=None), diagram=ApplyStyle(style=Style(line_width_=None, line_color_=None, fill_color_=<Color #bfbf00>, fill_opacity_=None, dashing_=None, output_size=None), diagram=ApplyTransform(transform=Affine(1.0, 0.0, 12.0,\n",
              "       0.0, 1.0, 0.0), diagram=ApplyTransform(transform=Affine(1.0, 0.0, 0.975,\n",
              "       0.0, 1.0, 0.0), diagram=Compose(envelope=<chalk.envelope.Envelope object at 0x7a2e89315060>, diagram1=Primitive(shape=Path(loc_trails=[Located(trail=Trail(segments=[Segment(offset=Vec2(1.95, 0.0), origin=Vec2(0.0, 0.0)), Segment(offset=Vec2(0.0, 0.9), origin=Vec2(0.0, 0.0)), Segment(offset=Vec2(-1.95, 0.0), origin=Vec2(0.0, 0.0)), Segment(offset=Vec2(0.0, -0.9), origin=Vec2(0.0, 0.0))], closed=True), location=Vec2(0.0, 0.0))]), style=Style(line_width_=(<WidthType.NORMALIZED: 2>, 0), line_color_=None, fill_color_=None, fill_opacity_=None, dashing_=None, output_size=None), transform=Affine(1.0, 0.0, -0.975,\n",
              "       0.0, 1.0, -0.45)), diagram2=Primitive(shape=Text(text='1', font_size=0.9), style=Style(line_width_=(<WidthType.NORMALIZED: 2>, 0.05), line_color_=None, fill_color_=<Color black>, fill_opacity_=None, dashing_=None, output_size=None), transform=Affine(1.0, 0.0, 0.0,\n",
              "       0.0, 1.0, 0.1)))))))), diagram2=ApplyStyle(style=Style(line_width_=None, line_color_=None, fill_color_=None, fill_opacity_=0.2, dashing_=None, output_size=None), diagram=ApplyStyle(style=Style(line_width_=None, line_color_=None, fill_color_=<Color green>, fill_opacity_=None, dashing_=None, output_size=None), diagram=ApplyTransform(transform=Affine(1.0, 0.0, 14.0,\n",
              "       0.0, 1.0, 0.0), diagram=ApplyTransform(transform=Affine(1.0, 0.0, 0.975,\n",
              "       0.0, 1.0, 0.0), diagram=Compose(envelope=<chalk.envelope.Envelope object at 0x7a2e89316890>, diagram1=Primitive(shape=Path(loc_trails=[Located(trail=Trail(segments=[Segment(offset=Vec2(1.95, 0.0), origin=Vec2(0.0, 0.0)), Segment(offset=Vec2(0.0, 0.9), origin=Vec2(0.0, 0.0)), Segment(offset=Vec2(-1.95, 0.0), origin=Vec2(0.0, 0.0)), Segment(offset=Vec2(0.0, -0.9), origin=Vec2(0.0, 0.0))], closed=True), location=Vec2(0.0, 0.0))]), style=Style(line_width_=(<WidthType.NORMALIZED: 2>, 0), line_color_=None, fill_color_=None, fill_opacity_=None, dashing_=None, output_size=None), transform=Affine(1.0, 0.0, -0.975,\n",
              "       0.0, 1.0, -0.45)), diagram2=Primitive(shape=Text(text='1', font_size=0.9), style=Style(line_width_=(<WidthType.NORMALIZED: 2>, 0.05), line_color_=None, fill_color_=<Color black>, fill_opacity_=None, dashing_=None, output_size=None), transform=Affine(1.0, 0.0, 0.0,\n",
              "       0.0, 1.0, 0.1)))))))), diagram2=ApplyStyle(style=Style(line_width_=None, line_color_=None, fill_color_=<Color green>, fill_opacity_=None, dashing_=None, output_size=None), diagram=ApplyTransform(transform=Affine(1.0, 0.0, 16.0,\n",
              "       0.0, 1.0, 0.0), diagram=ApplyTransform(transform=Affine(1.0, 0.0, 0.975,\n",
              "       0.0, 1.0, 0.0), diagram=Compose(envelope=<chalk.envelope.Envelope object at 0x7a2e893240d0>, diagram1=Primitive(shape=Path(loc_trails=[Located(trail=Trail(segments=[Segment(offset=Vec2(1.95, 0.0), origin=Vec2(0.0, 0.0)), Segment(offset=Vec2(0.0, 0.9), origin=Vec2(0.0, 0.0)), Segment(offset=Vec2(-1.95, 0.0), origin=Vec2(0.0, 0.0)), Segment(offset=Vec2(0.0, -0.9), origin=Vec2(0.0, 0.0))], closed=True), location=Vec2(0.0, 0.0))]), style=Style(line_width_=(<WidthType.NORMALIZED: 2>, 0), line_color_=None, fill_color_=None, fill_opacity_=None, dashing_=None, output_size=None), transform=Affine(1.0, 0.0, -0.975,\n",
              "       0.0, 1.0, -0.45)), diagram2=Primitive(shape=Text(text='2', font_size=0.9), style=Style(line_width_=(<WidthType.NORMALIZED: 2>, 0.05), line_color_=None, fill_color_=<Color black>, fill_opacity_=None, dashing_=None, output_size=None), transform=Affine(1.0, 0.0, 0.0,\n",
              "       0.0, 1.0, 0.1))))))), diagram2=ApplyStyle(style=Style(line_width_=None, line_color_=None, fill_color_=<Color #bfbf00>, fill_opacity_=None, dashing_=None, output_size=None), diagram=ApplyTransform(transform=Affine(1.0, 0.0, 18.0,\n",
              "       0.0, 1.0, 0.0), diagram=ApplyTransform(transform=Affine(1.0, 0.0, 0.975,\n",
              "       0.0, 1.0, 0.0), diagram=Compose(envelope=<chalk.envelope.Envelope object at 0x7a2e89325810>, diagram1=Primitive(shape=Path(loc_trails=[Located(trail=Trail(segments=[Segment(offset=Vec2(1.95, 0.0), origin=Vec2(0.0, 0.0)), Segment(offset=Vec2(0.0, 0.9), origin=Vec2(0.0, 0.0)), Segment(offset=Vec2(-1.95, 0.0), origin=Vec2(0.0, 0.0)), Segment(offset=Vec2(0.0, -0.9), origin=Vec2(0.0, 0.0))], closed=True), location=Vec2(0.0, 0.0))]), style=Style(line_width_=(<WidthType.NORMALIZED: 2>, 0), line_color_=None, fill_color_=None, fill_opacity_=None, dashing_=None, output_size=None), transform=Affine(1.0, 0.0, -0.975,\n",
              "       0.0, 1.0, -0.45)), diagram2=Primitive(shape=Text(text='2', font_size=0.9), style=Style(line_width_=(<WidthType.NORMALIZED: 2>, 0.05), line_color_=None, fill_color_=<Color black>, fill_opacity_=None, dashing_=None, output_size=None), transform=Affine(1.0, 0.0, 0.0,\n",
              "       0.0, 1.0, 0.1))))))), diagram2=ApplyStyle(style=Style(line_width_=None, line_color_=None, fill_color_=None, fill_opacity_=0.2, dashing_=None, output_size=None), diagram=ApplyStyle(style=Style(line_width_=None, line_color_=None, fill_color_=<Color #bfbf00>, fill_opacity_=None, dashing_=None, output_size=None), diagram=ApplyTransform(transform=Affine(1.0, 0.0, 20.0,\n",
              "       0.0, 1.0, 0.0), diagram=ApplyTransform(transform=Affine(1.0, 0.0, 0.975,\n",
              "       0.0, 1.0, 0.0), diagram=Compose(envelope=<chalk.envelope.Envelope object at 0x7a2e89326f80>, diagram1=Primitive(shape=Path(loc_trails=[Located(trail=Trail(segments=[Segment(offset=Vec2(1.95, 0.0), origin=Vec2(0.0, 0.0)), Segment(offset=Vec2(0.0, 0.9), origin=Vec2(0.0, 0.0)), Segment(offset=Vec2(-1.95, 0.0), origin=Vec2(0.0, 0.0)), Segment(offset=Vec2(0.0, -0.9), origin=Vec2(0.0, 0.0))], closed=True), location=Vec2(0.0, 0.0))]), style=Style(line_width_=(<WidthType.NORMALIZED: 2>, 0), line_color_=None, fill_color_=None, fill_opacity_=None, dashing_=None, output_size=None), transform=Affine(1.0, 0.0, -0.975,\n",
              "       0.0, 1.0, -0.45)), diagram2=Primitive(shape=Text(text='2', font_size=0.9), style=Style(line_width_=(<WidthType.NORMALIZED: 2>, 0.05), line_color_=None, fill_color_=<Color black>, fill_opacity_=None, dashing_=None, output_size=None), transform=Affine(1.0, 0.0, 0.0,\n",
              "       0.0, 1.0, 0.1)))))))), diagram2=ApplyStyle(style=Style(line_width_=None, line_color_=None, fill_color_=None, fill_opacity_=0.2, dashing_=None, output_size=None), diagram=ApplyStyle(style=Style(line_width_=None, line_color_=None, fill_color_=<Color green>, fill_opacity_=None, dashing_=None, output_size=None), diagram=ApplyTransform(transform=Affine(1.0, 0.0, 22.0,\n",
              "       0.0, 1.0, 0.0), diagram=ApplyTransform(transform=Affine(1.0, 0.0, 0.975,\n",
              "       0.0, 1.0, 0.0), diagram=Compose(envelope=<chalk.envelope.Envelope object at 0x7a2e893307f0>, diagram1=Primitive(shape=Path(loc_trails=[Located(trail=Trail(segments=[Segment(offset=Vec2(1.95, 0.0), origin=Vec2(0.0, 0.0)), Segment(offset=Vec2(0.0, 0.9), origin=Vec2(0.0, 0.0)), Segment(offset=Vec2(-1.95, 0.0), origin=Vec2(0.0, 0.0)), Segment(offset=Vec2(0.0, -0.9), origin=Vec2(0.0, 0.0))], closed=True), location=Vec2(0.0, 0.0))]), style=Style(line_width_=(<WidthType.NORMALIZED: 2>, 0), line_color_=None, fill_color_=None, fill_opacity_=None, dashing_=None, output_size=None), transform=Affine(1.0, 0.0, -0.975,\n",
              "       0.0, 1.0, -0.45)), diagram2=Primitive(shape=Text(text='2', font_size=0.9), style=Style(line_width_=(<WidthType.NORMALIZED: 2>, 0.05), line_color_=None, fill_color_=<Color black>, fill_opacity_=None, dashing_=None, output_size=None), transform=Affine(1.0, 0.0, 0.0,\n",
              "       0.0, 1.0, 0.1)))))))), diagram2=ApplyStyle(style=Style(line_width_=None, line_color_=None, fill_color_=<Color green>, fill_opacity_=None, dashing_=None, output_size=None), diagram=ApplyTransform(transform=Affine(1.0, 0.0, 24.0,\n",
              "       0.0, 1.0, 0.0), diagram=ApplyTransform(transform=Affine(1.0, 0.0, 0.975,\n",
              "       0.0, 1.0, 0.0), diagram=Compose(envelope=<chalk.envelope.Envelope object at 0x7a2e89331ff0>, diagram1=Primitive(shape=Path(loc_trails=[Located(trail=Trail(segments=[Segment(offset=Vec2(1.95, 0.0), origin=Vec2(0.0, 0.0)), Segment(offset=Vec2(0.0, 0.9), origin=Vec2(0.0, 0.0)), Segment(offset=Vec2(-1.95, 0.0), origin=Vec2(0.0, 0.0)), Segment(offset=Vec2(0.0, -0.9), origin=Vec2(0.0, 0.0))], closed=True), location=Vec2(0.0, 0.0))]), style=Style(line_width_=(<WidthType.NORMALIZED: 2>, 0), line_color_=None, fill_color_=None, fill_opacity_=None, dashing_=None, output_size=None), transform=Affine(1.0, 0.0, -0.975,\n",
              "       0.0, 1.0, -0.45)), diagram2=Primitive(shape=Text(text='3', font_size=0.9), style=Style(line_width_=(<WidthType.NORMALIZED: 2>, 0.05), line_color_=None, fill_color_=<Color black>, fill_opacity_=None, dashing_=None, output_size=None), transform=Affine(1.0, 0.0, 0.0,\n",
              "       0.0, 1.0, 0.1))))))), diagram2=ApplyStyle(style=Style(line_width_=None, line_color_=None, fill_color_=<Color #bfbf00>, fill_opacity_=None, dashing_=None, output_size=None), diagram=ApplyTransform(transform=Affine(1.0, 0.0, 26.0,\n",
              "       0.0, 1.0, 0.0), diagram=ApplyTransform(transform=Affine(1.0, 0.0, 0.975,\n",
              "       0.0, 1.0, 0.0), diagram=Compose(envelope=<chalk.envelope.Envelope object at 0x7a2e89333730>, diagram1=Primitive(shape=Path(loc_trails=[Located(trail=Trail(segments=[Segment(offset=Vec2(1.95, 0.0), origin=Vec2(0.0, 0.0)), Segment(offset=Vec2(0.0, 0.9), origin=Vec2(0.0, 0.0)), Segment(offset=Vec2(-1.95, 0.0), origin=Vec2(0.0, 0.0)), Segment(offset=Vec2(0.0, -0.9), origin=Vec2(0.0, 0.0))], closed=True), location=Vec2(0.0, 0.0))]), style=Style(line_width_=(<WidthType.NORMALIZED: 2>, 0), line_color_=None, fill_color_=None, fill_opacity_=None, dashing_=None, output_size=None), transform=Affine(1.0, 0.0, -0.975,\n",
              "       0.0, 1.0, -0.45)), diagram2=Primitive(shape=Text(text='3', font_size=0.9), style=Style(line_width_=(<WidthType.NORMALIZED: 2>, 0.05), line_color_=None, fill_color_=<Color black>, fill_opacity_=None, dashing_=None, output_size=None), transform=Affine(1.0, 0.0, 0.0,\n",
              "       0.0, 1.0, 0.1))))))), diagram2=ApplyStyle(style=Style(line_width_=None, line_color_=None, fill_color_=None, fill_opacity_=0.2, dashing_=None, output_size=None), diagram=ApplyStyle(style=Style(line_width_=None, line_color_=None, fill_color_=<Color #bfbf00>, fill_opacity_=None, dashing_=None, output_size=None), diagram=ApplyTransform(transform=Affine(1.0, 0.0, 28.0,\n",
              "       0.0, 1.0, 0.0), diagram=ApplyTransform(transform=Affine(1.0, 0.0, 0.975,\n",
              "       0.0, 1.0, 0.0), diagram=Compose(envelope=<chalk.envelope.Envelope object at 0x7a2e89334ee0>, diagram1=Primitive(shape=Path(loc_trails=[Located(trail=Trail(segments=[Segment(offset=Vec2(1.95, 0.0), origin=Vec2(0.0, 0.0)), Segment(offset=Vec2(0.0, 0.9), origin=Vec2(0.0, 0.0)), Segment(offset=Vec2(-1.95, 0.0), origin=Vec2(0.0, 0.0)), Segment(offset=Vec2(0.0, -0.9), origin=Vec2(0.0, 0.0))], closed=True), location=Vec2(0.0, 0.0))]), style=Style(line_width_=(<WidthType.NORMALIZED: 2>, 0), line_color_=None, fill_color_=None, fill_opacity_=None, dashing_=None, output_size=None), transform=Affine(1.0, 0.0, -0.975,\n",
              "       0.0, 1.0, -0.45)), diagram2=Primitive(shape=Text(text='3', font_size=0.9), style=Style(line_width_=(<WidthType.NORMALIZED: 2>, 0.05), line_color_=None, fill_color_=<Color black>, fill_opacity_=None, dashing_=None, output_size=None), transform=Affine(1.0, 0.0, 0.0,\n",
              "       0.0, 1.0, 0.1)))))))), diagram2=ApplyStyle(style=Style(line_width_=None, line_color_=None, fill_color_=None, fill_opacity_=0.2, dashing_=None, output_size=None), diagram=ApplyStyle(style=Style(line_width_=None, line_color_=None, fill_color_=<Color green>, fill_opacity_=None, dashing_=None, output_size=None), diagram=ApplyTransform(transform=Affine(1.0, 0.0, 30.0,\n",
              "       0.0, 1.0, 0.0), diagram=ApplyTransform(transform=Affine(1.0, 0.0, 0.975,\n",
              "       0.0, 1.0, 0.0), diagram=Compose(envelope=<chalk.envelope.Envelope object at 0x7a2e89336710>, diagram1=Primitive(shape=Path(loc_trails=[Located(trail=Trail(segments=[Segment(offset=Vec2(1.95, 0.0), origin=Vec2(0.0, 0.0)), Segment(offset=Vec2(0.0, 0.9), origin=Vec2(0.0, 0.0)), Segment(offset=Vec2(-1.95, 0.0), origin=Vec2(0.0, 0.0)), Segment(offset=Vec2(0.0, -0.9), origin=Vec2(0.0, 0.0))], closed=True), location=Vec2(0.0, 0.0))]), style=Style(line_width_=(<WidthType.NORMALIZED: 2>, 0), line_color_=None, fill_color_=None, fill_opacity_=None, dashing_=None, output_size=None), transform=Affine(1.0, 0.0, -0.975,\n",
              "       0.0, 1.0, -0.45)), diagram2=Primitive(shape=Text(text='3', font_size=0.9), style=Style(line_width_=(<WidthType.NORMALIZED: 2>, 0.05), line_color_=None, fill_color_=<Color black>, fill_opacity_=None, dashing_=None, output_size=None), transform=Affine(1.0, 0.0, 0.0,\n",
              "       0.0, 1.0, 0.1)))))))), diagram2=ApplyStyle(style=Style(line_width_=None, line_color_=None, fill_color_=None, fill_opacity_=0.5, dashing_=None, output_size=None), diagram=ApplyStyle(style=Style(line_width_=None, line_color_=None, fill_color_=<Color yellow>, fill_opacity_=None, dashing_=None, output_size=None), diagram=ApplyTransform(transform=Affine(1.0, 0.0, 32.0,\n",
              "       0.0, 1.0, 0.0), diagram=ApplyTransform(transform=Affine(1.0, 0.0, 0.475,\n",
              "       0.0, 1.0, 0.0), diagram=Compose(envelope=<chalk.envelope.Envelope object at 0x7a2e89337f10>, diagram1=Primitive(shape=Path(loc_trails=[Located(trail=Trail(segments=[Segment(offset=Vec2(0.95, 0.0), origin=Vec2(0.0, 0.0)), Segment(offset=Vec2(0.0, 0.9), origin=Vec2(0.0, 0.0)), Segment(offset=Vec2(-0.95, 0.0), origin=Vec2(0.0, 0.0)), Segment(offset=Vec2(0.0, -0.9), origin=Vec2(0.0, 0.0))], closed=True), location=Vec2(0.0, 0.0))]), style=Style(line_width_=(<WidthType.NORMALIZED: 2>, 0), line_color_=None, fill_color_=None, fill_opacity_=None, dashing_=None, output_size=None), transform=Affine(1.0, 0.0, -0.475,\n",
              "       0.0, 1.0, -0.45)), diagram2=Primitive(shape=Text(text='', font_size=0.9), style=Style(line_width_=(<WidthType.NORMALIZED: 2>, 0.05), line_color_=None, fill_color_=<Color black>, fill_opacity_=None, dashing_=None, output_size=None), transform=Affine(1.0, 0.0, 0.0,\n",
              "       0.0, 1.0, 0.1)))))))), diagram2=ApplyStyle(style=Style(line_width_=None, line_color_=None, fill_color_=None, fill_opacity_=0.5, dashing_=None, output_size=None), diagram=ApplyStyle(style=Style(line_width_=None, line_color_=None, fill_color_=<Color yellow>, fill_opacity_=None, dashing_=None, output_size=None), diagram=ApplyTransform(transform=Affine(1.0, 0.0, 33.0,\n",
              "       0.0, 1.0, 0.0), diagram=ApplyTransform(transform=Affine(1.0, 0.0, 0.475,\n",
              "       0.0, 1.0, 0.0), diagram=Compose(envelope=<chalk.envelope.Envelope object at 0x7a2e893457b0>, diagram1=Primitive(shape=Path(loc_trails=[Located(trail=Trail(segments=[Segment(offset=Vec2(0.95, 0.0), origin=Vec2(0.0, 0.0)), Segment(offset=Vec2(0.0, 0.9), origin=Vec2(0.0, 0.0)), Segment(offset=Vec2(-0.95, 0.0), origin=Vec2(0.0, 0.0)), Segment(offset=Vec2(0.0, -0.9), origin=Vec2(0.0, 0.0))], closed=True), location=Vec2(0.0, 0.0))]), style=Style(line_width_=(<WidthType.NORMALIZED: 2>, 0), line_color_=None, fill_color_=None, fill_opacity_=None, dashing_=None, output_size=None), transform=Affine(1.0, 0.0, -0.475,\n",
              "       0.0, 1.0, -0.45)), diagram2=Primitive(shape=Text(text='', font_size=0.9), style=Style(line_width_=(<WidthType.NORMALIZED: 2>, 0.05), line_color_=None, fill_color_=<Color black>, fill_opacity_=None, dashing_=None, output_size=None), transform=Affine(1.0, 0.0, 0.0,\n",
              "       0.0, 1.0, 0.1)))))))), diagram2=ApplyTransform(transform=Affine(1.0, 0.0, 0.0,\n",
              "       0.0, 1.0, 0.5), diagram=ApplyTransform(transform=Affine(0.0, 1.0, 0.0,\n",
              "       -1.0, 0.0, 0.0), diagram=Empty()))), diagram2=ApplyTransform(transform=Affine(1.0, 0.0, 0.0,\n",
              "       0.0, 1.0, 1.5), diagram=Compose(envelope=<chalk.envelope.Envelope object at 0x7a2e893984f0>, diagram1=Compose(envelope=<chalk.envelope.Envelope object at 0x7a2e8938f910>, diagram1=ApplyTransform(transform=Affine(1.0, 0.0, -0.0,\n",
              "       0.0, 1.0, -0.0), diagram=Compose(envelope=<chalk.envelope.Envelope object at 0x7a2e8938e7a0>, diagram1=ApplyTransform(transform=Affine(1.0, 0.0, -0.0,\n",
              "       0.0, 1.0, -0.0), diagram=Compose(envelope=<chalk.envelope.Envelope object at 0x7a2e8938d630>, diagram1=ApplyTransform(transform=Affine(1.0, 0.0, -0.0,\n",
              "       0.0, 1.0, -0.0), diagram=Compose(envelope=<chalk.envelope.Envelope object at 0x7a2e89383f70>, diagram1=ApplyTransform(transform=Affine(1.0, 0.0, -0.0,\n",
              "       0.0, 1.0, -0.0), diagram=Compose(envelope=<chalk.envelope.Envelope object at 0x7a2e89383310>, diagram1=ApplyTransform(transform=Affine(1.0, 0.0, -0.0,\n",
              "       0.0, 1.0, -0.0), diagram=Compose(envelope=<chalk.envelope.Envelope object at 0x7a2e893821a0>, diagram1=ApplyTransform(transform=Affine(1.0, 0.0, -0.0,\n",
              "       0.0, 1.0, -0.0), diagram=Compose(envelope=<chalk.envelope.Envelope object at 0x7a2e89381030>, diagram1=ApplyTransform(transform=Affine(1.0, 0.0, -0.0,\n",
              "       0.0, 1.0, -0.0), diagram=Compose(envelope=<chalk.envelope.Envelope object at 0x7a2e89373f40>, diagram1=ApplyTransform(transform=Affine(1.0, 0.0, -0.0,\n",
              "       0.0, 1.0, -0.0), diagram=Compose(envelope=<chalk.envelope.Envelope object at 0x7a2e89372d10>, diagram1=ApplyTransform(transform=Affine(1.0, 0.0, -0.0,\n",
              "       0.0, 1.0, -0.0), diagram=Compose(envelope=<chalk.envelope.Envelope object at 0x7a2e89371ba0>, diagram1=ApplyTransform(transform=Affine(1.0, 0.0, -0.0,\n",
              "       0.0, 1.0, -0.0), diagram=Compose(envelope=<chalk.envelope.Envelope object at 0x7a2e89370a30>, diagram1=ApplyTransform(transform=Affine(1.0, 0.0, -0.0,\n",
              "       0.0, 1.0, -0.0), diagram=Compose(envelope=<chalk.envelope.Envelope object at 0x7a2e8936b880>, diagram1=ApplyTransform(transform=Affine(1.0, 0.0, -0.0,\n",
              "       0.0, 1.0, -0.0), diagram=Compose(envelope=<chalk.envelope.Envelope object at 0x7a2e8936a710>, diagram1=ApplyTransform(transform=Affine(1.0, 0.0, -0.0,\n",
              "       0.0, 1.0, -0.0), diagram=Compose(envelope=<chalk.envelope.Envelope object at 0x7a2e893695a0>, diagram1=ApplyTransform(transform=Affine(1.0, 0.0, -0.0,\n",
              "       0.0, 1.0, -0.0), diagram=Compose(envelope=<chalk.envelope.Envelope object at 0x7a2e8935ffd0>, diagram1=ApplyTransform(transform=Affine(1.0, 0.0, -0.0,\n",
              "       0.0, 1.0, -0.0), diagram=Compose(envelope=<chalk.envelope.Envelope object at 0x7a2e8935f280>, diagram1=ApplyTransform(transform=Affine(1.0, 0.0, -0.0,\n",
              "       0.0, 1.0, -0.0), diagram=Compose(envelope=<chalk.envelope.Envelope object at 0x7a2e8935e110>, diagram1=ApplyTransform(transform=Affine(1.0, 0.0, -0.0,\n",
              "       0.0, 1.0, -0.0), diagram=Compose(envelope=<chalk.envelope.Envelope object at 0x7a2e8935cfa0>, diagram1=ApplyTransform(transform=Affine(1.0, 0.0, -0.0,\n",
              "       0.0, 1.0, -0.0), diagram=Compose(envelope=<chalk.envelope.Envelope object at 0x7a2e89353f70>, diagram1=ApplyTransform(transform=Affine(1.0, 0.0, -0.0,\n",
              "       0.0, 1.0, -0.0), diagram=Compose(envelope=<chalk.envelope.Envelope object at 0x7a2e89352d70>, diagram1=ApplyTransform(transform=Affine(1.0, 0.0, -0.0,\n",
              "       0.0, 1.0, -0.0), diagram=Compose(envelope=<chalk.envelope.Envelope object at 0x7a2e89351c30>, diagram1=ApplyTransform(transform=Affine(1.0, 0.0, -0.0,\n",
              "       0.0, 1.0, -0.0), diagram=Compose(envelope=<chalk.envelope.Envelope object at 0x7a2e89350bb0>, diagram1=ApplyTransform(transform=Affine(1.0, 0.0, -0.0,\n",
              "       0.0, 1.0, -0.5), diagram=Compose(envelope=<chalk.envelope.Envelope object at 0x7a2e89347d30>, diagram1=Primitive(shape=Path(loc_trails=[Located(trail=Trail(segments=[Segment(offset=Vec2(35.0, 0.0), origin=Vec2(0.0, 0.0)), Segment(offset=Vec2(0.0, 1.0), origin=Vec2(0.0, 0.0)), Segment(offset=Vec2(-35.0, 0.0), origin=Vec2(0.0, 0.0)), Segment(offset=Vec2(0.0, -1.0), origin=Vec2(0.0, 0.0))], closed=True), location=Vec2(0.0, 0.0))]), style=Style(line_width_=None, line_color_=None, fill_color_=<Color white>, fill_opacity_=None, dashing_=None, output_size=None), transform=Affine(1.0, 0.0, 0.0,\n",
              "       0.0, 1.0, -0.5)), diagram2=ApplyStyle(style=Style(line_width_=None, line_color_=None, fill_color_=<Color gray>, fill_opacity_=None, dashing_=None, output_size=None), diagram=ApplyTransform(transform=Affine(1.0, 0.0, -2.0,\n",
              "       0.0, 1.0, 0.0), diagram=Compose(envelope=<chalk.envelope.Envelope object at 0x7a2e893465c0>, diagram1=Primitive(shape=Text(text='0', font_size=1), style=Style(line_width_=(<WidthType.NORMALIZED: 2>, 0), line_color_=None, fill_color_=None, fill_opacity_=None, dashing_=None, output_size=None), transform=Affine(1.0, 0.0, 0.0,\n",
              "       0.0, 1.0, 0.0)), diagram2=Empty()))))), diagram2=Primitive(shape=Path(loc_trails=[Located(trail=Trail(segments=[Segment(offset=Vec2(2.0, 0.0), origin=Vec2(0.0, 0.0)), Segment(offset=Vec2(0.0, 0.4), origin=Vec2(0.0, 0.0)), Segment(offset=Vec2(-2.0, 0.0), origin=Vec2(0.0, 0.0)), Segment(offset=Vec2(0.0, -0.4), origin=Vec2(0.0, 0.0))], closed=True), location=Vec2(0.0, 0.0))]), style=Style(line_width_=(<WidthType.NORMALIZED: 2>, 0), line_color_=None, fill_color_=<Color gray>, fill_opacity_=None, dashing_=None, output_size=None), transform=Affine(1.0, 0.0, 0.0,\n",
              "       0.0, 1.0, -0.4)))), diagram2=Primitive(shape=Path(loc_trails=[Located(trail=Trail(segments=[Segment(offset=Vec2(2.0, 0.0), origin=Vec2(0.0, 0.0)), Segment(offset=Vec2(0.0, 0.4444444444444444), origin=Vec2(0.0, 0.0)), Segment(offset=Vec2(-2.0, 0.0), origin=Vec2(0.0, 0.0)), Segment(offset=Vec2(0.0, -0.4444444444444444), origin=Vec2(0.0, 0.0))], closed=True), location=Vec2(0.0, 0.0))]), style=Style(line_width_=(<WidthType.NORMALIZED: 2>, 0), line_color_=None, fill_color_=<Color gray>, fill_opacity_=None, dashing_=None, output_size=None), transform=Affine(1.0, 0.0, 2.0,\n",
              "       0.0, 1.0, -0.4444444444444444)))), diagram2=Primitive(shape=Path(loc_trails=[Located(trail=Trail(segments=[Segment(offset=Vec2(0.0, 0.0), origin=Vec2(0.0, 0.0)), Segment(offset=Vec2(0.0, 0.4888888888888889), origin=Vec2(0.0, 0.0)), Segment(offset=Vec2(0.0, 0.0), origin=Vec2(0.0, 0.0)), Segment(offset=Vec2(0.0, -0.4888888888888889), origin=Vec2(0.0, 0.0))], closed=True), location=Vec2(0.0, 0.0))]), style=Style(line_width_=(<WidthType.NORMALIZED: 2>, 0), line_color_=None, fill_color_=<Color gray>, fill_opacity_=None, dashing_=None, output_size=None), transform=Affine(1.0, 0.0, 4.0,\n",
              "       0.0, 1.0, -0.4888888888888889)))), diagram2=Primitive(shape=Path(loc_trails=[Located(trail=Trail(segments=[Segment(offset=Vec2(2.0, 0.0), origin=Vec2(0.0, 0.0)), Segment(offset=Vec2(0.0, 0.4888888888888889), origin=Vec2(0.0, 0.0)), Segment(offset=Vec2(-2.0, 0.0), origin=Vec2(0.0, 0.0)), Segment(offset=Vec2(0.0, -0.4888888888888889), origin=Vec2(0.0, 0.0))], closed=True), location=Vec2(0.0, 0.0))]), style=Style(line_width_=(<WidthType.NORMALIZED: 2>, 0), line_color_=None, fill_color_=<Color gray>, fill_opacity_=None, dashing_=None, output_size=None), transform=Affine(1.0, 0.0, 4.0,\n",
              "       0.0, 1.0, -0.4888888888888889)))), diagram2=Primitive(shape=Path(loc_trails=[Located(trail=Trail(segments=[Segment(offset=Vec2(2.0, 0.0), origin=Vec2(0.0, 0.0)), Segment(offset=Vec2(0.0, 0.5333333333333333), origin=Vec2(0.0, 0.0)), Segment(offset=Vec2(-2.0, 0.0), origin=Vec2(0.0, 0.0)), Segment(offset=Vec2(0.0, -0.5333333333333333), origin=Vec2(0.0, 0.0))], closed=True), location=Vec2(0.0, 0.0))]), style=Style(line_width_=(<WidthType.NORMALIZED: 2>, 0), line_color_=None, fill_color_=<Color gray>, fill_opacity_=None, dashing_=None, output_size=None), transform=Affine(1.0, 0.0, 6.0,\n",
              "       0.0, 1.0, -0.5333333333333333)))), diagram2=Primitive(shape=Path(loc_trails=[Located(trail=Trail(segments=[Segment(offset=Vec2(2.0, 0.0), origin=Vec2(0.0, 0.0)), Segment(offset=Vec2(0.0, 0.5777777777777777), origin=Vec2(0.0, 0.0)), Segment(offset=Vec2(-2.0, 0.0), origin=Vec2(0.0, 0.0)), Segment(offset=Vec2(0.0, -0.5777777777777777), origin=Vec2(0.0, 0.0))], closed=True), location=Vec2(0.0, 0.0))]), style=Style(line_width_=(<WidthType.NORMALIZED: 2>, 0), line_color_=None, fill_color_=<Color gray>, fill_opacity_=None, dashing_=None, output_size=None), transform=Affine(1.0, 0.0, 8.0,\n",
              "       0.0, 1.0, -0.5777777777777777)))), diagram2=Primitive(shape=Path(loc_trails=[Located(trail=Trail(segments=[Segment(offset=Vec2(2.0, 0.0), origin=Vec2(0.0, 0.0)), Segment(offset=Vec2(0.0, 0.6222222222222222), origin=Vec2(0.0, 0.0)), Segment(offset=Vec2(-2.0, 0.0), origin=Vec2(0.0, 0.0)), Segment(offset=Vec2(0.0, -0.6222222222222222), origin=Vec2(0.0, 0.0))], closed=True), location=Vec2(0.0, 0.0))]), style=Style(line_width_=(<WidthType.NORMALIZED: 2>, 0), line_color_=None, fill_color_=<Color gray>, fill_opacity_=None, dashing_=None, output_size=None), transform=Affine(1.0, 0.0, 10.0,\n",
              "       0.0, 1.0, -0.6222222222222222)))), diagram2=Primitive(shape=Path(loc_trails=[Located(trail=Trail(segments=[Segment(offset=Vec2(0.0, 0.0), origin=Vec2(0.0, 0.0)), Segment(offset=Vec2(0.0, 0.6666666666666666), origin=Vec2(0.0, 0.0)), Segment(offset=Vec2(0.0, 0.0), origin=Vec2(0.0, 0.0)), Segment(offset=Vec2(0.0, -0.6666666666666666), origin=Vec2(0.0, 0.0))], closed=True), location=Vec2(0.0, 0.0))]), style=Style(line_width_=(<WidthType.NORMALIZED: 2>, 0), line_color_=None, fill_color_=<Color gray>, fill_opacity_=None, dashing_=None, output_size=None), transform=Affine(1.0, 0.0, 12.0,\n",
              "       0.0, 1.0, -0.6666666666666666)))), diagram2=Primitive(shape=Path(loc_trails=[Located(trail=Trail(segments=[Segment(offset=Vec2(2.0, 0.0), origin=Vec2(0.0, 0.0)), Segment(offset=Vec2(0.0, 0.6666666666666666), origin=Vec2(0.0, 0.0)), Segment(offset=Vec2(-2.0, 0.0), origin=Vec2(0.0, 0.0)), Segment(offset=Vec2(0.0, -0.6666666666666666), origin=Vec2(0.0, 0.0))], closed=True), location=Vec2(0.0, 0.0))]), style=Style(line_width_=(<WidthType.NORMALIZED: 2>, 0), line_color_=None, fill_color_=<Color gray>, fill_opacity_=None, dashing_=None, output_size=None), transform=Affine(1.0, 0.0, 12.0,\n",
              "       0.0, 1.0, -0.6666666666666666)))), diagram2=Primitive(shape=Path(loc_trails=[Located(trail=Trail(segments=[Segment(offset=Vec2(2.0, 0.0), origin=Vec2(0.0, 0.0)), Segment(offset=Vec2(0.0, 0.6222222222222222), origin=Vec2(0.0, 0.0)), Segment(offset=Vec2(-2.0, 0.0), origin=Vec2(0.0, 0.0)), Segment(offset=Vec2(0.0, -0.6222222222222222), origin=Vec2(0.0, 0.0))], closed=True), location=Vec2(0.0, 0.0))]), style=Style(line_width_=(<WidthType.NORMALIZED: 2>, 0), line_color_=None, fill_color_=<Color gray>, fill_opacity_=None, dashing_=None, output_size=None), transform=Affine(1.0, 0.0, 14.0,\n",
              "       0.0, 1.0, -0.6222222222222222)))), diagram2=Primitive(shape=Path(loc_trails=[Located(trail=Trail(segments=[Segment(offset=Vec2(2.0, 0.0), origin=Vec2(0.0, 0.0)), Segment(offset=Vec2(0.0, 0.5777777777777777), origin=Vec2(0.0, 0.0)), Segment(offset=Vec2(-2.0, 0.0), origin=Vec2(0.0, 0.0)), Segment(offset=Vec2(0.0, -0.5777777777777777), origin=Vec2(0.0, 0.0))], closed=True), location=Vec2(0.0, 0.0))]), style=Style(line_width_=(<WidthType.NORMALIZED: 2>, 0), line_color_=None, fill_color_=<Color gray>, fill_opacity_=None, dashing_=None, output_size=None), transform=Affine(1.0, 0.0, 16.0,\n",
              "       0.0, 1.0, -0.5777777777777777)))), diagram2=Primitive(shape=Path(loc_trails=[Located(trail=Trail(segments=[Segment(offset=Vec2(2.0, 0.0), origin=Vec2(0.0, 0.0)), Segment(offset=Vec2(0.0, 0.6222222222222222), origin=Vec2(0.0, 0.0)), Segment(offset=Vec2(-2.0, 0.0), origin=Vec2(0.0, 0.0)), Segment(offset=Vec2(0.0, -0.6222222222222222), origin=Vec2(0.0, 0.0))], closed=True), location=Vec2(0.0, 0.0))]), style=Style(line_width_=(<WidthType.NORMALIZED: 2>, 0), line_color_=None, fill_color_=<Color gray>, fill_opacity_=None, dashing_=None, output_size=None), transform=Affine(1.0, 0.0, 18.0,\n",
              "       0.0, 1.0, -0.6222222222222222)))), diagram2=Primitive(shape=Path(loc_trails=[Located(trail=Trail(segments=[Segment(offset=Vec2(0.0, 0.0), origin=Vec2(0.0, 0.0)), Segment(offset=Vec2(0.0, 0.6666666666666666), origin=Vec2(0.0, 0.0)), Segment(offset=Vec2(0.0, 0.0), origin=Vec2(0.0, 0.0)), Segment(offset=Vec2(0.0, -0.6666666666666666), origin=Vec2(0.0, 0.0))], closed=True), location=Vec2(0.0, 0.0))]), style=Style(line_width_=(<WidthType.NORMALIZED: 2>, 0), line_color_=None, fill_color_=<Color gray>, fill_opacity_=None, dashing_=None, output_size=None), transform=Affine(1.0, 0.0, 20.0,\n",
              "       0.0, 1.0, -0.6666666666666666)))), diagram2=Primitive(shape=Path(loc_trails=[Located(trail=Trail(segments=[Segment(offset=Vec2(2.0, 0.0), origin=Vec2(0.0, 0.0)), Segment(offset=Vec2(0.0, 0.6666666666666666), origin=Vec2(0.0, 0.0)), Segment(offset=Vec2(-2.0, 0.0), origin=Vec2(0.0, 0.0)), Segment(offset=Vec2(0.0, -0.6666666666666666), origin=Vec2(0.0, 0.0))], closed=True), location=Vec2(0.0, 0.0))]), style=Style(line_width_=(<WidthType.NORMALIZED: 2>, 0), line_color_=None, fill_color_=<Color gray>, fill_opacity_=None, dashing_=None, output_size=None), transform=Affine(1.0, 0.0, 20.0,\n",
              "       0.0, 1.0, -0.6666666666666666)))), diagram2=Primitive(shape=Path(loc_trails=[Located(trail=Trail(segments=[Segment(offset=Vec2(2.0, 0.0), origin=Vec2(0.0, 0.0)), Segment(offset=Vec2(0.0, 0.6222222222222222), origin=Vec2(0.0, 0.0)), Segment(offset=Vec2(-2.0, 0.0), origin=Vec2(0.0, 0.0)), Segment(offset=Vec2(0.0, -0.6222222222222222), origin=Vec2(0.0, 0.0))], closed=True), location=Vec2(0.0, 0.0))]), style=Style(line_width_=(<WidthType.NORMALIZED: 2>, 0), line_color_=None, fill_color_=<Color gray>, fill_opacity_=None, dashing_=None, output_size=None), transform=Affine(1.0, 0.0, 22.0,\n",
              "       0.0, 1.0, -0.6222222222222222)))), diagram2=Primitive(shape=Path(loc_trails=[Located(trail=Trail(segments=[Segment(offset=Vec2(2.0, 0.0), origin=Vec2(0.0, 0.0)), Segment(offset=Vec2(0.0, 0.5777777777777777), origin=Vec2(0.0, 0.0)), Segment(offset=Vec2(-2.0, 0.0), origin=Vec2(0.0, 0.0)), Segment(offset=Vec2(0.0, -0.5777777777777777), origin=Vec2(0.0, 0.0))], closed=True), location=Vec2(0.0, 0.0))]), style=Style(line_width_=(<WidthType.NORMALIZED: 2>, 0), line_color_=None, fill_color_=<Color gray>, fill_opacity_=None, dashing_=None, output_size=None), transform=Affine(1.0, 0.0, 24.0,\n",
              "       0.0, 1.0, -0.5777777777777777)))), diagram2=Primitive(shape=Path(loc_trails=[Located(trail=Trail(segments=[Segment(offset=Vec2(2.0, 0.0), origin=Vec2(0.0, 0.0)), Segment(offset=Vec2(0.0, 0.6222222222222222), origin=Vec2(0.0, 0.0)), Segment(offset=Vec2(-2.0, 0.0), origin=Vec2(0.0, 0.0)), Segment(offset=Vec2(0.0, -0.6222222222222222), origin=Vec2(0.0, 0.0))], closed=True), location=Vec2(0.0, 0.0))]), style=Style(line_width_=(<WidthType.NORMALIZED: 2>, 0), line_color_=None, fill_color_=<Color gray>, fill_opacity_=None, dashing_=None, output_size=None), transform=Affine(1.0, 0.0, 26.0,\n",
              "       0.0, 1.0, -0.6222222222222222)))), diagram2=Primitive(shape=Path(loc_trails=[Located(trail=Trail(segments=[Segment(offset=Vec2(0.0, 0.0), origin=Vec2(0.0, 0.0)), Segment(offset=Vec2(0.0, 0.6666666666666666), origin=Vec2(0.0, 0.0)), Segment(offset=Vec2(0.0, 0.0), origin=Vec2(0.0, 0.0)), Segment(offset=Vec2(0.0, -0.6666666666666666), origin=Vec2(0.0, 0.0))], closed=True), location=Vec2(0.0, 0.0))]), style=Style(line_width_=(<WidthType.NORMALIZED: 2>, 0), line_color_=None, fill_color_=<Color gray>, fill_opacity_=None, dashing_=None, output_size=None), transform=Affine(1.0, 0.0, 28.0,\n",
              "       0.0, 1.0, -0.6666666666666666)))), diagram2=Primitive(shape=Path(loc_trails=[Located(trail=Trail(segments=[Segment(offset=Vec2(2.0, 0.0), origin=Vec2(0.0, 0.0)), Segment(offset=Vec2(0.0, 0.6666666666666666), origin=Vec2(0.0, 0.0)), Segment(offset=Vec2(-2.0, 0.0), origin=Vec2(0.0, 0.0)), Segment(offset=Vec2(0.0, -0.6666666666666666), origin=Vec2(0.0, 0.0))], closed=True), location=Vec2(0.0, 0.0))]), style=Style(line_width_=(<WidthType.NORMALIZED: 2>, 0), line_color_=None, fill_color_=<Color gray>, fill_opacity_=None, dashing_=None, output_size=None), transform=Affine(1.0, 0.0, 28.0,\n",
              "       0.0, 1.0, -0.6666666666666666)))), diagram2=Primitive(shape=Path(loc_trails=[Located(trail=Trail(segments=[Segment(offset=Vec2(2.0, 0.0), origin=Vec2(0.0, 0.0)), Segment(offset=Vec2(0.0, 0.6222222222222222), origin=Vec2(0.0, 0.0)), Segment(offset=Vec2(-2.0, 0.0), origin=Vec2(0.0, 0.0)), Segment(offset=Vec2(0.0, -0.6222222222222222), origin=Vec2(0.0, 0.0))], closed=True), location=Vec2(0.0, 0.0))]), style=Style(line_width_=(<WidthType.NORMALIZED: 2>, 0), line_color_=None, fill_color_=<Color gray>, fill_opacity_=None, dashing_=None, output_size=None), transform=Affine(1.0, 0.0, 30.0,\n",
              "       0.0, 1.0, -0.6222222222222222)))), diagram2=Primitive(shape=Path(loc_trails=[Located(trail=Trail(segments=[Segment(offset=Vec2(1.0, 0.0), origin=Vec2(0.0, 0.0)), Segment(offset=Vec2(0.0, 0.5333333333333333), origin=Vec2(0.0, 0.0)), Segment(offset=Vec2(-1.0, 0.0), origin=Vec2(0.0, 0.0)), Segment(offset=Vec2(0.0, -0.5333333333333333), origin=Vec2(0.0, 0.0))], closed=True), location=Vec2(0.0, 0.0))]), style=Style(line_width_=(<WidthType.NORMALIZED: 2>, 0), line_color_=None, fill_color_=<Color gray>, fill_opacity_=None, dashing_=None, output_size=None), transform=Affine(1.0, 0.0, 32.0,\n",
              "       0.0, 1.0, -0.5333333333333333)))), diagram2=Primitive(shape=Path(loc_trails=[Located(trail=Trail(segments=[Segment(offset=Vec2(1.0, 0.0), origin=Vec2(0.0, 0.0)), Segment(offset=Vec2(0.0, 0.4444444444444444), origin=Vec2(0.0, 0.0)), Segment(offset=Vec2(-1.0, 0.0), origin=Vec2(0.0, 0.0)), Segment(offset=Vec2(0.0, -0.4444444444444444), origin=Vec2(0.0, 0.0))], closed=True), location=Vec2(0.0, 0.0))]), style=Style(line_width_=(<WidthType.NORMALIZED: 2>, 0), line_color_=None, fill_color_=<Color gray>, fill_opacity_=None, dashing_=None, output_size=None), transform=Affine(1.0, 0.0, 33.0,\n",
              "       0.0, 1.0, -0.4444444444444444))), diagram2=Primitive(shape=Path(loc_trails=[Located(trail=Trail(segments=[Segment(offset=Vec2(0.1, 0.0), origin=Vec2(0.0, 0.0)), Segment(offset=Vec2(0.0, 1.0), origin=Vec2(0.0, 0.0)), Segment(offset=Vec2(-0.1, 0.0), origin=Vec2(0.0, 0.0)), Segment(offset=Vec2(0.0, -1.0), origin=Vec2(0.0, 0.0))], closed=True), location=Vec2(0.0, 0.0))]), style=Style(line_width_=None, line_color_=<Color red>, fill_color_=None, fill_opacity_=None, dashing_=None, output_size=None), transform=Affine(1.0, 0.0, 11.95,\n",
              "       0.0, 1.0, -1.0))))))))"
            ],
            "image/svg+xml": "<?xml version=\"1.0\" encoding=\"utf-8\" ?>\n<svg baseProfile=\"full\" height=\"400\" version=\"1.1\" width=\"950\" xmlns=\"http://www.w3.org/2000/svg\" xmlns:ev=\"http://www.w3.org/2001/xml-events\" xmlns:xlink=\"http://www.w3.org/1999/xlink\"><defs><marker id=\"arrow\" markerHeight=\"3.5\" markerWidth=\"5\" orient=\"auto\" refX=\"5.0\" refY=\"1.7\"><polygon points=\"0,0 5,1.75 0,3.5\" /></marker></defs><g style=\"fill:white;\"><g transform=\"matrix(1.0, 0.0, 0.0, 1.0, 474.99999999999994, 200.0)\"><g transform=\"matrix(47.61904761904762, 0.0, 0.0, 47.61904761904762, 0.0, 0.0)\"><g><g transform=\"matrix(1.0, 0.0, 0.0, 1.0, -0.0, -0.0)\"><g><g style=\"stroke: black;stroke-width: 0.0;\" transform=\"matrix(1.0, 0.0, 0.0, 1.0, -0.75, -4.0)\"><path d=\"M 0.0 0.0 L 1.5 0.0 L 1.5 8.0 L 0.0 8.0 L 0.0 0.0 Z\" style=\"vector-effect: non-scaling-stroke;\" /></g><g transform=\"matrix(1.0, 0.0, 0.0, 1.0, -8.0, -0.25)\"><g transform=\"matrix(0.5, 0.0, 0.0, 0.5, 0.0, 0.0)\"><g><g><g><g><g><g><g><g><g><g><g><g><g><g><g><g><g><g><g><g><g><g /><g><g style=\"fill: #d3d3d3;stroke: black;stroke-width: 1.8;\" transform=\"matrix(1.0, 0.0, 0.0, 1.0, 0.0, -0.5)\"><path d=\"M 0.0 0.0 L 35.0 0.0 L 35.0 1.0 L 0.0 1.0 L 0.0 0.0 Z\" style=\"vector-effect: non-scaling-stroke;\" /></g><g transform=\"matrix(1.0, 0.0, 0.0, 1.0, -2.0, 0.0)\"><g><g style=\"fill: #ffa500;stroke: black;stroke-width: 0.0;\" transform=\"matrix(1.0, 0.0, 0.0, 1.0, 0.0, 0.0)\"><text style=\"text-align:center; text-anchor:middle; dominant-baseline:middle;&#10;                      font-family:sans-serif; font-weight: bold;&#10;                      font-size:1px;&#10;                      vector-effect: non-scaling-stroke;\" transform=\"translate(-5e-05, 0)\">0</text></g><g /></g></g></g></g><g transform=\"matrix(1.0, 0.0, 0.0, 1.0, 0.0, 0.0)\"><g transform=\"matrix(1.0, 0.0, 0.0, 1.0, 0.975, 0.0)\"><g><g style=\"fill: #008000;stroke: black;stroke-width: 0.0;\" transform=\"matrix(1.0, 0.0, 0.0, 1.0, -0.975, -0.45)\"><path d=\"M 0.0 0.0 L 1.95 0.0 L 1.95 0.9 L 0.0 0.9 L 0.0 0.0 Z\" style=\"vector-effect: non-scaling-stroke;\" /></g><g style=\"fill: #008000;stroke: black;stroke-width: 0.9;\" transform=\"matrix(1.0, 0.0, 0.0, 1.0, 0.0, 0.1)\"><text style=\"text-align:center; text-anchor:middle; dominant-baseline:middle;&#10;                      font-family:sans-serif; font-weight: bold;&#10;                      font-size:0.9px;&#10;                      vector-effect: non-scaling-stroke;\" transform=\"translate(-5e-05, 0)\">0</text></g></g></g></g></g><g transform=\"matrix(1.0, 0.0, 0.0, 1.0, 2.0, 0.0)\"><g transform=\"matrix(1.0, 0.0, 0.0, 1.0, 0.975, 0.0)\"><g><g style=\"fill: #bfbf00;stroke: black;stroke-width: 0.0;\" transform=\"matrix(1.0, 0.0, 0.0, 1.0, -0.975, -0.45)\"><path d=\"M 0.0 0.0 L 1.95 0.0 L 1.95 0.9 L 0.0 0.9 L 0.0 0.0 Z\" style=\"vector-effect: non-scaling-stroke;\" /></g><g style=\"fill: #bfbf00;stroke: black;stroke-width: 0.9;\" transform=\"matrix(1.0, 0.0, 0.0, 1.0, 0.0, 0.1)\"><text style=\"text-align:center; text-anchor:middle; dominant-baseline:middle;&#10;                      font-family:sans-serif; font-weight: bold;&#10;                      font-size:0.9px;&#10;                      vector-effect: non-scaling-stroke;\" transform=\"translate(-5e-05, 0)\">0</text></g></g></g></g></g><g transform=\"matrix(1.0, 0.0, 0.0, 1.0, 4.0, 0.0)\"><g transform=\"matrix(1.0, 0.0, 0.0, 1.0, 0.975, 0.0)\"><g><g style=\"fill: #bfbf00;stroke: black;stroke-width: 0.0;fill-opacity: 0.2;\" transform=\"matrix(1.0, 0.0, 0.0, 1.0, -0.975, -0.45)\"><path d=\"M 0.0 0.0 L 1.95 0.0 L 1.95 0.9 L 0.0 0.9 L 0.0 0.0 Z\" style=\"vector-effect: non-scaling-stroke;\" /></g><g style=\"fill: #bfbf00;stroke: black;stroke-width: 0.9;fill-opacity: 0.2;\" transform=\"matrix(1.0, 0.0, 0.0, 1.0, 0.0, 0.1)\"><text style=\"text-align:center; text-anchor:middle; dominant-baseline:middle;&#10;                      font-family:sans-serif; font-weight: bold;&#10;                      font-size:0.9px;&#10;                      vector-effect: non-scaling-stroke;\" transform=\"translate(-5e-05, 0)\">0</text></g></g></g></g></g><g transform=\"matrix(1.0, 0.0, 0.0, 1.0, 6.0, 0.0)\"><g transform=\"matrix(1.0, 0.0, 0.0, 1.0, 0.975, 0.0)\"><g><g style=\"fill: #008000;stroke: black;stroke-width: 0.0;fill-opacity: 0.2;\" transform=\"matrix(1.0, 0.0, 0.0, 1.0, -0.975, -0.45)\"><path d=\"M 0.0 0.0 L 1.95 0.0 L 1.95 0.9 L 0.0 0.9 L 0.0 0.0 Z\" style=\"vector-effect: non-scaling-stroke;\" /></g><g style=\"fill: #008000;stroke: black;stroke-width: 0.9;fill-opacity: 0.2;\" transform=\"matrix(1.0, 0.0, 0.0, 1.0, 0.0, 0.1)\"><text style=\"text-align:center; text-anchor:middle; dominant-baseline:middle;&#10;                      font-family:sans-serif; font-weight: bold;&#10;                      font-size:0.9px;&#10;                      vector-effect: non-scaling-stroke;\" transform=\"translate(-5e-05, 0)\">0</text></g></g></g></g></g><g transform=\"matrix(1.0, 0.0, 0.0, 1.0, 8.0, 0.0)\"><g transform=\"matrix(1.0, 0.0, 0.0, 1.0, 0.975, 0.0)\"><g><g style=\"fill: #008000;stroke: black;stroke-width: 0.0;\" transform=\"matrix(1.0, 0.0, 0.0, 1.0, -0.975, -0.45)\"><path d=\"M 0.0 0.0 L 1.95 0.0 L 1.95 0.9 L 0.0 0.9 L 0.0 0.0 Z\" style=\"vector-effect: non-scaling-stroke;\" /></g><g style=\"fill: #008000;stroke: black;stroke-width: 0.9;\" transform=\"matrix(1.0, 0.0, 0.0, 1.0, 0.0, 0.1)\"><text style=\"text-align:center; text-anchor:middle; dominant-baseline:middle;&#10;                      font-family:sans-serif; font-weight: bold;&#10;                      font-size:0.9px;&#10;                      vector-effect: non-scaling-stroke;\" transform=\"translate(-5e-05, 0)\">1</text></g></g></g></g></g><g transform=\"matrix(1.0, 0.0, 0.0, 1.0, 10.0, 0.0)\"><g transform=\"matrix(1.0, 0.0, 0.0, 1.0, 0.975, 0.0)\"><g><g style=\"fill: #bfbf00;stroke: black;stroke-width: 0.0;\" transform=\"matrix(1.0, 0.0, 0.0, 1.0, -0.975, -0.45)\"><path d=\"M 0.0 0.0 L 1.95 0.0 L 1.95 0.9 L 0.0 0.9 L 0.0 0.0 Z\" style=\"vector-effect: non-scaling-stroke;\" /></g><g style=\"fill: #bfbf00;stroke: black;stroke-width: 0.9;\" transform=\"matrix(1.0, 0.0, 0.0, 1.0, 0.0, 0.1)\"><text style=\"text-align:center; text-anchor:middle; dominant-baseline:middle;&#10;                      font-family:sans-serif; font-weight: bold;&#10;                      font-size:0.9px;&#10;                      vector-effect: non-scaling-stroke;\" transform=\"translate(-5e-05, 0)\">1</text></g></g></g></g></g><g transform=\"matrix(1.0, 0.0, 0.0, 1.0, 12.0, 0.0)\"><g transform=\"matrix(1.0, 0.0, 0.0, 1.0, 0.975, 0.0)\"><g><g style=\"fill: #bfbf00;stroke: black;stroke-width: 0.0;fill-opacity: 0.2;\" transform=\"matrix(1.0, 0.0, 0.0, 1.0, -0.975, -0.45)\"><path d=\"M 0.0 0.0 L 1.95 0.0 L 1.95 0.9 L 0.0 0.9 L 0.0 0.0 Z\" style=\"vector-effect: non-scaling-stroke;\" /></g><g style=\"fill: #bfbf00;stroke: black;stroke-width: 0.9;fill-opacity: 0.2;\" transform=\"matrix(1.0, 0.0, 0.0, 1.0, 0.0, 0.1)\"><text style=\"text-align:center; text-anchor:middle; dominant-baseline:middle;&#10;                      font-family:sans-serif; font-weight: bold;&#10;                      font-size:0.9px;&#10;                      vector-effect: non-scaling-stroke;\" transform=\"translate(-5e-05, 0)\">1</text></g></g></g></g></g><g transform=\"matrix(1.0, 0.0, 0.0, 1.0, 14.0, 0.0)\"><g transform=\"matrix(1.0, 0.0, 0.0, 1.0, 0.975, 0.0)\"><g><g style=\"fill: #008000;stroke: black;stroke-width: 0.0;fill-opacity: 0.2;\" transform=\"matrix(1.0, 0.0, 0.0, 1.0, -0.975, -0.45)\"><path d=\"M 0.0 0.0 L 1.95 0.0 L 1.95 0.9 L 0.0 0.9 L 0.0 0.0 Z\" style=\"vector-effect: non-scaling-stroke;\" /></g><g style=\"fill: #008000;stroke: black;stroke-width: 0.9;fill-opacity: 0.2;\" transform=\"matrix(1.0, 0.0, 0.0, 1.0, 0.0, 0.1)\"><text style=\"text-align:center; text-anchor:middle; dominant-baseline:middle;&#10;                      font-family:sans-serif; font-weight: bold;&#10;                      font-size:0.9px;&#10;                      vector-effect: non-scaling-stroke;\" transform=\"translate(-5e-05, 0)\">1</text></g></g></g></g></g><g transform=\"matrix(1.0, 0.0, 0.0, 1.0, 16.0, 0.0)\"><g transform=\"matrix(1.0, 0.0, 0.0, 1.0, 0.975, 0.0)\"><g><g style=\"fill: #008000;stroke: black;stroke-width: 0.0;\" transform=\"matrix(1.0, 0.0, 0.0, 1.0, -0.975, -0.45)\"><path d=\"M 0.0 0.0 L 1.95 0.0 L 1.95 0.9 L 0.0 0.9 L 0.0 0.0 Z\" style=\"vector-effect: non-scaling-stroke;\" /></g><g style=\"fill: #008000;stroke: black;stroke-width: 0.9;\" transform=\"matrix(1.0, 0.0, 0.0, 1.0, 0.0, 0.1)\"><text style=\"text-align:center; text-anchor:middle; dominant-baseline:middle;&#10;                      font-family:sans-serif; font-weight: bold;&#10;                      font-size:0.9px;&#10;                      vector-effect: non-scaling-stroke;\" transform=\"translate(-5e-05, 0)\">2</text></g></g></g></g></g><g transform=\"matrix(1.0, 0.0, 0.0, 1.0, 18.0, 0.0)\"><g transform=\"matrix(1.0, 0.0, 0.0, 1.0, 0.975, 0.0)\"><g><g style=\"fill: #bfbf00;stroke: black;stroke-width: 0.0;\" transform=\"matrix(1.0, 0.0, 0.0, 1.0, -0.975, -0.45)\"><path d=\"M 0.0 0.0 L 1.95 0.0 L 1.95 0.9 L 0.0 0.9 L 0.0 0.0 Z\" style=\"vector-effect: non-scaling-stroke;\" /></g><g style=\"fill: #bfbf00;stroke: black;stroke-width: 0.9;\" transform=\"matrix(1.0, 0.0, 0.0, 1.0, 0.0, 0.1)\"><text style=\"text-align:center; text-anchor:middle; dominant-baseline:middle;&#10;                      font-family:sans-serif; font-weight: bold;&#10;                      font-size:0.9px;&#10;                      vector-effect: non-scaling-stroke;\" transform=\"translate(-5e-05, 0)\">2</text></g></g></g></g></g><g transform=\"matrix(1.0, 0.0, 0.0, 1.0, 20.0, 0.0)\"><g transform=\"matrix(1.0, 0.0, 0.0, 1.0, 0.975, 0.0)\"><g><g style=\"fill: #bfbf00;stroke: black;stroke-width: 0.0;fill-opacity: 0.2;\" transform=\"matrix(1.0, 0.0, 0.0, 1.0, -0.975, -0.45)\"><path d=\"M 0.0 0.0 L 1.95 0.0 L 1.95 0.9 L 0.0 0.9 L 0.0 0.0 Z\" style=\"vector-effect: non-scaling-stroke;\" /></g><g style=\"fill: #bfbf00;stroke: black;stroke-width: 0.9;fill-opacity: 0.2;\" transform=\"matrix(1.0, 0.0, 0.0, 1.0, 0.0, 0.1)\"><text style=\"text-align:center; text-anchor:middle; dominant-baseline:middle;&#10;                      font-family:sans-serif; font-weight: bold;&#10;                      font-size:0.9px;&#10;                      vector-effect: non-scaling-stroke;\" transform=\"translate(-5e-05, 0)\">2</text></g></g></g></g></g><g transform=\"matrix(1.0, 0.0, 0.0, 1.0, 22.0, 0.0)\"><g transform=\"matrix(1.0, 0.0, 0.0, 1.0, 0.975, 0.0)\"><g><g style=\"fill: #008000;stroke: black;stroke-width: 0.0;fill-opacity: 0.2;\" transform=\"matrix(1.0, 0.0, 0.0, 1.0, -0.975, -0.45)\"><path d=\"M 0.0 0.0 L 1.95 0.0 L 1.95 0.9 L 0.0 0.9 L 0.0 0.0 Z\" style=\"vector-effect: non-scaling-stroke;\" /></g><g style=\"fill: #008000;stroke: black;stroke-width: 0.9;fill-opacity: 0.2;\" transform=\"matrix(1.0, 0.0, 0.0, 1.0, 0.0, 0.1)\"><text style=\"text-align:center; text-anchor:middle; dominant-baseline:middle;&#10;                      font-family:sans-serif; font-weight: bold;&#10;                      font-size:0.9px;&#10;                      vector-effect: non-scaling-stroke;\" transform=\"translate(-5e-05, 0)\">2</text></g></g></g></g></g><g transform=\"matrix(1.0, 0.0, 0.0, 1.0, 24.0, 0.0)\"><g transform=\"matrix(1.0, 0.0, 0.0, 1.0, 0.975, 0.0)\"><g><g style=\"fill: #008000;stroke: black;stroke-width: 0.0;\" transform=\"matrix(1.0, 0.0, 0.0, 1.0, -0.975, -0.45)\"><path d=\"M 0.0 0.0 L 1.95 0.0 L 1.95 0.9 L 0.0 0.9 L 0.0 0.0 Z\" style=\"vector-effect: non-scaling-stroke;\" /></g><g style=\"fill: #008000;stroke: black;stroke-width: 0.9;\" transform=\"matrix(1.0, 0.0, 0.0, 1.0, 0.0, 0.1)\"><text style=\"text-align:center; text-anchor:middle; dominant-baseline:middle;&#10;                      font-family:sans-serif; font-weight: bold;&#10;                      font-size:0.9px;&#10;                      vector-effect: non-scaling-stroke;\" transform=\"translate(-5e-05, 0)\">3</text></g></g></g></g></g><g transform=\"matrix(1.0, 0.0, 0.0, 1.0, 26.0, 0.0)\"><g transform=\"matrix(1.0, 0.0, 0.0, 1.0, 0.975, 0.0)\"><g><g style=\"fill: #bfbf00;stroke: black;stroke-width: 0.0;\" transform=\"matrix(1.0, 0.0, 0.0, 1.0, -0.975, -0.45)\"><path d=\"M 0.0 0.0 L 1.95 0.0 L 1.95 0.9 L 0.0 0.9 L 0.0 0.0 Z\" style=\"vector-effect: non-scaling-stroke;\" /></g><g style=\"fill: #bfbf00;stroke: black;stroke-width: 0.9;\" transform=\"matrix(1.0, 0.0, 0.0, 1.0, 0.0, 0.1)\"><text style=\"text-align:center; text-anchor:middle; dominant-baseline:middle;&#10;                      font-family:sans-serif; font-weight: bold;&#10;                      font-size:0.9px;&#10;                      vector-effect: non-scaling-stroke;\" transform=\"translate(-5e-05, 0)\">3</text></g></g></g></g></g><g transform=\"matrix(1.0, 0.0, 0.0, 1.0, 28.0, 0.0)\"><g transform=\"matrix(1.0, 0.0, 0.0, 1.0, 0.975, 0.0)\"><g><g style=\"fill: #bfbf00;stroke: black;stroke-width: 0.0;fill-opacity: 0.2;\" transform=\"matrix(1.0, 0.0, 0.0, 1.0, -0.975, -0.45)\"><path d=\"M 0.0 0.0 L 1.95 0.0 L 1.95 0.9 L 0.0 0.9 L 0.0 0.0 Z\" style=\"vector-effect: non-scaling-stroke;\" /></g><g style=\"fill: #bfbf00;stroke: black;stroke-width: 0.9;fill-opacity: 0.2;\" transform=\"matrix(1.0, 0.0, 0.0, 1.0, 0.0, 0.1)\"><text style=\"text-align:center; text-anchor:middle; dominant-baseline:middle;&#10;                      font-family:sans-serif; font-weight: bold;&#10;                      font-size:0.9px;&#10;                      vector-effect: non-scaling-stroke;\" transform=\"translate(-5e-05, 0)\">3</text></g></g></g></g></g><g transform=\"matrix(1.0, 0.0, 0.0, 1.0, 30.0, 0.0)\"><g transform=\"matrix(1.0, 0.0, 0.0, 1.0, 0.975, 0.0)\"><g><g style=\"fill: #008000;stroke: black;stroke-width: 0.0;fill-opacity: 0.2;\" transform=\"matrix(1.0, 0.0, 0.0, 1.0, -0.975, -0.45)\"><path d=\"M 0.0 0.0 L 1.95 0.0 L 1.95 0.9 L 0.0 0.9 L 0.0 0.0 Z\" style=\"vector-effect: non-scaling-stroke;\" /></g><g style=\"fill: #008000;stroke: black;stroke-width: 0.9;fill-opacity: 0.2;\" transform=\"matrix(1.0, 0.0, 0.0, 1.0, 0.0, 0.1)\"><text style=\"text-align:center; text-anchor:middle; dominant-baseline:middle;&#10;                      font-family:sans-serif; font-weight: bold;&#10;                      font-size:0.9px;&#10;                      vector-effect: non-scaling-stroke;\" transform=\"translate(-5e-05, 0)\">3</text></g></g></g></g></g><g transform=\"matrix(1.0, 0.0, 0.0, 1.0, 32.0, 0.0)\"><g transform=\"matrix(1.0, 0.0, 0.0, 1.0, 0.475, 0.0)\"><g><g style=\"fill: #ffff00;stroke: black;stroke-width: 0.0;fill-opacity: 0.5;\" transform=\"matrix(1.0, 0.0, 0.0, 1.0, -0.475, -0.45)\"><path d=\"M 0.0 0.0 L 0.95 0.0 L 0.95 0.9 L 0.0 0.9 L 0.0 0.0 Z\" style=\"vector-effect: non-scaling-stroke;\" /></g><g style=\"fill: #ffff00;stroke: black;stroke-width: 0.9;fill-opacity: 0.5;\" transform=\"matrix(1.0, 0.0, 0.0, 1.0, 0.0, 0.1)\"><text style=\"text-align:center; text-anchor:middle; dominant-baseline:middle;&#10;                      font-family:sans-serif; font-weight: bold;&#10;                      font-size:0.9px;&#10;                      vector-effect: non-scaling-stroke;\" transform=\"translate(-5e-05, 0)\" /></g></g></g></g></g><g transform=\"matrix(1.0, 0.0, 0.0, 1.0, 33.0, 0.0)\"><g transform=\"matrix(1.0, 0.0, 0.0, 1.0, 0.475, 0.0)\"><g><g style=\"fill: #ffff00;stroke: black;stroke-width: 0.0;fill-opacity: 0.5;\" transform=\"matrix(1.0, 0.0, 0.0, 1.0, -0.475, -0.45)\"><path d=\"M 0.0 0.0 L 0.95 0.0 L 0.95 0.9 L 0.0 0.9 L 0.0 0.0 Z\" style=\"vector-effect: non-scaling-stroke;\" /></g><g style=\"fill: #ffff00;stroke: black;stroke-width: 0.9;fill-opacity: 0.5;\" transform=\"matrix(1.0, 0.0, 0.0, 1.0, 0.0, 0.1)\"><text style=\"text-align:center; text-anchor:middle; dominant-baseline:middle;&#10;                      font-family:sans-serif; font-weight: bold;&#10;                      font-size:0.9px;&#10;                      vector-effect: non-scaling-stroke;\" transform=\"translate(-5e-05, 0)\" /></g></g></g></g></g><g transform=\"matrix(1.0, 0.0, 0.0, 1.0, 0.0, 0.5)\"><g transform=\"matrix(0.0, -1.0, 1.0, 0.0, 0.0, 0.0)\"><g /></g></g></g><g transform=\"matrix(1.0, 0.0, 0.0, 1.0, 0.0, 1.5)\"><g><g><g transform=\"matrix(1.0, 0.0, 0.0, 1.0, -0.0, -0.0)\"><g><g transform=\"matrix(1.0, 0.0, 0.0, 1.0, -0.0, -0.0)\"><g><g transform=\"matrix(1.0, 0.0, 0.0, 1.0, -0.0, -0.0)\"><g><g transform=\"matrix(1.0, 0.0, 0.0, 1.0, -0.0, -0.0)\"><g><g transform=\"matrix(1.0, 0.0, 0.0, 1.0, -0.0, -0.0)\"><g><g transform=\"matrix(1.0, 0.0, 0.0, 1.0, -0.0, -0.0)\"><g><g transform=\"matrix(1.0, 0.0, 0.0, 1.0, -0.0, -0.0)\"><g><g transform=\"matrix(1.0, 0.0, 0.0, 1.0, -0.0, -0.0)\"><g><g transform=\"matrix(1.0, 0.0, 0.0, 1.0, -0.0, -0.0)\"><g><g transform=\"matrix(1.0, 0.0, 0.0, 1.0, -0.0, -0.0)\"><g><g transform=\"matrix(1.0, 0.0, 0.0, 1.0, -0.0, -0.0)\"><g><g transform=\"matrix(1.0, 0.0, 0.0, 1.0, -0.0, -0.0)\"><g><g transform=\"matrix(1.0, 0.0, 0.0, 1.0, -0.0, -0.0)\"><g><g transform=\"matrix(1.0, 0.0, 0.0, 1.0, -0.0, -0.0)\"><g><g transform=\"matrix(1.0, 0.0, 0.0, 1.0, -0.0, -0.0)\"><g><g transform=\"matrix(1.0, 0.0, 0.0, 1.0, -0.0, -0.0)\"><g><g transform=\"matrix(1.0, 0.0, 0.0, 1.0, -0.0, -0.0)\"><g><g transform=\"matrix(1.0, 0.0, 0.0, 1.0, -0.0, -0.0)\"><g><g transform=\"matrix(1.0, 0.0, 0.0, 1.0, -0.0, -0.0)\"><g><g transform=\"matrix(1.0, 0.0, 0.0, 1.0, -0.0, -0.0)\"><g><g transform=\"matrix(1.0, 0.0, 0.0, 1.0, -0.0, -0.0)\"><g><g transform=\"matrix(1.0, 0.0, 0.0, 1.0, -0.0, -0.5)\"><g><g style=\"fill: #ffffff;stroke: black;stroke-width: 1.8;\" transform=\"matrix(1.0, 0.0, 0.0, 1.0, 0.0, -0.5)\"><path d=\"M 0.0 0.0 L 35.0 0.0 L 35.0 1.0 L 0.0 1.0 L 0.0 0.0 Z\" style=\"vector-effect: non-scaling-stroke;\" /></g><g transform=\"matrix(1.0, 0.0, 0.0, 1.0, -2.0, 0.0)\"><g><g style=\"fill: #808080;stroke: black;stroke-width: 0.0;\" transform=\"matrix(1.0, 0.0, 0.0, 1.0, 0.0, 0.0)\"><text style=\"text-align:center; text-anchor:middle; dominant-baseline:middle;&#10;                      font-family:sans-serif; font-weight: bold;&#10;                      font-size:1px;&#10;                      vector-effect: non-scaling-stroke;\" transform=\"translate(-5e-05, 0)\">0</text></g><g /></g></g></g></g><g style=\"fill: #808080;stroke: black;stroke-width: 0.0;\" transform=\"matrix(1.0, 0.0, 0.0, 1.0, 0.0, -0.4)\"><path d=\"M 0.0 0.0 L 2.0 0.0 L 2.0 0.4 L 0.0 0.4 L 0.0 0.0 Z\" style=\"vector-effect: non-scaling-stroke;\" /></g></g></g><g style=\"fill: #808080;stroke: black;stroke-width: 0.0;\" transform=\"matrix(1.0, 0.0, 0.0, 1.0, 2.0, -0.4444444444444444)\"><path d=\"M 0.0 0.0 L 2.0 0.0 L 2.0 0.4444444444444444 L 0.0 0.4444444444444444 L 0.0 0.0 Z\" style=\"vector-effect: non-scaling-stroke;\" /></g></g></g><g style=\"fill: #808080;stroke: black;stroke-width: 0.0;\" transform=\"matrix(1.0, 0.0, 0.0, 1.0, 4.0, -0.4888888888888889)\"><path d=\"M 0.0 0.0 L 0.0 0.0 L 0.0 0.4888888888888889 L 0.0 0.4888888888888889 L 0.0 0.0 Z\" style=\"vector-effect: non-scaling-stroke;\" /></g></g></g><g style=\"fill: #808080;stroke: black;stroke-width: 0.0;\" transform=\"matrix(1.0, 0.0, 0.0, 1.0, 4.0, -0.4888888888888889)\"><path d=\"M 0.0 0.0 L 2.0 0.0 L 2.0 0.4888888888888889 L 0.0 0.4888888888888889 L 0.0 0.0 Z\" style=\"vector-effect: non-scaling-stroke;\" /></g></g></g><g style=\"fill: #808080;stroke: black;stroke-width: 0.0;\" transform=\"matrix(1.0, 0.0, 0.0, 1.0, 6.0, -0.5333333333333333)\"><path d=\"M 0.0 0.0 L 2.0 0.0 L 2.0 0.5333333333333333 L 0.0 0.5333333333333333 L 0.0 0.0 Z\" style=\"vector-effect: non-scaling-stroke;\" /></g></g></g><g style=\"fill: #808080;stroke: black;stroke-width: 0.0;\" transform=\"matrix(1.0, 0.0, 0.0, 1.0, 8.0, -0.5777777777777777)\"><path d=\"M 0.0 0.0 L 2.0 0.0 L 2.0 0.5777777777777777 L 0.0 0.5777777777777777 L 0.0 0.0 Z\" style=\"vector-effect: non-scaling-stroke;\" /></g></g></g><g style=\"fill: #808080;stroke: black;stroke-width: 0.0;\" transform=\"matrix(1.0, 0.0, 0.0, 1.0, 10.0, -0.6222222222222222)\"><path d=\"M 0.0 0.0 L 2.0 0.0 L 2.0 0.6222222222222222 L 0.0 0.6222222222222222 L 0.0 0.0 Z\" style=\"vector-effect: non-scaling-stroke;\" /></g></g></g><g style=\"fill: #808080;stroke: black;stroke-width: 0.0;\" transform=\"matrix(1.0, 0.0, 0.0, 1.0, 12.0, -0.6666666666666666)\"><path d=\"M 0.0 0.0 L 0.0 0.0 L 0.0 0.6666666666666666 L 0.0 0.6666666666666666 L 0.0 0.0 Z\" style=\"vector-effect: non-scaling-stroke;\" /></g></g></g><g style=\"fill: #808080;stroke: black;stroke-width: 0.0;\" transform=\"matrix(1.0, 0.0, 0.0, 1.0, 12.0, -0.6666666666666666)\"><path d=\"M 0.0 0.0 L 2.0 0.0 L 2.0 0.6666666666666666 L 0.0 0.6666666666666666 L 0.0 0.0 Z\" style=\"vector-effect: non-scaling-stroke;\" /></g></g></g><g style=\"fill: #808080;stroke: black;stroke-width: 0.0;\" transform=\"matrix(1.0, 0.0, 0.0, 1.0, 14.0, -0.6222222222222222)\"><path d=\"M 0.0 0.0 L 2.0 0.0 L 2.0 0.6222222222222222 L 0.0 0.6222222222222222 L 0.0 0.0 Z\" style=\"vector-effect: non-scaling-stroke;\" /></g></g></g><g style=\"fill: #808080;stroke: black;stroke-width: 0.0;\" transform=\"matrix(1.0, 0.0, 0.0, 1.0, 16.0, -0.5777777777777777)\"><path d=\"M 0.0 0.0 L 2.0 0.0 L 2.0 0.5777777777777777 L 0.0 0.5777777777777777 L 0.0 0.0 Z\" style=\"vector-effect: non-scaling-stroke;\" /></g></g></g><g style=\"fill: #808080;stroke: black;stroke-width: 0.0;\" transform=\"matrix(1.0, 0.0, 0.0, 1.0, 18.0, -0.6222222222222222)\"><path d=\"M 0.0 0.0 L 2.0 0.0 L 2.0 0.6222222222222222 L 0.0 0.6222222222222222 L 0.0 0.0 Z\" style=\"vector-effect: non-scaling-stroke;\" /></g></g></g><g style=\"fill: #808080;stroke: black;stroke-width: 0.0;\" transform=\"matrix(1.0, 0.0, 0.0, 1.0, 20.0, -0.6666666666666666)\"><path d=\"M 0.0 0.0 L 0.0 0.0 L 0.0 0.6666666666666666 L 0.0 0.6666666666666666 L 0.0 0.0 Z\" style=\"vector-effect: non-scaling-stroke;\" /></g></g></g><g style=\"fill: #808080;stroke: black;stroke-width: 0.0;\" transform=\"matrix(1.0, 0.0, 0.0, 1.0, 20.0, -0.6666666666666666)\"><path d=\"M 0.0 0.0 L 2.0 0.0 L 2.0 0.6666666666666666 L 0.0 0.6666666666666666 L 0.0 0.0 Z\" style=\"vector-effect: non-scaling-stroke;\" /></g></g></g><g style=\"fill: #808080;stroke: black;stroke-width: 0.0;\" transform=\"matrix(1.0, 0.0, 0.0, 1.0, 22.0, -0.6222222222222222)\"><path d=\"M 0.0 0.0 L 2.0 0.0 L 2.0 0.6222222222222222 L 0.0 0.6222222222222222 L 0.0 0.0 Z\" style=\"vector-effect: non-scaling-stroke;\" /></g></g></g><g style=\"fill: #808080;stroke: black;stroke-width: 0.0;\" transform=\"matrix(1.0, 0.0, 0.0, 1.0, 24.0, -0.5777777777777777)\"><path d=\"M 0.0 0.0 L 2.0 0.0 L 2.0 0.5777777777777777 L 0.0 0.5777777777777777 L 0.0 0.0 Z\" style=\"vector-effect: non-scaling-stroke;\" /></g></g></g><g style=\"fill: #808080;stroke: black;stroke-width: 0.0;\" transform=\"matrix(1.0, 0.0, 0.0, 1.0, 26.0, -0.6222222222222222)\"><path d=\"M 0.0 0.0 L 2.0 0.0 L 2.0 0.6222222222222222 L 0.0 0.6222222222222222 L 0.0 0.0 Z\" style=\"vector-effect: non-scaling-stroke;\" /></g></g></g><g style=\"fill: #808080;stroke: black;stroke-width: 0.0;\" transform=\"matrix(1.0, 0.0, 0.0, 1.0, 28.0, -0.6666666666666666)\"><path d=\"M 0.0 0.0 L 0.0 0.0 L 0.0 0.6666666666666666 L 0.0 0.6666666666666666 L 0.0 0.0 Z\" style=\"vector-effect: non-scaling-stroke;\" /></g></g></g><g style=\"fill: #808080;stroke: black;stroke-width: 0.0;\" transform=\"matrix(1.0, 0.0, 0.0, 1.0, 28.0, -0.6666666666666666)\"><path d=\"M 0.0 0.0 L 2.0 0.0 L 2.0 0.6666666666666666 L 0.0 0.6666666666666666 L 0.0 0.0 Z\" style=\"vector-effect: non-scaling-stroke;\" /></g></g></g><g style=\"fill: #808080;stroke: black;stroke-width: 0.0;\" transform=\"matrix(1.0, 0.0, 0.0, 1.0, 30.0, -0.6222222222222222)\"><path d=\"M 0.0 0.0 L 2.0 0.0 L 2.0 0.6222222222222222 L 0.0 0.6222222222222222 L 0.0 0.0 Z\" style=\"vector-effect: non-scaling-stroke;\" /></g></g></g><g style=\"fill: #808080;stroke: black;stroke-width: 0.0;\" transform=\"matrix(1.0, 0.0, 0.0, 1.0, 32.0, -0.5333333333333333)\"><path d=\"M 0.0 0.0 L 1.0 0.0 L 1.0 0.5333333333333333 L 0.0 0.5333333333333333 L 0.0 0.0 Z\" style=\"vector-effect: non-scaling-stroke;\" /></g></g></g><g style=\"fill: #808080;stroke: black;stroke-width: 0.0;\" transform=\"matrix(1.0, 0.0, 0.0, 1.0, 33.0, -0.4444444444444444)\"><path d=\"M 0.0 0.0 L 1.0 0.0 L 1.0 0.4444444444444444 L 0.0 0.4444444444444444 L 0.0 0.0 Z\" style=\"vector-effect: non-scaling-stroke;\" /></g></g><g style=\"stroke: #ff0000;stroke-width: 1.8;\" transform=\"matrix(1.0, 0.0, 0.0, 1.0, 11.95, -1.0)\"><path d=\"M 0.0 0.0 L 0.1 0.0 L 0.1 1.0 L 0.0 1.0 L 0.0 0.0 Z\" style=\"vector-effect: non-scaling-stroke;\" /></g></g></g></g></g></g></g></g><g /></g></g></g></g></svg>"
          },
          "metadata": {},
          "execution_count": 90
        }
      ],
      "source": [
        "draw([out])"
      ]
    },
    {
      "cell_type": "code",
      "execution_count": 91,
      "id": "28cf8167",
      "metadata": {
        "id": "28cf8167",
        "colab": {
          "base_uri": "https://localhost:8080/",
          "height": 444
        },
        "outputId": "d82248a6-4304-44a7-ae81-15b0b9008d8e"
      },
      "outputs": [
        {
          "output_type": "stream",
          "name": "stdout",
          "text": [
            "Correct!\n"
          ]
        },
        {
          "output_type": "execute_result",
          "data": {
            "text/plain": [
              "<IPython.core.display.HTML object>"
            ],
            "text/html": [
              "\n",
              "        <video alt=\"test\" controls autoplay=1>\n",
              "            <source src=\"https://openpuppies.com/mp4/Eq2uMTA.mp4\"  type=\"video/mp4\">\n",
              "        </video>\n",
              "        "
            ]
          },
          "metadata": {},
          "execution_count": 91
        }
      ],
      "source": [
        "Model.check([out])"
      ]
    },
    {
      "cell_type": "markdown",
      "id": "ccfb345c",
      "metadata": {
        "id": "ccfb345c"
      },
      "source": [
        "## Communications: AllReduce"
      ]
    },
    {
      "cell_type": "markdown",
      "id": "17383602",
      "metadata": {
        "id": "17383602"
      },
      "source": [
        "When working with multiple GPUs we need to have communication.\n",
        "The primary communication primitives for GPUs are implemented in NCCL.\n",
        "\n",
        "https://docs.nvidia.com/deeplearning/nccl/user-guide/docs/usage/operations.html\n",
        "\n",
        "We are not going to use these directly, but simulate them using Python and asyncio.\n",
        "\n",
        "The first operation is AllReduce. We will have 4 GPUs (ranks=4) and use them each to compute a batch of weight grads."
      ]
    },
    {
      "cell_type": "code",
      "execution_count": null,
      "id": "1f7bb767",
      "metadata": {
        "id": "1f7bb767"
      },
      "outputs": [],
      "source": [
        "ranks = 4\n",
        "weight_grads = [WeightGrad(0, 1, {i}, ranks) for i in range(ranks)]\n",
        "weight_grads[0] + weight_grads[1] + weight_grads[2] + weight_grads[3]"
      ]
    },
    {
      "cell_type": "code",
      "execution_count": null,
      "id": "ef0232db",
      "metadata": {
        "id": "ef0232db"
      },
      "outputs": [],
      "source": [
        "# Simple asynchronous function that calls allreduce to sum the weight grads at layer 0\n",
        "async def myfunc(model: Model) -> WeightGrad:\n",
        "    return await model.allreduce(weight_grads[model.rank], 0)"
      ]
    },
    {
      "cell_type": "code",
      "execution_count": null,
      "id": "43a91ae4",
      "metadata": {
        "id": "43a91ae4"
      },
      "outputs": [],
      "source": [
        "# This code uses asyncio to run the above function on 4 \"GPUs\" .\n",
        "dist = Dist(ranks)\n",
        "out_weight_grads = await asyncio.gather(*[\n",
        "    myfunc(Model(layers=1, batches=1, rank=i, dist=dist))\n",
        "    for i in range(ranks)])\n",
        "out_weight_grads[0]"
      ]
    },
    {
      "cell_type": "markdown",
      "id": "73d4ee90",
      "metadata": {
        "id": "73d4ee90"
      },
      "source": [
        "Note: When running communication operations like AllReduce on a GPU, the communication happens in parallel to the computation on that GPU. That means the API for AllReduce does not block, and allows the model to continue running while waiting for this command to run. This means it is beneficial to run AllReduce (and other communication) as early as possible so that other compute can be run during the reduction.\n",
        "\n",
        "We will ignore this in these puzzles and represent communication as happening efficiently."
      ]
    },
    {
      "cell_type": "markdown",
      "id": "1020523e",
      "metadata": {
        "id": "1020523e"
      },
      "source": [
        "### Puzzle 2 - Distributed Data Parallel\n",
        "\n",
        "Write a function with four parts. First run on batches {0} and then {1} etc. Sum the grad weights and then update. The main benefit of this approach is compute efficiency over gradient accumulation.\n",
        "\n",
        "* Total Steps: 5\n",
        "* Total Memory: 1800000"
      ]
    },
    {
      "cell_type": "code",
      "execution_count": null,
      "id": "f492668c",
      "metadata": {
        "lines_to_next_cell": 2,
        "id": "f492668c"
      },
      "outputs": [],
      "source": [
        "async def ddp(model: Model) -> Model:\n",
        "    # Storage on device.\n",
        "    weights, opt_states, activations, grad_activations, grad_weights = model.storage()\n",
        "    # Load all the activations\n",
        "    model.activations[0] = model.get_activation([model.rank])\n",
        "\n",
        "    assert False, 'TODO: Implement me'\n",
        "    for l in range(model.LAYERS):\n",
        "        model.set_final_weight(l, weights[l])\n",
        "    return model"
      ]
    },
    {
      "cell_type": "code",
      "execution_count": null,
      "id": "d6ed44f7",
      "metadata": {
        "id": "d6ed44f7"
      },
      "outputs": [],
      "source": [
        "dist = Dist(ranks)\n",
        "out = await asyncio.gather(*[\n",
        "    ddp(Model(layers=2, batches=ranks, rank=i, dist=dist))\n",
        "    for i in range(ranks)])\n",
        "draw_group(out[0].final_weights)"
      ]
    },
    {
      "cell_type": "code",
      "execution_count": null,
      "id": "89411fad",
      "metadata": {
        "id": "89411fad"
      },
      "outputs": [],
      "source": [
        "draw(out)"
      ]
    },
    {
      "cell_type": "code",
      "execution_count": null,
      "id": "2df8166f",
      "metadata": {
        "id": "2df8166f"
      },
      "outputs": [],
      "source": [
        "Model.check(out)"
      ]
    },
    {
      "cell_type": "markdown",
      "id": "8c3df405",
      "metadata": {
        "id": "8c3df405"
      },
      "source": [
        "## Communication: AllGather / Sharding\n",
        "\n",
        "Our next primitive is AllGather. This allows us to communicate \"shards\" of an object stored on different GPUs to all the GPUs."
      ]
    },
    {
      "cell_type": "code",
      "execution_count": null,
      "id": "5b4bad85",
      "metadata": {
        "id": "5b4bad85"
      },
      "outputs": [],
      "source": [
        "# Load only part of a weights.\n",
        "model = Model(layers=2, batches=1, rank=0, dist=Dist(1))\n",
        "weight, _ = model.load_weights(0, shard=0, total=4)\n",
        "weight"
      ]
    },
    {
      "cell_type": "code",
      "execution_count": null,
      "id": "2597b152",
      "metadata": {
        "id": "2597b152"
      },
      "outputs": [],
      "source": [
        "# Combine togegher two shards on one machine.\n",
        "weights = [model.load_weights(0, shard=i, total=ranks)[0] for i in range(ranks)]\n",
        "weights[0].combine(weights[2])"
      ]
    },
    {
      "cell_type": "code",
      "execution_count": null,
      "id": "5e3d10b6",
      "metadata": {
        "id": "5e3d10b6"
      },
      "outputs": [],
      "source": [
        "# Use allgather to collect the shards from all machines.\n",
        "async def mygather(model: Model) -> WeightGrad:\n",
        "    # Allreduce sums together all the weight grads\n",
        "    return await model.allgather(weights[model.rank], 0)\n",
        "\n",
        "dist = Dist(ranks)\n",
        "out_weights = await asyncio.gather(*[\n",
        "    mygather(Model(layers=1, batches=1, rank=i, dist=dist))\n",
        "    for i in range(ranks)])\n",
        "out_weights[0]"
      ]
    },
    {
      "cell_type": "markdown",
      "id": "c3903613",
      "metadata": {
        "id": "c3903613"
      },
      "source": [
        "### Puzzle 3: Weight-Sharded Data Parallel\n",
        "\n",
        "Run a model that shards each layer weight over all the machines. Reconstruct the layer weight at each layer using allgather. Finally update the weights on each machine using allreduce.\n",
        "\n",
        "* Total Steps: 20\n",
        "* Total Memory: 2800000"
      ]
    },
    {
      "cell_type": "code",
      "execution_count": null,
      "id": "4b674be7",
      "metadata": {
        "id": "4b674be7"
      },
      "outputs": [],
      "source": [
        "async def wsdp(model: Model) -> Model:\n",
        "    # Storage on device.\n",
        "    weights, opt_states, activations, grad_activations, grad_weights = model.storage()\n",
        "\n",
        "    # Load all the activations\n",
        "    model.activations[0] = model.get_activation([model.rank])\n",
        "\n",
        "    # Load a shard of the weights for every layer. Load in the full weights\n",
        "    for l in range(model.LAYERS):\n",
        "        weights[l], opt_states[l] = model.load_weights(l, model.rank, model.RANKS)\n",
        "\n",
        "    assert False, 'TODO: Implement me'\n",
        "    for l in range(model.LAYERS):\n",
        "        model.set_final_weight(l, weights[l])\n",
        "\n",
        "    return model"
      ]
    },
    {
      "cell_type": "code",
      "execution_count": null,
      "id": "6c23a1eb",
      "metadata": {
        "id": "6c23a1eb"
      },
      "outputs": [],
      "source": [
        "dist = Dist(ranks)\n",
        "out = await asyncio.gather(*[\n",
        "    wsdp(Model(layers=6, batches=ranks, rank=i, dist=dist))\n",
        "    for i in range(ranks)])\n",
        "draw_group(out[1].final_weights)"
      ]
    },
    {
      "cell_type": "code",
      "execution_count": null,
      "id": "09731c67",
      "metadata": {
        "id": "09731c67"
      },
      "outputs": [],
      "source": [
        "draw(out)"
      ]
    },
    {
      "cell_type": "code",
      "execution_count": null,
      "id": "d3ff46b6",
      "metadata": {
        "id": "d3ff46b6"
      },
      "outputs": [],
      "source": [
        "Model.check(out)"
      ]
    },
    {
      "cell_type": "markdown",
      "id": "32243386",
      "metadata": {
        "id": "32243386"
      },
      "source": [
        "## Communication: Scatter-Reduce"
      ]
    },
    {
      "cell_type": "markdown",
      "id": "44610031",
      "metadata": {
        "id": "44610031"
      },
      "source": [
        "Scatter across shards\n",
        "Reduce across batches"
      ]
    },
    {
      "cell_type": "code",
      "execution_count": null,
      "id": "1034dbb9",
      "metadata": {
        "id": "1034dbb9"
      },
      "outputs": [],
      "source": [
        "grad_weight = WeightGrad(0, 1, batches={1}, total_batches=4,\n",
        "                         shards={1}, total=4)\n",
        "grad_weight"
      ]
    },
    {
      "cell_type": "code",
      "execution_count": null,
      "id": "02680e7e",
      "metadata": {
        "id": "02680e7e"
      },
      "outputs": [],
      "source": [
        "grad_weights = {i: WeightGrad(0, 1, batches={i}, total_batches=4,\n",
        "                         shards={0,1,2,3}, total=4) for i in range(4)}\n",
        "grad_weights[2]"
      ]
    },
    {
      "cell_type": "code",
      "execution_count": null,
      "id": "1498773a",
      "metadata": {
        "lines_to_next_cell": 0,
        "id": "1498773a"
      },
      "outputs": [],
      "source": [
        "async def scatterreduce(model: Model) -> WeightGrad:\n",
        "    # Allreduce sums together all the weight grads\n",
        "    return await model.scatterreduce(grad_weights[model.rank], 0)\n",
        "\n",
        "dist = Dist(ranks)\n",
        "out = await asyncio.gather(*[\n",
        "    scatterreduce(Model(layers=1, batches=1, rank=i, dist=dist))\n",
        "    for i in range(ranks)])\n",
        "out[0]"
      ]
    },
    {
      "cell_type": "code",
      "execution_count": null,
      "id": "261435f2",
      "metadata": {
        "lines_to_next_cell": 2,
        "id": "261435f2"
      },
      "outputs": [],
      "source": []
    },
    {
      "cell_type": "markdown",
      "id": "7e62da15",
      "metadata": {
        "id": "7e62da15"
      },
      "source": [
        "### Puzzle 4: Fully-Sharded Data Parallel\n",
        "\n",
        "Run a model that shards each layer weight over all the machines. Reconstruct the layer weight at each layer using allgather. Collect the gradients with scatter-reduce.\n",
        "\n",
        "* Total Steps: 20\n",
        "* Total Memory: 2300000"
      ]
    },
    {
      "cell_type": "code",
      "execution_count": null,
      "id": "43a35535",
      "metadata": {
        "lines_to_next_cell": 2,
        "id": "43a35535"
      },
      "outputs": [],
      "source": [
        "async def fsdp(model: Model) -> Model:\n",
        "    # Storage on device.\n",
        "    weights, opt_states, activations, grad_activations, grad_weights = model.storage()\n",
        "\n",
        "    # Load all the activations\n",
        "    model.activations[0] = model.get_activation([model.rank])\n",
        "\n",
        "    # Load a shard of the weights for every layer. Load in the full weights\n",
        "    for l in range(model.LAYERS):\n",
        "        weights[l], opt_states[l] = model.load_weights(l, model.rank, model.RANKS)\n",
        "\n",
        "    assert False, 'TODO: Implement me'\n",
        "    for l in range(model.LAYERS):\n",
        "        model.set_final_weight(l, weights[l])\n",
        "    return model"
      ]
    },
    {
      "cell_type": "code",
      "execution_count": null,
      "id": "dec61bda",
      "metadata": {
        "id": "dec61bda"
      },
      "outputs": [],
      "source": [
        "dist = Dist(ranks)\n",
        "out = await asyncio.gather(*[\n",
        "    fsdp(Model(layers=6, batches=ranks, rank=i, dist=dist))\n",
        "    for i in range(ranks)])\n",
        "draw_group(out[1].final_weights)"
      ]
    },
    {
      "cell_type": "code",
      "execution_count": null,
      "id": "b9f62f28",
      "metadata": {
        "id": "b9f62f28"
      },
      "outputs": [],
      "source": [
        "draw(out)"
      ]
    },
    {
      "cell_type": "code",
      "execution_count": null,
      "id": "3a527fc7",
      "metadata": {
        "id": "3a527fc7"
      },
      "outputs": [],
      "source": [
        "Model.check(out)"
      ]
    },
    {
      "cell_type": "markdown",
      "id": "0858bb4f",
      "metadata": {
        "id": "0858bb4f"
      },
      "source": [
        "## Communication: Point-to-Point\n",
        "\n",
        "An alternative approach to communication is to directly communicate specific information between GPUs. In our model, both GPUs talking to each other block and wait for the handoff."
      ]
    },
    {
      "cell_type": "code",
      "execution_count": null,
      "id": "de38df4d",
      "metadata": {
        "lines_to_next_cell": 2,
        "id": "de38df4d"
      },
      "outputs": [],
      "source": [
        "async def talk(model: Model) -> None:\n",
        "    if model.rank == 0:\n",
        "        await model.pass_to(1, \"extra cheese\")\n",
        "        val = await model.receive()\n",
        "        print(val)\n",
        "    else:\n",
        "        val = await model.receive()\n",
        "        print(val)\n",
        "        val = await model.pass_to(0, \"pizza\")\n",
        "\n",
        "dist = Dist(2)\n",
        "result = await asyncio.gather(*[\n",
        "    talk(Model(layers=1, batches=1, rank=i, dist=dist))\n",
        "    for i in range(2)])"
      ]
    },
    {
      "cell_type": "markdown",
      "id": "027b159c",
      "metadata": {
        "id": "027b159c"
      },
      "source": [
        "### Puzzle 5: Pipeline Parallelism\n",
        "\n",
        "Split the layer weights and optimizers equally between GPUs. Have each GPU handle only its layer. Pass the full set of batches for activations and grad_activations between layers using p2p communication. No need for any global communication.\n",
        "\n",
        "* Total Steps: 66\n",
        "* Total Memory: 3300000"
      ]
    },
    {
      "cell_type": "code",
      "execution_count": null,
      "id": "09feb2a6",
      "metadata": {
        "lines_to_next_cell": 2,
        "id": "09feb2a6"
      },
      "outputs": [],
      "source": [
        "async def pipeline(model: Model) -> Model:\n",
        "    weights, opt_states, activations, grad_activations, grad_weights = model.storage()\n",
        "    per_rank = model.LAYERS // model.RANKS\n",
        "    my_layers = list([l + (model.rank * per_rank) for l in range(per_rank)])\n",
        "    for l in my_layers:\n",
        "        weights[l], opt_states[l] = model.load_weights(l)\n",
        "    assert False, 'TODO: Implement me'\n",
        "    for l in my_layers:\n",
        "        model.set_final_weight(l, weights[l])\n",
        "    return model"
      ]
    },
    {
      "cell_type": "code",
      "execution_count": null,
      "id": "2e5c381b",
      "metadata": {
        "id": "2e5c381b"
      },
      "outputs": [],
      "source": [
        "dist = Dist(ranks)\n",
        "out = await asyncio.gather(*[\n",
        "    pipeline(Model(layers=8, batches=ranks, rank=i, dist=dist))\n",
        "    for i in range(ranks)])\n",
        "draw_group(out[1].final_weights)"
      ]
    },
    {
      "cell_type": "code",
      "execution_count": null,
      "id": "5a99ecad",
      "metadata": {
        "id": "5a99ecad"
      },
      "outputs": [],
      "source": [
        "draw(out)"
      ]
    },
    {
      "cell_type": "code",
      "execution_count": null,
      "id": "2b2f11d5",
      "metadata": {
        "id": "2b2f11d5"
      },
      "outputs": [],
      "source": [
        "Model.check(out)"
      ]
    },
    {
      "cell_type": "markdown",
      "id": "f6606efc",
      "metadata": {
        "id": "f6606efc"
      },
      "source": [
        "### Puzzle 6: GPipe Schedule\n",
        "\n",
        "A major issue with the pipeline approach is that it causes a \"bubble\", i.e. time in the later layers waiting for the earlier layers to complete. An alternative approach is to split the batches smaller so you can pass them earlier.\n",
        "\n",
        "In this puzzle, you should run each batch by itself, and then pass. The graph should look similar as the one above but with a smaller bubble.\n",
        "\n",
        "* Total Steps: 33\n",
        "* Total Memory: 4100000"
      ]
    },
    {
      "cell_type": "code",
      "execution_count": null,
      "id": "f5f33513",
      "metadata": {
        "lines_to_next_cell": 2,
        "id": "f5f33513"
      },
      "outputs": [],
      "source": [
        "async def gpipe(model: Model) -> Model:\n",
        "    weights, opt_states, activations, grad_activations, grad_weights = model.storage()\n",
        "    per_rank = model.LAYERS // model.RANKS\n",
        "    my_layers = list([l + (model.rank * per_rank) for l in range(per_rank)])\n",
        "    for l in my_layers:\n",
        "        weights[l], opt_states[l] = model.load_weights(l)\n",
        "\n",
        "    assert False, 'TODO: Implement me'\n",
        "    for l in my_layers:\n",
        "        model.set_final_weight(l, weights[l])\n",
        "\n",
        "    return model"
      ]
    },
    {
      "cell_type": "code",
      "execution_count": null,
      "id": "f5c73b29",
      "metadata": {
        "id": "f5c73b29"
      },
      "outputs": [],
      "source": [
        "dist = Dist(ranks)\n",
        "out = await asyncio.gather(*[\n",
        "    gpipe(Model(layers=8, batches=ranks, rank=i, dist=dist))\n",
        "    for i in range(ranks)])\n",
        "draw_group(out[1].final_weights)"
      ]
    },
    {
      "cell_type": "code",
      "execution_count": null,
      "id": "0e759da9",
      "metadata": {
        "id": "0e759da9"
      },
      "outputs": [],
      "source": [
        "draw(out)"
      ]
    },
    {
      "cell_type": "code",
      "execution_count": null,
      "id": "47d3102b",
      "metadata": {
        "lines_to_next_cell": 2,
        "id": "47d3102b"
      },
      "outputs": [],
      "source": [
        "Model.check(out)"
      ]
    },
    {
      "cell_type": "markdown",
      "id": "3a4bc062",
      "metadata": {
        "id": "3a4bc062"
      },
      "source": [
        "### Puzzle 7: Pipeline + FSDP\n",
        "\n",
        "As a last exercise, we can put everything together. Here we are going to run a combination of pipeline parallelism while also sharding our weight between 16 different machines. Here the model only has 4 layers, so we will assign 4 GPUs to each layer in the pipeline parallel approach.\n",
        "\n",
        "This example requires combining both collective communication and p2p communication effectively.\n",
        "\n",
        "* Total Steps: 15\n",
        "* Total Memory: 1000000"
      ]
    },
    {
      "cell_type": "code",
      "execution_count": null,
      "id": "34757c26",
      "metadata": {
        "id": "34757c26"
      },
      "outputs": [],
      "source": [
        "async def pipeline_fsdp(model: Model) -> Model:\n",
        "    weights, opt_states, activations, grad_activations, grad_weights = model.storage()\n",
        "    per_rank = model.LAYERS // (model.RANKS // 4)\n",
        "    my_layers = list([l + ((model.rank % 4)  * per_rank) for l in range(per_rank)])\n",
        "    for l in range(model.LAYERS):\n",
        "        weights[l, 0], opt_states[l, 0] = model.load_weights(l, model.rank, model.RANKS)\n",
        "    def empty_grad(l):\n",
        "        return model.fake_grad(l, [])\n",
        "    assert False, 'TODO: Implement me'\n",
        "    for l in range(model.LAYERS):\n",
        "        model.set_final_weight(l, weights[l])\n",
        "    # Update\n",
        "    return model"
      ]
    },
    {
      "cell_type": "code",
      "execution_count": null,
      "id": "35a0877b",
      "metadata": {
        "lines_to_next_cell": 2,
        "id": "35a0877b"
      },
      "outputs": [],
      "source": [
        "dist = Dist(16)\n",
        "out = await asyncio.gather(*[\n",
        "    pipeline_fsdp(Model(layers=4, batches=ranks, rank=i, dist=dist))\n",
        "    for i in range(16)])"
      ]
    },
    {
      "cell_type": "code",
      "execution_count": null,
      "id": "d93c6256",
      "metadata": {
        "id": "d93c6256"
      },
      "outputs": [],
      "source": [
        "Model.check(out)\n",
        "chalk.set_svg_height(1000)\n",
        "chalk.set_svg_draw_height(1000)\n",
        "\n",
        "draw(out)"
      ]
    },
    {
      "cell_type": "markdown",
      "id": "24393483",
      "metadata": {
        "id": "24393483"
      },
      "source": [
        "### When does it make sense to combine?\n",
        "\n",
        "The goal of these exercises is to give you a sense of the different methods out there for distributed training. However, there is not currently a one size fits all approach for distributed training. The right choice will depend on the constants such as batch size, memory per GPU, communication overhead, implementation complexity, model size, and specifics of architecture.\n",
        "\n",
        "As an example  of what's left to explore, this last method Pipeline + FSDP is often not a great choice due to the complexities of communication speed. And in fact GPipe + FSDP also gets you into a bad place. The paper [Breadth First Pipeline Parallelism](https://arxiv.org/pdf/2211.05953.pdf) proposes instead a combination of pipeline scheduling and communication. Here's what it looks like."
      ]
    },
    {
      "cell_type": "markdown",
      "id": "35c9493a",
      "metadata": {
        "id": "35c9493a"
      },
      "source": [
        "![image.png](https://github.com/srush/LLM-Training-Puzzles/assets/35882/f286089a-83bd-483c-b441-f154821d161c)"
      ]
    }
  ],
  "metadata": {
    "jupytext": {
      "cell_metadata_filter": "-all",
      "custom_cell_magics": "kql"
    },
    "kernelspec": {
      "display_name": "venv",
      "language": "python",
      "name": "python3"
    },
    "colab": {
      "provenance": [],
      "include_colab_link": true
    }
  },
  "nbformat": 4,
  "nbformat_minor": 5
}